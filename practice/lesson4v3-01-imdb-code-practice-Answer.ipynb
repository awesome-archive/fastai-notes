{
 "cells": [
  {
   "cell_type": "markdown",
   "metadata": {},
   "source": [
    "# IMDB"
   ]
  },
  {
   "cell_type": "code",
   "execution_count": 1,
   "metadata": {},
   "outputs": [
    {
     "name": "stdout",
     "output_type": "stream",
     "text": [
      "fastai 1.0.47\n"
     ]
    }
   ],
   "source": [
    "%reload_ext autoreload\n",
    "%autoreload 2\n",
    "%matplotlib inline\n",
    "get_ipython().config.get('IPKernelApp', {})['parent_appname'] = \"\"\n",
    "from fastai.text import *\n",
    "from fastai.version import __version__\n",
    "print('fastai', __version__)"
   ]
  },
  {
   "cell_type": "markdown",
   "metadata": {},
   "source": [
    "Rough steps:\n",
    "- train a language model\n",
    "    1. training data for lang model\n",
    "    1. create a lang model\n",
    "    1. train a lang model\n",
    "    1. finetune a lang model\n",
    "    1. export encoder\n",
    "    1. predict next words\n",
    "- train a classifier model\n",
    "    1. training data for classifier model\n",
    "    1. create a classifier model\n",
    "    1. load encoder from language model\n",
    "    1. train the model\n",
    "    1. finetune layer by layer\n",
    "    1. unfreeze all and train\n",
    "    1. predict pos vs neg"
   ]
  },
  {
   "cell_type": "markdown",
   "metadata": {},
   "source": [
    "## The data set\n",
    "\n",
    "The [dataset](http://ai.stanford.edu/~amaas/data/sentiment/) has been curated by Andrew Maas et al. and contains a total of 100,000 reviews on IMDB. 25,000 of them are labelled as positive and negative for training, another 25,000 are labelled for testing (in both cases they are highly polarized). The remaning 50,000 is an additional unlabelled data (but we will find a use for it nonetheless)."
   ]
  },
  {
   "cell_type": "code",
   "execution_count": 2,
   "metadata": {
    "scrolled": true
   },
   "outputs": [
    {
     "data": {
      "text/plain": [
       "[PosixPath('/home/paperspace/.fastai/data/imdb/data_clas.pkl'),\n",
       " PosixPath('/home/paperspace/.fastai/data/imdb/tmp_lm'),\n",
       " PosixPath('/home/paperspace/.fastai/data/imdb/test'),\n",
       " PosixPath('/home/paperspace/.fastai/data/imdb/tmp_clas'),\n",
       " PosixPath('/home/paperspace/.fastai/data/imdb/README'),\n",
       " PosixPath('/home/paperspace/.fastai/data/imdb/imdb.vocab'),\n",
       " PosixPath('/home/paperspace/.fastai/data/imdb/unsup'),\n",
       " PosixPath('/home/paperspace/.fastai/data/imdb/models'),\n",
       " PosixPath('/home/paperspace/.fastai/data/imdb/data_lm.pkl'),\n",
       " PosixPath('/home/paperspace/.fastai/data/imdb/train')]"
      ]
     },
     "execution_count": 2,
     "metadata": {},
     "output_type": "execute_result"
    }
   ],
   "source": [
    "# path = untar_data(URLs.IMDB)\n",
    "path = Path('/home/paperspace/.fastai/data/imdb')\n",
    "path.ls()"
   ]
  },
  {
   "cell_type": "code",
   "execution_count": null,
   "metadata": {},
   "outputs": [],
   "source": [
    "train = path.ls()[-1]\n",
    "train.ls()"
   ]
  },
  {
   "cell_type": "code",
   "execution_count": null,
   "metadata": {},
   "outputs": [],
   "source": [
    "train.ls()"
   ]
  },
  {
   "cell_type": "code",
   "execution_count": null,
   "metadata": {},
   "outputs": [],
   "source": [
    "test = path.ls()[2]\n",
    "test.ls()"
   ]
  },
  {
   "cell_type": "markdown",
   "metadata": {},
   "source": [
    "Dataset directory structure (training set):\n",
    "\n",
    "Positive reviews are in `pos` folder. Each review is a text file.\n",
    "\n",
    "Negative reviews are in `neg` folder. Each review is a text file.\n",
    "\n",
    "Unlabeled reviews are in `unsup` folder. Each review is a text file."
   ]
  },
  {
   "cell_type": "markdown",
   "metadata": {},
   "source": [
    "### Language model data\n",
    "\n",
    "[text.data docs](https://docs.fast.ai/text.data.html)"
   ]
  },
  {
   "cell_type": "code",
   "execution_count": 3,
   "metadata": {},
   "outputs": [],
   "source": [
    "# Set batch size to 16 to avoid running out of GPU ram later\n",
    "bs = 16"
   ]
  },
  {
   "cell_type": "code",
   "execution_count": 4,
   "metadata": {},
   "outputs": [],
   "source": [
    "# Don't run these lines during practice. It'll take too long.\n",
    "# Just run the next cell to load the data.\n",
    "data_lm = (TextList.from_folder(path)\n",
    "          .filter_by_folder(include=['train', 'test', 'unsup'])\n",
    "          .split_by_rand_pct(valid_pct=0.1)\n",
    "          .label_for_lm()\n",
    "          .databunch(bs=bs))"
   ]
  },
  {
   "cell_type": "code",
   "execution_count": null,
   "metadata": {},
   "outputs": [],
   "source": [
    "# Save\n",
    "# data_lm.save('data_lm.pkl')"
   ]
  },
  {
   "cell_type": "code",
   "execution_count": 4,
   "metadata": {},
   "outputs": [],
   "source": [
    "# Load language model data\n",
    "data_lm = load_data(path, fname='data_lm.pkl', bs=16)"
   ]
  },
  {
   "cell_type": "code",
   "execution_count": 5,
   "metadata": {
    "collapsed": true
   },
   "outputs": [
    {
     "data": {
      "text/html": [
       "<table border=\"1\" class=\"dataframe\">\n",
       "  <thead>\n",
       "    <tr style=\"text-align: right;\">\n",
       "      <th>idx</th>\n",
       "      <th>text</th>\n",
       "    </tr>\n",
       "  </thead>\n",
       "  <tbody>\n",
       "    <tr>\n",
       "      <td>0</td>\n",
       "      <td>with a narrator setting up every scene . xxmaj and boy does it drag . xxmaj scene after scene with nothing of any interest happening . xxmaj the special effects ( and i use the word \" special \" loosely ) consist of sock puppets . xxmaj yes , that 's right  sock puppets ! xxmaj the acting is abysmal . xxmaj angelika xxmaj jager is in the running</td>\n",
       "    </tr>\n",
       "    <tr>\n",
       "      <td>1</td>\n",
       "      <td>xxmaj the only ( deliberate ? ) grotesque in the piece was xxmaj gabriel , the brainwashed xxmaj presbyterian preacher played by xxmaj macfadyen , whose face is built in such a way as to suggest a permanent air of bewildered fury . xxmaj if i were kind , i would suggest that the xxmaj xxunk rantings of the preacher were a witty comment designed to make us despise xxmaj</td>\n",
       "    </tr>\n",
       "    <tr>\n",
       "      <td>2</td>\n",
       "      <td>this is not in the script , but we can forgive xxmaj miss xxmaj dressler 's excesses ; she is too good at it not to . xxmaj the story ends with a movement to the next thing , as distinct from resolution , which is n't the author 's cup of tea ; and those who like their films neatly worked out in the end will be disappointed by</td>\n",
       "    </tr>\n",
       "    <tr>\n",
       "      <td>3</td>\n",
       "      <td>go . i do n't think it will disappoint and if your kids enjoyed the aquatic world brought to them by xxmaj pixar 's xxmaj finding xxmaj nemo i 'm sure they will love this too . i just wish all television was this entertaining . xxbos xxmaj opera ( the xxup u.s. title is terror at the opera ) is somewhat of a letdown after some of xxmaj dario</td>\n",
       "    </tr>\n",
       "    <tr>\n",
       "      <td>4</td>\n",
       "      <td>look - alike xxmaj caviezel , and the great but short performance of xxmaj ron xxmaj perlman , it manages to be captivating . xxmaj we see far more swordplay than pulse rifle shoot - outs , so the sci - fi part of the film is largely suppressed to make way for the epic battle between the vikings and the xxunk , but that 's just how it must</td>\n",
       "    </tr>\n",
       "  </tbody>\n",
       "</table>"
      ],
      "text/plain": [
       "<IPython.core.display.HTML object>"
      ]
     },
     "metadata": {},
     "output_type": "display_data"
    }
   ],
   "source": [
    "data_lm.show_batch()"
   ]
  },
  {
   "cell_type": "markdown",
   "metadata": {},
   "source": [
    "### Language model"
   ]
  },
  {
   "cell_type": "code",
   "execution_count": 5,
   "metadata": {},
   "outputs": [],
   "source": [
    "learn_lm = language_model_learner(data_lm, arch=AWD_LSTM, drop_mult=0.3)"
   ]
  },
  {
   "cell_type": "code",
   "execution_count": 8,
   "metadata": {},
   "outputs": [
    {
     "data": {
      "text/html": [],
      "text/plain": [
       "<IPython.core.display.HTML object>"
      ]
     },
     "metadata": {},
     "output_type": "display_data"
    },
    {
     "name": "stdout",
     "output_type": "stream",
     "text": [
      "LR Finder is complete, type {learner_name}.recorder.plot() to see the graph.\n"
     ]
    }
   ],
   "source": [
    "learn_lm.lr_find()"
   ]
  },
  {
   "cell_type": "code",
   "execution_count": 9,
   "metadata": {},
   "outputs": [
    {
     "data": {
      "image/png": "[encoded data removed]",
      "text/plain": [
       "<Figure size 432x288 with 1 Axes>"
      ]
     },
     "metadata": {
      "needs_background": "light"
     },
     "output_type": "display_data"
    }
   ],
   "source": [
    "learn_lm.recorder.plot()"
   ]
  },
  {
   "cell_type": "code",
   "execution_count": 7,
   "metadata": {},
   "outputs": [],
   "source": [
    "lr = 1e-2\n",
    "# momentum will be explained in a later lesson.\n",
    "moms = (0.8, 0.7)"
   ]
  },
  {
   "cell_type": "markdown",
   "metadata": {},
   "source": [
    "#### Fit 1 cycle"
   ]
  },
  {
   "cell_type": "code",
   "execution_count": null,
   "metadata": {},
   "outputs": [],
   "source": [
    "# Don't execute during practice\n",
    "learn_lm.fit_one_cycle(cyc_len=1, max_lr=lr, moms=moms)"
   ]
  },
  {
   "cell_type": "code",
   "execution_count": null,
   "metadata": {},
   "outputs": [],
   "source": [
    "# Save\n",
    "# learn_lm.save('lm-stage1-fp32')"
   ]
  },
  {
   "cell_type": "code",
   "execution_count": 10,
   "metadata": {
    "collapsed": true
   },
   "outputs": [
    {
     "data": {
      "text/plain": [
       "LanguageLearner(data=TextLMDataBunch;\n",
       "\n",
       "Train: LabelList (90000 items)\n",
       "x: LMTextList\n",
       "xxbos xxmaj robot xxmaj holocaust is about the lamest , most pathetic attempt at making a post - apocalyptic movie that i 've seen . xxmaj and i thought the xxmaj italians were the masters of wretched xxmaj mad xxmaj max wannabes . xxmaj some of those movies like xxmaj escape 2000 are positively brilliant in comparison with this piece of poo . xxmaj the plot is nonsensical  even with a narrator setting up every scene . xxmaj and boy does it drag . xxmaj scene after scene with nothing of any interest happening . xxmaj the special effects ( and i use the word \" special \" loosely ) consist of sock puppets . xxmaj yes , that 's right  sock puppets ! xxmaj the acting is abysmal . xxmaj angelika xxmaj jager is in the running for worst performance i 've ever seen . xxmaj sure , she 's xxmaj french or xxmaj german or whatever  but man is she bad . i can not think of a single positive thing to say about the movie . xxmaj so i 'll stop there because ten sentences on this junk is about ten too many . \n",
       " \n",
       "  xxmaj however , and fortunately for me , i saw the xxup mst3 k version of xxmaj robot xxmaj holocaust . xxmaj some of the things that made the movie so bad helped make this xxup mst3 k episode a winner . xxmaj for a season one episode , the riffs come fast and furious and hit their mark just about every time . xxmaj on my xxup mst3 k rating scale , i give this episode a 4 / 5  seek it out .,xxbos i 'm working my way through the xxmaj horror xxmaj classics 50 xxmaj movie xxmaj pack xxmaj collection and xxup the xxup mad xxup monster is one of the movies in the set . \n",
       " \n",
       "  i am sure that xxmaj george xxmaj zucco was a good actor ; but , this was only the second film in which i saw him , the first being xxup dead xxup men xxup walk , in which he played two parts . xxmaj however , even good acting could n't save xxup the xxup mad xxup monster . \n",
       " \n",
       "  xxmaj zucco plays a mad scientist , xxmaj dr. xxmaj cameron ( who was banned from academia because of his unethical and inhumane experiments ) . xxmaj he believes that he can control evolution by bringing out the characteristics of one animal into another . \n",
       " \n",
       "  xxmaj in this case , like so many others of its ilk , it is a transfusion of ( i assume ) wolf 's blood into humans . xxmaj his goal is to create an invincible army , which he can control through the antidote . xxmaj the subject of his experiments is his hired hand , a retarded gardener , whose dialogue slows down this snail - paced classic to almost a full - stop . \n",
       " \n",
       "  xxmaj beyond his experiments , xxmaj dr. xxmaj cameron also plots revenge on those who discredited him , using his transformed gardener . xxmaj however , he loses control of his subject , who begins to transform without the transfusion -- yikes ! \n",
       " \n",
       "  xxmaj the werewolf transformations are classic xxmaj hollywood stop - action / makeup effects . xxmaj no doubt these were groundbreaking techniques of the time ; but , in today 's digital age it 's hard to imagine audiences being scared by this .,xxbos i did have some expectations from this film because 1 . xxmaj it was a xxmaj yash raj production 2 . xxmaj when the songs were first shown on xxup tv , they seemed catchy 3 . xxmaj the star ( ? ? ! ) cast was new . xxmaj well , i must tell u that i just could n't sit through this movie . xxmaj uday , ( with his red lips - what were the make up artists thinking ? ? ? ! ) tries hard to look cool but fails miserably . i wo n't even get started on his acting ( if u can call it that ) . ' xxmaj cleavage queen ' xxmaj tanisha with all her screaming and ranting n raving just makes you want to pull your hair out in frustration . i think xxmaj uday was slightly more tolerable than her ! xxmaj she seriously needs to take acting lessons from her sister . xxmaj the story is pathetic ... the same old tried and tested formula . xxmaj absolutely no originality . xxmaj there is nothing worth watching in this movie . xxmaj makes me wonder why it was made in the first place !,xxbos i thought this would be funny . i did . i do n't know what happened . xxmaj but i think a lot of the problem unfortunately falls with the casting . i do n't know who this kid is , he could be a very nice person but he was n't right for this movie . xxmaj and the supporting cast was great which only makes it more obvious . xxmaj for example there would be a scene with him and his love interest and your mind just starts to wander off but then xxmaj keith xxmaj david starts speaking , or xxmaj leslie xxmaj nielsen , or xxmaj marion xxmaj ross , and it 's like someone turned a light on and suddenly you can pay attention again and you think it might not be that bad . xxmaj but when they get back to the main characters the lights go out again . \n",
       " \n",
       "  xxmaj the spoofing material available in the superhero genre is plentiful so the fact that most of the jokes were basically a fart , makes you wonder who wrote this thing . i mean it had a couple of funny bits , as i do remember laughing a couple of times , but right now i do n't remember why and it was only a few days ago . \n",
       " \n",
       "  xxmaj really i 'm giving it a take it or leave it rating but i think most people should just leave it .,xxbos xxmaj if anyone tells you this picture is just terrific they probably have something to do with either making it or profiting from it . xxmaj this film is a real loser and it copies situations from big budget horror movies and not to mention soundtracks to . i would n't recommend this one to my worst enemy . xxmaj it is a low budget movie with amateur actors . xxmaj it looks like it was filmed for a film contest . xxmaj the acting is terrible and it would n't surprise me if the script was written by a xxmaj hee xxmaj haw script writer . xxmaj my family laughed at it . a xxmaj grade xxrep 13 z all the way . xxmaj you wo n't be scared by this one . xxmaj here is one little taste of the terrible elements of this film . xxmaj when the guy gets his toe stomped by xxmaj ric xxmaj white 's stupid portrayal of the xxmaj reverend xxmaj james xxmaj johnston walking cane . xxmaj the guys reactions are like if he had an amputation with no pain killer . xxmaj watch the xxup dvd extras after you watch the movie . xxmaj when you see xxmaj ric xxmaj white and others talk so seriously about the movie you will laugh till your stomach hurts . xxmaj how people will stretch the truth and what they will do to earn a dishonest buck . xxmaj do n't get fooled like we did and buy this failure .\n",
       "y: LMLabelList\n",
       ",,,,\n",
       "Path: /home/paperspace/.fastai/data/imdb;\n",
       "\n",
       "Valid: LabelList (10000 items)\n",
       "x: LMTextList\n",
       "xxbos xxmaj seriously , xxmaj sci - xxmaj fi needs to stop making movies . xxmaj they 're all horrible . xxmaj and this one had xxmaj john xxmaj rhys - xxmaj davies in it , and he could n't help the movie . xxmaj dr. xxmaj pena ( xxmaj giancarlo xxmaj esposito ) captures the legendary goat eater of xxmaj mexico , the chupacabra , and brings it aboard a cruise ship captained by xxmaj captain xxmaj rudolf ( xxmaj john xxmaj rhys - xxmaj davies ) . xxmaj the creature then escapes and starts killing crew and passengers . xxmaj captain xxmaj rudolf and the crew then go after the creature , guns xxunk ' . xxmaj but they ca n't stop it . xxmaj so they call in the navy . xxmaj they ca n't stop it either . xxmaj then the thing kills all 5 ( or however many of them there are ) . xxmaj then the captain and his daughter along with some other guy , figure out how to kill it . xxmaj stay away from this movie . xxmaj the chupacabra looks incredibly cheesy , the navy men shoot at the slightest movement , throw grenades on the ship , and the acting is horrible . 3 / 10 .,xxbos xxmaj first off , this is an excellent series , though we have sort of a xxmaj james xxmaj bond effect . xxmaj what i mean is that while the new xxmaj casino xxmaj royale takes place in 2006 , it is chronologically the first adventure of 007 , xxmaj dr. xxmaj no ( 1962 ) being the second , while in xxmaj golden xxmaj eye , the first film with xxmaj pierce xxmaj brosnan , xxmaj judi xxmaj dench is referred to as the new replacement for the male \" m \" so how could she have been in place in the beginning before xxmaj bond became a xxunk , aside from the fact that she is obviously 14 years older ? xxmaj this is more or less a \" poetic \" license to thrill . xxmaj we need to turn our heads aside a bit if we wish to be entertained . xxmaj no , the new xxmaj star xxmaj trek movie does not have any of the primitive electronics of the original series from nearly half a century ago . xxmaj in the 1960 's xxunk were fantasy . ( now we call them cell phones ) and there were sliding levers instead of buttons . xxup omg , do you think 400 years from now , they would have perfected xxmaj xxunk for xxmaj jean - xxmaj luc xxmaj picard ? xxmaj so , please , let 's give the producers some leeway . \n",
       " \n",
       "  xxmaj but to try and make things a bit consistent , let us just ponder about the xxmaj cylons creation just 60 years prior to the end of xxmaj battlestar xxmaj galactica . xxmaj if that is the case , where did all the xxmaj cylons that populated the original earth come from ? xxmaj we know that the technology exists for spontaneous jumps through space . xxmaj well , what happened if one of the xxmaj xxunk ships at war with the xxmaj caprica fleet was fired upon or there was a xxunk or whatever and one ship , loaded with human - looking xxmaj cylons , wound up not only jumping through space , but through time , back a thousand or ten thousand years with a crippled ship near xxmaj earth xxmaj one . xxmaj they colonized it , found out they could repopulate it and eventually destroyed themselves , but not before they themselves sent out a \" ragtag \" fleet to search for the legendary xxmaj caprica , only to find a habitable but xxunk planet , which they colonized to become the humans , who eventually invented the xxmaj cylons . xxmaj time paradox ? xxmaj of course . xxmaj which came first , the chicken or the road ? xxmaj who cares ? xxmaj it 's xxunk entertaining !,xxbos * * * xxup spoilers * * * * * * xxup spoilers * * * xxmaj there must have been something in the air in the immediate postwar years that made night cities attractive settings for movies . a gaggle of nocturnal , urban films were made at that time , and not just in xxmaj america . xxmaj one of the most notable was xxmaj carol xxmaj reed 's xxmaj odd xxmaj man xxmaj out , an xxmaj english picture about a wounded gunman staggering through the streets of xxmaj belfast . xxmaj in xxmaj america it was the high noon , or more properly , high midnight , of film noir . \n",
       " \n",
       "  xxmaj crossfire is n't really film noir , but has the trappings of noir , though it uses them for its own aims , which have to do with bigotry . xxmaj directed by xxmaj edward xxmaj dmytryk , written by xxmaj john xxmaj paxton , it was adapted from a novel by xxmaj richard xxmaj brooks . xxmaj the book concerned the murder of a homosexual ; in the movie the victim is changed to a xxmaj jew . xxmaj though filmed like a mystery there is little suspense in the film , as it is fairly obvious who the murderer is early on . xxmaj what makes the film so watchable and beautiful is its evocation of a city , xxmaj washington , xxup d.c. , just after xxmaj world xxmaj war xxup ii , by some of the most gifted craftsmen working in films at that time . xxmaj unlike many night movies xxmaj crossfire is set mostly indoors : in police stations , rooming houses and all - night movie theaters . xxmaj soldiers are everywhere in the film , and most are itching to get back to their civilian lives . xxmaj yet one senses , from most of the men we meet , that their personalities have been so shaped by their military experience it 's going to be tough for them to return to their old neighborhoods ; for some maybe even impossible . xxmaj they seem more bound to one another than to anything or anyone else . \n",
       " \n",
       "  xxmaj yet some men never truly bonded with anyone in the military . xxmaj the murderer , xxmaj monty , is one such individual . xxmaj one senses that he was never connected in his civilian life , either . xxmaj he is a lone wolf who also needs people . xxmaj desperately alone , he has a sadistic streak a mile wide , and always needs someone nearby to be the butt of his jokes . xxmaj the man he kills did him no harm , and was in fact a stranger to him . xxmaj but once xxmaj monty figured out the man 's religion , that was enough . xxmaj he did n't really mean to kill the guy , as it was his intent to ' merely ' humiliate him and just beat him up . xxmaj but as he was quite drunk at the time , xxmaj monty 's fists got the better of him . xxmaj it is this act that sets the story the story in motion . \n",
       " \n",
       "  xxmaj once the movie builds up a head of steam the other characters come rapidly into focus . xxmaj monty 's opposite number is xxmaj xxunk , another soldier , who , though introspective like xxmaj monty , and somewhat detached , harbors no resentment toward anyone and seems a reasonable , even amiable guy . xxmaj finley , the pipe - smoking homicide detective , is xxunk and a tad effete compared to the men in uniform , but proves more than a match for the various and mostly recalcitrant soldiers he deals with . xxmaj the actors who plays these roles , xxmaj roberts xxmaj ryan , xxmaj mitchum and xxmaj young , give excellent performances , each in a different key . xxmaj ryan , as xxmaj monty , is tense and paranoid , always looking around for someone to pick on ; and one can feel his anxiety over becoming a victim himself . xxmaj as xxmaj xxunk , xxmaj mitchum is low - key , almost nonchalant ; he never raises his voice ; and he seems to have more to say , more to offer , than is permitted by the script . xxmaj young 's performance has often been criticized as being too soft , but i find it deceptively strong and nicely offbeat . xxmaj he cuts against the stereotype of the hardboiled cop , and makes the character of xxmaj finley a bit of a prince of crime detection . \n",
       " \n",
       "  xxmaj there are few surprises in xxmaj crossfire , though the script is at times surprisingly well - written , even brilliant . xxmaj character actor xxmaj paul xxmaj kelly gives one of the best short performances in the movies as the ' boyfriend ' of a woman a soldier picks up in a bar . xxmaj kelly may or may not be her husband ; and he may or may not live with her , though he seems relaxed enough in her apartment . xxmaj the beauty of these scenes are that nothing is made clear , and this man himself seems more than a little confused over what his role is , was or ought to be . xxmaj in a way these few scenes form the thematic core of the film , which is xxunk . xxmaj with the exception of the detective all the men in the film are drifting , aimless and basically lost , some more seriously than others . xxmaj in this respect xxmaj crossfire is , for all the preaching near the end , a film about the vagueness of identity , and how easily it can be lost or warped . xxmaj men drift from one bar to another in this film , as they engage in a sort of xxunk camaraderie , their personalities merging into a kind of general xxmaj american male template . xxmaj then something happens , something is nailed down . a word is mentioned , whether ' xxmaj jew ' or ' hillbilly ' , and things suddenly turn tense , and the very notion of individuality , of an identity outside the group , of anyone not like them , becomes deeply offensive , even loathsome . xxmaj then , after tempers flare and whatever stirred them up has been resolved or forgotten , the men revert to their loose , non - personal group normality , and order is restored .,xxbos xxmaj full xxmaj house came to me when i was about 9 . i remember seeing re - runs of xxmaj america 's xxmaj funniest xxmaj home xxmaj videos with xxmaj bob xxmaj saget , and one day my mom told me that he was also in a show called xxmaj full xxmaj house . xxmaj one day , i was lucky enough to catch an episode while visiting family . xxmaj it did n't seem too interesting at first , but as i watched more and more , ever night at 9:00 , i would just be so into it . \n",
       " \n",
       "  xxmaj this show really makes you want to be there yourself , hang out with the girls , go places with them , and maybe even join in their little family \" sing - xxunk \" . \n",
       " \n",
       "  xxmaj the thing i like most about xxmaj full xxmaj house is that it 's a great show for kids xxup and adults of all ages . xxmaj there will be some parts that are more for adults , then parts that are meant for kids , so that the whole family will enjoy it . xxmaj no matter how cheesy it can be , it 's still a great show , and i would definitely recommend it to anyone . \n",
       " \n",
       "  10 / 10,xxbos xxmaj first of all , i 'd like to tell you that i 'm into comics , anime , animation and such stuff . xxmaj it is true that everyone has his own preferences , but you can trust me on this movie . i 'll be objective . xxmaj to begin with the story - it 's xxup ok . xxmaj follows the story line of the comic books as far as i 'm familiar with them . xxmaj but the animation ... xxmaj well , it 's not actually terrible , but it 's definitely cheap and mediocre . xxmaj it would be a lot better if they did n't try to imitate the anime style and sticked to the original comic book style drawings . xxmaj if we pretend not to see the rare sloppy effects like fire and xxunk you could tell that the movie is made about 10 years ago and even more . xxmaj looks a little bit like the original xxmaj vampire xxmaj hunter d from 1985 . xxmaj take a look at xxmaj heavy xxmaj metal xxup xxunk 2000 for instance - 4 years ago they made a movie that looks a hell lot better ! xxmaj in addition to this the voice talents do nothing remarkable , the music is nothing special . xxmaj so all in all - it lacks atmosphere . i watched it , but i can not tell i really enjoyed it . xxmaj it just does not capture you . xxmaj there 's plenty of blood and violence , but that does not impress me at all . xxmaj may be it will be shocking for someone who was never watched more mature oriented animations and sees animated blood for the first time ( is there anyone around ? ) , but i do n't think this is the audience for this movie . xxmaj so they could add a little nudity and spice to it . xxmaj the chicks around xxmaj lucifer were quite tasty , and hell , we have xxmaj lady xxmaj death herself ! xxmaj there are few sexy looks , but that 's not enough . xxmaj instead of xxmaj bill xxmaj brown 's music i think it would look better on a hard rock / heavy metal soundtrack . xxmaj all in all - the movie is n't that bad , but if you want something better take the original xxmaj heavy xxmaj metal , xxmaj heavy xxmaj metal xxup xxunk 2000 , xxmaj ralph xxmaj bakshi 's xxmaj fire and xxmaj ice or xxmaj wizards maybe . xxmaj and of course - xxmaj vampire xxmaj hunter d : xxmaj bloodlust\n",
       "y: LMLabelList\n",
       ",,,,\n",
       "Path: /home/paperspace/.fastai/data/imdb;\n",
       "\n",
       "Test: None, model=SequentialRNN(\n",
       "  (0): AWD_LSTM(\n",
       "    (encoder): Embedding(60003, 400, padding_idx=1)\n",
       "    (encoder_dp): EmbeddingDropout(\n",
       "      (emb): Embedding(60003, 400, padding_idx=1)\n",
       "    )\n",
       "    (rnns): ModuleList(\n",
       "      (0): WeightDropout(\n",
       "        (module): LSTM(400, 1150, batch_first=True)\n",
       "      )\n",
       "      (1): WeightDropout(\n",
       "        (module): LSTM(1150, 1150, batch_first=True)\n",
       "      )\n",
       "      (2): WeightDropout(\n",
       "        (module): LSTM(1150, 400, batch_first=True)\n",
       "      )\n",
       "    )\n",
       "    (input_dp): RNNDropout()\n",
       "    (hidden_dps): ModuleList(\n",
       "      (0): RNNDropout()\n",
       "      (1): RNNDropout()\n",
       "      (2): RNNDropout()\n",
       "    )\n",
       "  )\n",
       "  (1): LinearDecoder(\n",
       "    (decoder): Linear(in_features=400, out_features=60003, bias=True)\n",
       "    (output_dp): RNNDropout()\n",
       "  )\n",
       "), opt_func=functools.partial(<class 'torch.optim.adam.Adam'>, betas=(0.9, 0.99)), loss_func=FlattenedLoss of CrossEntropyLoss(), metrics=[<function accuracy at 0x7f7859801bf8>], true_wd=True, bn_wd=True, wd=0.01, train_bn=True, path=PosixPath('/home/paperspace/.fastai/data/imdb'), model_dir='models', callback_fns=[functools.partial(<class 'fastai.basic_train.Recorder'>, add_time=True)], callbacks=[RNNTrainer\n",
       "learn: ...\n",
       "alpha: 2.0\n",
       "beta: 1.0], layer_groups=[Sequential(\n",
       "  (0): WeightDropout(\n",
       "    (module): LSTM(400, 1150, batch_first=True)\n",
       "  )\n",
       "  (1): RNNDropout()\n",
       "), Sequential(\n",
       "  (0): WeightDropout(\n",
       "    (module): LSTM(1150, 1150, batch_first=True)\n",
       "  )\n",
       "  (1): RNNDropout()\n",
       "), Sequential(\n",
       "  (0): WeightDropout(\n",
       "    (module): LSTM(1150, 400, batch_first=True)\n",
       "  )\n",
       "  (1): RNNDropout()\n",
       "), Sequential(\n",
       "  (0): Embedding(60003, 400, padding_idx=1)\n",
       "  (1): EmbeddingDropout(\n",
       "    (emb): Embedding(60003, 400, padding_idx=1)\n",
       "  )\n",
       "  (2): LinearDecoder(\n",
       "    (decoder): Linear(in_features=400, out_features=60003, bias=True)\n",
       "    (output_dp): RNNDropout()\n",
       "  )\n",
       ")], add_time=True)"
      ]
     },
     "execution_count": 10,
     "metadata": {},
     "output_type": "execute_result"
    }
   ],
   "source": [
    "# Load\n",
    "learn_lm.load('lm-stage1-fp32')"
   ]
  },
  {
   "cell_type": "markdown",
   "metadata": {},
   "source": [
    "#### Finetune language model with our dataset"
   ]
  },
  {
   "cell_type": "code",
   "execution_count": 11,
   "metadata": {},
   "outputs": [
    {
     "data": {
      "text/html": [],
      "text/plain": [
       "<IPython.core.display.HTML object>"
      ]
     },
     "metadata": {},
     "output_type": "display_data"
    },
    {
     "name": "stdout",
     "output_type": "stream",
     "text": [
      "LR Finder is complete, type {learner_name}.recorder.plot() to see the graph.\n"
     ]
    },
    {
     "data": {
      "image/png": "[encoded data removed]",
      "text/plain": [
       "<Figure size 432x288 with 1 Axes>"
      ]
     },
     "metadata": {
      "needs_background": "light"
     },
     "output_type": "display_data"
    }
   ],
   "source": [
    "learn_lm.unfreeze()\n",
    "learn_lm.lr_find()\n",
    "learn_lm.recorder.plot()"
   ]
  },
  {
   "cell_type": "code",
   "execution_count": 12,
   "metadata": {},
   "outputs": [],
   "source": [
    "lr = 1e-3\n",
    "moms = (0.8, 0.7)"
   ]
  },
  {
   "cell_type": "markdown",
   "metadata": {},
   "source": [
    "#### Fit 1 cycle"
   ]
  },
  {
   "cell_type": "code",
   "execution_count": null,
   "metadata": {},
   "outputs": [],
   "source": [
    "# Don't execute during practice. Takes too long.\n",
    "learn_lm.fit_one_cycle(cyc_len=1, max_lr=lr, moms=moms)"
   ]
  },
  {
   "cell_type": "code",
   "execution_count": null,
   "metadata": {},
   "outputs": [],
   "source": [
    "# Save\n",
    "# learn_lm.save('lm-stage2-finetuned-fp32')"
   ]
  },
  {
   "cell_type": "code",
   "execution_count": 13,
   "metadata": {
    "collapsed": true
   },
   "outputs": [
    {
     "data": {
      "text/plain": [
       "LanguageLearner(data=TextLMDataBunch;\n",
       "\n",
       "Train: LabelList (90000 items)\n",
       "x: LMTextList\n",
       "xxbos xxmaj robot xxmaj holocaust is about the lamest , most pathetic attempt at making a post - apocalyptic movie that i 've seen . xxmaj and i thought the xxmaj italians were the masters of wretched xxmaj mad xxmaj max wannabes . xxmaj some of those movies like xxmaj escape 2000 are positively brilliant in comparison with this piece of poo . xxmaj the plot is nonsensical  even with a narrator setting up every scene . xxmaj and boy does it drag . xxmaj scene after scene with nothing of any interest happening . xxmaj the special effects ( and i use the word \" special \" loosely ) consist of sock puppets . xxmaj yes , that 's right  sock puppets ! xxmaj the acting is abysmal . xxmaj angelika xxmaj jager is in the running for worst performance i 've ever seen . xxmaj sure , she 's xxmaj french or xxmaj german or whatever  but man is she bad . i can not think of a single positive thing to say about the movie . xxmaj so i 'll stop there because ten sentences on this junk is about ten too many . \n",
       " \n",
       "  xxmaj however , and fortunately for me , i saw the xxup mst3 k version of xxmaj robot xxmaj holocaust . xxmaj some of the things that made the movie so bad helped make this xxup mst3 k episode a winner . xxmaj for a season one episode , the riffs come fast and furious and hit their mark just about every time . xxmaj on my xxup mst3 k rating scale , i give this episode a 4 / 5  seek it out .,xxbos i 'm working my way through the xxmaj horror xxmaj classics 50 xxmaj movie xxmaj pack xxmaj collection and xxup the xxup mad xxup monster is one of the movies in the set . \n",
       " \n",
       "  i am sure that xxmaj george xxmaj zucco was a good actor ; but , this was only the second film in which i saw him , the first being xxup dead xxup men xxup walk , in which he played two parts . xxmaj however , even good acting could n't save xxup the xxup mad xxup monster . \n",
       " \n",
       "  xxmaj zucco plays a mad scientist , xxmaj dr. xxmaj cameron ( who was banned from academia because of his unethical and inhumane experiments ) . xxmaj he believes that he can control evolution by bringing out the characteristics of one animal into another . \n",
       " \n",
       "  xxmaj in this case , like so many others of its ilk , it is a transfusion of ( i assume ) wolf 's blood into humans . xxmaj his goal is to create an invincible army , which he can control through the antidote . xxmaj the subject of his experiments is his hired hand , a retarded gardener , whose dialogue slows down this snail - paced classic to almost a full - stop . \n",
       " \n",
       "  xxmaj beyond his experiments , xxmaj dr. xxmaj cameron also plots revenge on those who discredited him , using his transformed gardener . xxmaj however , he loses control of his subject , who begins to transform without the transfusion -- yikes ! \n",
       " \n",
       "  xxmaj the werewolf transformations are classic xxmaj hollywood stop - action / makeup effects . xxmaj no doubt these were groundbreaking techniques of the time ; but , in today 's digital age it 's hard to imagine audiences being scared by this .,xxbos i did have some expectations from this film because 1 . xxmaj it was a xxmaj yash raj production 2 . xxmaj when the songs were first shown on xxup tv , they seemed catchy 3 . xxmaj the star ( ? ? ! ) cast was new . xxmaj well , i must tell u that i just could n't sit through this movie . xxmaj uday , ( with his red lips - what were the make up artists thinking ? ? ? ! ) tries hard to look cool but fails miserably . i wo n't even get started on his acting ( if u can call it that ) . ' xxmaj cleavage queen ' xxmaj tanisha with all her screaming and ranting n raving just makes you want to pull your hair out in frustration . i think xxmaj uday was slightly more tolerable than her ! xxmaj she seriously needs to take acting lessons from her sister . xxmaj the story is pathetic ... the same old tried and tested formula . xxmaj absolutely no originality . xxmaj there is nothing worth watching in this movie . xxmaj makes me wonder why it was made in the first place !,xxbos i thought this would be funny . i did . i do n't know what happened . xxmaj but i think a lot of the problem unfortunately falls with the casting . i do n't know who this kid is , he could be a very nice person but he was n't right for this movie . xxmaj and the supporting cast was great which only makes it more obvious . xxmaj for example there would be a scene with him and his love interest and your mind just starts to wander off but then xxmaj keith xxmaj david starts speaking , or xxmaj leslie xxmaj nielsen , or xxmaj marion xxmaj ross , and it 's like someone turned a light on and suddenly you can pay attention again and you think it might not be that bad . xxmaj but when they get back to the main characters the lights go out again . \n",
       " \n",
       "  xxmaj the spoofing material available in the superhero genre is plentiful so the fact that most of the jokes were basically a fart , makes you wonder who wrote this thing . i mean it had a couple of funny bits , as i do remember laughing a couple of times , but right now i do n't remember why and it was only a few days ago . \n",
       " \n",
       "  xxmaj really i 'm giving it a take it or leave it rating but i think most people should just leave it .,xxbos xxmaj if anyone tells you this picture is just terrific they probably have something to do with either making it or profiting from it . xxmaj this film is a real loser and it copies situations from big budget horror movies and not to mention soundtracks to . i would n't recommend this one to my worst enemy . xxmaj it is a low budget movie with amateur actors . xxmaj it looks like it was filmed for a film contest . xxmaj the acting is terrible and it would n't surprise me if the script was written by a xxmaj hee xxmaj haw script writer . xxmaj my family laughed at it . a xxmaj grade xxrep 13 z all the way . xxmaj you wo n't be scared by this one . xxmaj here is one little taste of the terrible elements of this film . xxmaj when the guy gets his toe stomped by xxmaj ric xxmaj white 's stupid portrayal of the xxmaj reverend xxmaj james xxmaj johnston walking cane . xxmaj the guys reactions are like if he had an amputation with no pain killer . xxmaj watch the xxup dvd extras after you watch the movie . xxmaj when you see xxmaj ric xxmaj white and others talk so seriously about the movie you will laugh till your stomach hurts . xxmaj how people will stretch the truth and what they will do to earn a dishonest buck . xxmaj do n't get fooled like we did and buy this failure .\n",
       "y: LMLabelList\n",
       ",,,,\n",
       "Path: /home/paperspace/.fastai/data/imdb;\n",
       "\n",
       "Valid: LabelList (10000 items)\n",
       "x: LMTextList\n",
       "xxbos xxmaj seriously , xxmaj sci - xxmaj fi needs to stop making movies . xxmaj they 're all horrible . xxmaj and this one had xxmaj john xxmaj rhys - xxmaj davies in it , and he could n't help the movie . xxmaj dr. xxmaj pena ( xxmaj giancarlo xxmaj esposito ) captures the legendary goat eater of xxmaj mexico , the chupacabra , and brings it aboard a cruise ship captained by xxmaj captain xxmaj rudolf ( xxmaj john xxmaj rhys - xxmaj davies ) . xxmaj the creature then escapes and starts killing crew and passengers . xxmaj captain xxmaj rudolf and the crew then go after the creature , guns xxunk ' . xxmaj but they ca n't stop it . xxmaj so they call in the navy . xxmaj they ca n't stop it either . xxmaj then the thing kills all 5 ( or however many of them there are ) . xxmaj then the captain and his daughter along with some other guy , figure out how to kill it . xxmaj stay away from this movie . xxmaj the chupacabra looks incredibly cheesy , the navy men shoot at the slightest movement , throw grenades on the ship , and the acting is horrible . 3 / 10 .,xxbos xxmaj first off , this is an excellent series , though we have sort of a xxmaj james xxmaj bond effect . xxmaj what i mean is that while the new xxmaj casino xxmaj royale takes place in 2006 , it is chronologically the first adventure of 007 , xxmaj dr. xxmaj no ( 1962 ) being the second , while in xxmaj golden xxmaj eye , the first film with xxmaj pierce xxmaj brosnan , xxmaj judi xxmaj dench is referred to as the new replacement for the male \" m \" so how could she have been in place in the beginning before xxmaj bond became a xxunk , aside from the fact that she is obviously 14 years older ? xxmaj this is more or less a \" poetic \" license to thrill . xxmaj we need to turn our heads aside a bit if we wish to be entertained . xxmaj no , the new xxmaj star xxmaj trek movie does not have any of the primitive electronics of the original series from nearly half a century ago . xxmaj in the 1960 's xxunk were fantasy . ( now we call them cell phones ) and there were sliding levers instead of buttons . xxup omg , do you think 400 years from now , they would have perfected xxmaj xxunk for xxmaj jean - xxmaj luc xxmaj picard ? xxmaj so , please , let 's give the producers some leeway . \n",
       " \n",
       "  xxmaj but to try and make things a bit consistent , let us just ponder about the xxmaj cylons creation just 60 years prior to the end of xxmaj battlestar xxmaj galactica . xxmaj if that is the case , where did all the xxmaj cylons that populated the original earth come from ? xxmaj we know that the technology exists for spontaneous jumps through space . xxmaj well , what happened if one of the xxmaj xxunk ships at war with the xxmaj caprica fleet was fired upon or there was a xxunk or whatever and one ship , loaded with human - looking xxmaj cylons , wound up not only jumping through space , but through time , back a thousand or ten thousand years with a crippled ship near xxmaj earth xxmaj one . xxmaj they colonized it , found out they could repopulate it and eventually destroyed themselves , but not before they themselves sent out a \" ragtag \" fleet to search for the legendary xxmaj caprica , only to find a habitable but xxunk planet , which they colonized to become the humans , who eventually invented the xxmaj cylons . xxmaj time paradox ? xxmaj of course . xxmaj which came first , the chicken or the road ? xxmaj who cares ? xxmaj it 's xxunk entertaining !,xxbos * * * xxup spoilers * * * * * * xxup spoilers * * * xxmaj there must have been something in the air in the immediate postwar years that made night cities attractive settings for movies . a gaggle of nocturnal , urban films were made at that time , and not just in xxmaj america . xxmaj one of the most notable was xxmaj carol xxmaj reed 's xxmaj odd xxmaj man xxmaj out , an xxmaj english picture about a wounded gunman staggering through the streets of xxmaj belfast . xxmaj in xxmaj america it was the high noon , or more properly , high midnight , of film noir . \n",
       " \n",
       "  xxmaj crossfire is n't really film noir , but has the trappings of noir , though it uses them for its own aims , which have to do with bigotry . xxmaj directed by xxmaj edward xxmaj dmytryk , written by xxmaj john xxmaj paxton , it was adapted from a novel by xxmaj richard xxmaj brooks . xxmaj the book concerned the murder of a homosexual ; in the movie the victim is changed to a xxmaj jew . xxmaj though filmed like a mystery there is little suspense in the film , as it is fairly obvious who the murderer is early on . xxmaj what makes the film so watchable and beautiful is its evocation of a city , xxmaj washington , xxup d.c. , just after xxmaj world xxmaj war xxup ii , by some of the most gifted craftsmen working in films at that time . xxmaj unlike many night movies xxmaj crossfire is set mostly indoors : in police stations , rooming houses and all - night movie theaters . xxmaj soldiers are everywhere in the film , and most are itching to get back to their civilian lives . xxmaj yet one senses , from most of the men we meet , that their personalities have been so shaped by their military experience it 's going to be tough for them to return to their old neighborhoods ; for some maybe even impossible . xxmaj they seem more bound to one another than to anything or anyone else . \n",
       " \n",
       "  xxmaj yet some men never truly bonded with anyone in the military . xxmaj the murderer , xxmaj monty , is one such individual . xxmaj one senses that he was never connected in his civilian life , either . xxmaj he is a lone wolf who also needs people . xxmaj desperately alone , he has a sadistic streak a mile wide , and always needs someone nearby to be the butt of his jokes . xxmaj the man he kills did him no harm , and was in fact a stranger to him . xxmaj but once xxmaj monty figured out the man 's religion , that was enough . xxmaj he did n't really mean to kill the guy , as it was his intent to ' merely ' humiliate him and just beat him up . xxmaj but as he was quite drunk at the time , xxmaj monty 's fists got the better of him . xxmaj it is this act that sets the story the story in motion . \n",
       " \n",
       "  xxmaj once the movie builds up a head of steam the other characters come rapidly into focus . xxmaj monty 's opposite number is xxmaj xxunk , another soldier , who , though introspective like xxmaj monty , and somewhat detached , harbors no resentment toward anyone and seems a reasonable , even amiable guy . xxmaj finley , the pipe - smoking homicide detective , is xxunk and a tad effete compared to the men in uniform , but proves more than a match for the various and mostly recalcitrant soldiers he deals with . xxmaj the actors who plays these roles , xxmaj roberts xxmaj ryan , xxmaj mitchum and xxmaj young , give excellent performances , each in a different key . xxmaj ryan , as xxmaj monty , is tense and paranoid , always looking around for someone to pick on ; and one can feel his anxiety over becoming a victim himself . xxmaj as xxmaj xxunk , xxmaj mitchum is low - key , almost nonchalant ; he never raises his voice ; and he seems to have more to say , more to offer , than is permitted by the script . xxmaj young 's performance has often been criticized as being too soft , but i find it deceptively strong and nicely offbeat . xxmaj he cuts against the stereotype of the hardboiled cop , and makes the character of xxmaj finley a bit of a prince of crime detection . \n",
       " \n",
       "  xxmaj there are few surprises in xxmaj crossfire , though the script is at times surprisingly well - written , even brilliant . xxmaj character actor xxmaj paul xxmaj kelly gives one of the best short performances in the movies as the ' boyfriend ' of a woman a soldier picks up in a bar . xxmaj kelly may or may not be her husband ; and he may or may not live with her , though he seems relaxed enough in her apartment . xxmaj the beauty of these scenes are that nothing is made clear , and this man himself seems more than a little confused over what his role is , was or ought to be . xxmaj in a way these few scenes form the thematic core of the film , which is xxunk . xxmaj with the exception of the detective all the men in the film are drifting , aimless and basically lost , some more seriously than others . xxmaj in this respect xxmaj crossfire is , for all the preaching near the end , a film about the vagueness of identity , and how easily it can be lost or warped . xxmaj men drift from one bar to another in this film , as they engage in a sort of xxunk camaraderie , their personalities merging into a kind of general xxmaj american male template . xxmaj then something happens , something is nailed down . a word is mentioned , whether ' xxmaj jew ' or ' hillbilly ' , and things suddenly turn tense , and the very notion of individuality , of an identity outside the group , of anyone not like them , becomes deeply offensive , even loathsome . xxmaj then , after tempers flare and whatever stirred them up has been resolved or forgotten , the men revert to their loose , non - personal group normality , and order is restored .,xxbos xxmaj full xxmaj house came to me when i was about 9 . i remember seeing re - runs of xxmaj america 's xxmaj funniest xxmaj home xxmaj videos with xxmaj bob xxmaj saget , and one day my mom told me that he was also in a show called xxmaj full xxmaj house . xxmaj one day , i was lucky enough to catch an episode while visiting family . xxmaj it did n't seem too interesting at first , but as i watched more and more , ever night at 9:00 , i would just be so into it . \n",
       " \n",
       "  xxmaj this show really makes you want to be there yourself , hang out with the girls , go places with them , and maybe even join in their little family \" sing - xxunk \" . \n",
       " \n",
       "  xxmaj the thing i like most about xxmaj full xxmaj house is that it 's a great show for kids xxup and adults of all ages . xxmaj there will be some parts that are more for adults , then parts that are meant for kids , so that the whole family will enjoy it . xxmaj no matter how cheesy it can be , it 's still a great show , and i would definitely recommend it to anyone . \n",
       " \n",
       "  10 / 10,xxbos xxmaj first of all , i 'd like to tell you that i 'm into comics , anime , animation and such stuff . xxmaj it is true that everyone has his own preferences , but you can trust me on this movie . i 'll be objective . xxmaj to begin with the story - it 's xxup ok . xxmaj follows the story line of the comic books as far as i 'm familiar with them . xxmaj but the animation ... xxmaj well , it 's not actually terrible , but it 's definitely cheap and mediocre . xxmaj it would be a lot better if they did n't try to imitate the anime style and sticked to the original comic book style drawings . xxmaj if we pretend not to see the rare sloppy effects like fire and xxunk you could tell that the movie is made about 10 years ago and even more . xxmaj looks a little bit like the original xxmaj vampire xxmaj hunter d from 1985 . xxmaj take a look at xxmaj heavy xxmaj metal xxup xxunk 2000 for instance - 4 years ago they made a movie that looks a hell lot better ! xxmaj in addition to this the voice talents do nothing remarkable , the music is nothing special . xxmaj so all in all - it lacks atmosphere . i watched it , but i can not tell i really enjoyed it . xxmaj it just does not capture you . xxmaj there 's plenty of blood and violence , but that does not impress me at all . xxmaj may be it will be shocking for someone who was never watched more mature oriented animations and sees animated blood for the first time ( is there anyone around ? ) , but i do n't think this is the audience for this movie . xxmaj so they could add a little nudity and spice to it . xxmaj the chicks around xxmaj lucifer were quite tasty , and hell , we have xxmaj lady xxmaj death herself ! xxmaj there are few sexy looks , but that 's not enough . xxmaj instead of xxmaj bill xxmaj brown 's music i think it would look better on a hard rock / heavy metal soundtrack . xxmaj all in all - the movie is n't that bad , but if you want something better take the original xxmaj heavy xxmaj metal , xxmaj heavy xxmaj metal xxup xxunk 2000 , xxmaj ralph xxmaj bakshi 's xxmaj fire and xxmaj ice or xxmaj wizards maybe . xxmaj and of course - xxmaj vampire xxmaj hunter d : xxmaj bloodlust\n",
       "y: LMLabelList\n",
       ",,,,\n",
       "Path: /home/paperspace/.fastai/data/imdb;\n",
       "\n",
       "Test: None, model=SequentialRNN(\n",
       "  (0): AWD_LSTM(\n",
       "    (encoder): Embedding(60003, 400, padding_idx=1)\n",
       "    (encoder_dp): EmbeddingDropout(\n",
       "      (emb): Embedding(60003, 400, padding_idx=1)\n",
       "    )\n",
       "    (rnns): ModuleList(\n",
       "      (0): WeightDropout(\n",
       "        (module): LSTM(400, 1150, batch_first=True)\n",
       "      )\n",
       "      (1): WeightDropout(\n",
       "        (module): LSTM(1150, 1150, batch_first=True)\n",
       "      )\n",
       "      (2): WeightDropout(\n",
       "        (module): LSTM(1150, 400, batch_first=True)\n",
       "      )\n",
       "    )\n",
       "    (input_dp): RNNDropout()\n",
       "    (hidden_dps): ModuleList(\n",
       "      (0): RNNDropout()\n",
       "      (1): RNNDropout()\n",
       "      (2): RNNDropout()\n",
       "    )\n",
       "  )\n",
       "  (1): LinearDecoder(\n",
       "    (decoder): Linear(in_features=400, out_features=60003, bias=True)\n",
       "    (output_dp): RNNDropout()\n",
       "  )\n",
       "), opt_func=functools.partial(<class 'torch.optim.adam.Adam'>, betas=(0.9, 0.99)), loss_func=FlattenedLoss of CrossEntropyLoss(), metrics=[<function accuracy at 0x7f7859801bf8>], true_wd=True, bn_wd=True, wd=0.01, train_bn=True, path=PosixPath('/home/paperspace/.fastai/data/imdb'), model_dir='models', callback_fns=[functools.partial(<class 'fastai.basic_train.Recorder'>, add_time=True)], callbacks=[RNNTrainer\n",
       "learn: ...\n",
       "alpha: 2.0\n",
       "beta: 1.0], layer_groups=[Sequential(\n",
       "  (0): WeightDropout(\n",
       "    (module): LSTM(400, 1150, batch_first=True)\n",
       "  )\n",
       "  (1): RNNDropout()\n",
       "), Sequential(\n",
       "  (0): WeightDropout(\n",
       "    (module): LSTM(1150, 1150, batch_first=True)\n",
       "  )\n",
       "  (1): RNNDropout()\n",
       "), Sequential(\n",
       "  (0): WeightDropout(\n",
       "    (module): LSTM(1150, 400, batch_first=True)\n",
       "  )\n",
       "  (1): RNNDropout()\n",
       "), Sequential(\n",
       "  (0): Embedding(60003, 400, padding_idx=1)\n",
       "  (1): EmbeddingDropout(\n",
       "    (emb): Embedding(60003, 400, padding_idx=1)\n",
       "  )\n",
       "  (2): LinearDecoder(\n",
       "    (decoder): Linear(in_features=400, out_features=60003, bias=True)\n",
       "    (output_dp): RNNDropout()\n",
       "  )\n",
       ")], add_time=True)"
      ]
     },
     "execution_count": 13,
     "metadata": {},
     "output_type": "execute_result"
    }
   ],
   "source": [
    "# Load\n",
    "learn_lm.load('lm-stage2-finetuned-fp32')"
   ]
  },
  {
   "cell_type": "markdown",
   "metadata": {},
   "source": [
    "#### Export encoder: `lm-finetuned-encoder-fp32`"
   ]
  },
  {
   "cell_type": "code",
   "execution_count": null,
   "metadata": {},
   "outputs": [],
   "source": [
    "# Don't execute during practice\n",
    "learn_lm.save_encoder('lm-finetuned-encoder-fp32')"
   ]
  },
  {
   "cell_type": "markdown",
   "metadata": {},
   "source": [
    "#### Next word prediction"
   ]
  },
  {
   "cell_type": "code",
   "execution_count": 25,
   "metadata": {
    "scrolled": true
   },
   "outputs": [
    {
     "name": "stdout",
     "output_type": "stream",
     "text": [
      "I liked this movie because it was great ! i ca n't remember who the name was in this movie . \n",
      " \n",
      "  It was so bad , but i found it HORRIBLE at worst . \n",
      " \n",
      "  The movie actually made me want to say that it was just bad . i can see why it was rated r for Pictures / Video , once i saw it for the first time , and am tired that i did n't see it again , the horrible movie was too bad . \n",
      " \n",
      "  It was extremely amateur to make Matthew\n"
     ]
    }
   ],
   "source": [
    "# Load the finetuned language model\n",
    "# learn_lm = load_learner('lm-stage2-finetuned-fp32')\n",
    "\n",
    "# Prediction args\n",
    "TEXT = \"I liked this movie because\"\n",
    "N_WORDS = 100\n",
    "N_SENTENCES = 1\n",
    "\n",
    "# Make predictions\n",
    "print(\"\\n\".join(learn_lm.predict(TEXT, N_WORDS, temperature=0.75) for _ in range(N_SENTENCES)))"
   ]
  },
  {
   "cell_type": "markdown",
   "metadata": {},
   "source": [
    "---"
   ]
  },
  {
   "cell_type": "markdown",
   "metadata": {},
   "source": [
    "## Classifier: training data\n",
    "\n",
    "This time, we'll create a databunch **with** labels."
   ]
  },
  {
   "cell_type": "code",
   "execution_count": 6,
   "metadata": {},
   "outputs": [],
   "source": [
    "# Don't execute during practice\n",
    "data = (TextList.from_folder(path, vocab=data_lm.vocab)\n",
    "       .split_by_folder(valid='test')\n",
    "       .label_from_folder(classes=['neg', 'pos'])\n",
    "       .databunch(bs=32))"
   ]
  },
  {
   "cell_type": "code",
   "execution_count": null,
   "metadata": {},
   "outputs": [],
   "source": [
    "# Save\n",
    "# data.save('data_clas.pkl')"
   ]
  },
  {
   "cell_type": "code",
   "execution_count": 14,
   "metadata": {},
   "outputs": [],
   "source": [
    "# Load\n",
    "data = load_data(path, fname='data_clas.pkl', bs=16)"
   ]
  },
  {
   "cell_type": "code",
   "execution_count": 27,
   "metadata": {
    "collapsed": true
   },
   "outputs": [
    {
     "data": {
      "text/html": [
       "<table border=\"1\" class=\"dataframe\">\n",
       "  <thead>\n",
       "    <tr style=\"text-align: right;\">\n",
       "      <th>text</th>\n",
       "      <th>target</th>\n",
       "    </tr>\n",
       "  </thead>\n",
       "  <tbody>\n",
       "    <tr>\n",
       "      <td>xxbos xxmaj match 1 : xxmaj tag xxmaj team xxmaj table xxmaj match xxmaj bubba xxmaj ray and xxmaj spike xxmaj dudley vs xxmaj eddie xxmaj guerrero and xxmaj chris xxmaj benoit xxmaj bubba xxmaj ray and xxmaj spike xxmaj dudley started things off with a xxmaj tag xxmaj team xxmaj table xxmaj match against xxmaj eddie xxmaj guerrero and xxmaj chris xxmaj benoit . xxmaj according to the rules</td>\n",
       "      <td>pos</td>\n",
       "    </tr>\n",
       "    <tr>\n",
       "      <td>xxbos xxmaj perspective is a good thing . xxmaj since the release of \" xxmaj star xxmaj wars xxmaj episode i : xxmaj the xxmaj phantom xxmaj menace \" , claims and counter - claims of just how xxmaj episode 's xxup ii and xxup iii will eventuate has taken the spotlight off the ' original ' xxmaj star xxmaj wars films , making them part of a cohesive whole</td>\n",
       "      <td>pos</td>\n",
       "    </tr>\n",
       "    <tr>\n",
       "      <td>xxbos xxmaj the effects of job related stress and the pressures born of a moral dilemma that pits conscience against the obligations of a family business ( albeit a unique one ) all brought to a head xxunk or perhaps the catalyst xxunk a midlife crisis , are examined in the dark and absorbing drama , ` xxmaj panic , ' written and directed by xxmaj henry xxmaj bromell ,</td>\n",
       "      <td>pos</td>\n",
       "    </tr>\n",
       "    <tr>\n",
       "      <td>xxbos i have to admit that i went into xxmaj fever xxmaj pitch with low expectations . xxmaj it 's no huge revelation for me to say that xxmaj jimmy xxmaj fallon 's last movie ( xxmaj taxi ) was xxmaj xxunk bad , and the trailers for xxmaj fever xxmaj pitch were all right but did n't mesmerize me . i was already preparing some cheesy baseball puns for</td>\n",
       "      <td>pos</td>\n",
       "    </tr>\n",
       "    <tr>\n",
       "      <td>xxbos xxmaj oftentimes , films of this nature come across as a mixed bag of great work along with slight drivel to fill the runtime . xxmaj whether it be the big name support or the project itself , xxmaj paris je t'aime never falls into this realm . i believe i can truly say that the movie as a whole is better than its parts . xxmaj between the</td>\n",
       "      <td>pos</td>\n",
       "    </tr>\n",
       "  </tbody>\n",
       "</table>"
      ],
      "text/plain": [
       "<IPython.core.display.HTML object>"
      ]
     },
     "metadata": {},
     "output_type": "display_data"
    }
   ],
   "source": [
    "data.show_batch()"
   ]
  },
  {
   "cell_type": "markdown",
   "metadata": {},
   "source": [
    "## Classifier: create a model\n",
    "\n",
    "Please restart the kernel."
   ]
  },
  {
   "cell_type": "code",
   "execution_count": 1,
   "metadata": {},
   "outputs": [],
   "source": [
    "# Restart the kernel and run these:\n",
    "%reload_ext autoreload\n",
    "%autoreload 2\n",
    "%matplotlib inline\n",
    "get_ipython().config.get('IPKernelApp', {})['parent_appname'] = \"\"\n",
    "from fastai.text import *\n",
    "\n",
    "path = Path('/home/paperspace/.fastai/data/imdb')\n",
    "data = load_data(path, fname='data_clas.pkl', bs=16)"
   ]
  },
  {
   "cell_type": "code",
   "execution_count": 2,
   "metadata": {
    "scrolled": true
   },
   "outputs": [
    {
     "data": {
      "text/plain": [
       "16"
      ]
     },
     "execution_count": 2,
     "metadata": {},
     "output_type": "execute_result"
    }
   ],
   "source": [
    "data.batch_size"
   ]
  },
  {
   "cell_type": "code",
   "execution_count": 3,
   "metadata": {},
   "outputs": [],
   "source": [
    "learn_clas = text_classifier_learner(data, arch=AWD_LSTM, drop_mult=0.5)"
   ]
  },
  {
   "cell_type": "code",
   "execution_count": 4,
   "metadata": {},
   "outputs": [
    {
     "data": {
      "text/plain": [
       "222432256"
      ]
     },
     "execution_count": 4,
     "metadata": {},
     "output_type": "execute_result"
    }
   ],
   "source": [
    "torch.cuda.memory_allocated()"
   ]
  },
  {
   "cell_type": "markdown",
   "metadata": {},
   "source": [
    "#### Load encoder from language model"
   ]
  },
  {
   "cell_type": "code",
   "execution_count": null,
   "metadata": {},
   "outputs": [],
   "source": [
    "# Save\n",
    "# learn_clas.load_encoder('lm-finetuned-encoder-fp32')"
   ]
  },
  {
   "cell_type": "code",
   "execution_count": 5,
   "metadata": {},
   "outputs": [],
   "source": [
    "# Load\n",
    "learn_clas.load_encoder('lm-finetuned-encoder')"
   ]
  },
  {
   "cell_type": "code",
   "execution_count": 6,
   "metadata": {
    "scrolled": true
   },
   "outputs": [
    {
     "data": {
      "text/plain": [
       "444599296"
      ]
     },
     "execution_count": 6,
     "metadata": {},
     "output_type": "execute_result"
    }
   ],
   "source": [
    "torch.cuda.memory_allocated()"
   ]
  },
  {
   "cell_type": "markdown",
   "metadata": {},
   "source": [
    "#### Train the classifier"
   ]
  },
  {
   "cell_type": "code",
   "execution_count": 7,
   "metadata": {
    "scrolled": true
   },
   "outputs": [
    {
     "data": {
      "text/html": [],
      "text/plain": [
       "<IPython.core.display.HTML object>"
      ]
     },
     "metadata": {},
     "output_type": "display_data"
    },
    {
     "name": "stdout",
     "output_type": "stream",
     "text": [
      "LR Finder is complete, type {learner_name}.recorder.plot() to see the graph.\n"
     ]
    }
   ],
   "source": [
    "learn_clas.lr_find()"
   ]
  },
  {
   "cell_type": "code",
   "execution_count": 9,
   "metadata": {
    "scrolled": true
   },
   "outputs": [
    {
     "data": {
      "image/png": "[encoded data removed]",
      "text/plain": [
       "<Figure size 432x288 with 1 Axes>"
      ]
     },
     "metadata": {
      "needs_background": "light"
     },
     "output_type": "display_data"
    }
   ],
   "source": [
    "learn_clas.recorder.plot()"
   ]
  },
  {
   "cell_type": "code",
   "execution_count": 10,
   "metadata": {},
   "outputs": [],
   "source": [
    "lr = 2e-2\n",
    "moms = (0.8, 0.7)"
   ]
  },
  {
   "cell_type": "code",
   "execution_count": null,
   "metadata": {},
   "outputs": [],
   "source": [
    "# Fit 1 cycle\n",
    "# Don't execute during practice\n",
    "learn_clas.fit_one_cycle(cyc_len=1, max_lr=lr, moms=moms)"
   ]
  },
  {
   "cell_type": "code",
   "execution_count": null,
   "metadata": {},
   "outputs": [],
   "source": [
    "# Save\n",
    "# learn_clas.save('clas-step-1')"
   ]
  },
  {
   "cell_type": "code",
   "execution_count": 11,
   "metadata": {
    "collapsed": true
   },
   "outputs": [
    {
     "data": {
      "text/plain": [
       "RNNLearner(data=TextClasDataBunch;\n",
       "\n",
       "Train: LabelList (25000 items)\n",
       "x: TextList\n",
       "xxbos xxmaj basically , xxmaj cruel xxmaj intentions 2 is xxmaj cruel xxmaj intentions 1 , again , only poorly done . xxmaj the story is exactly the same as the first one ( even some of the lines ) , with only a few exceptions . xxmaj the cast is more unknown , and definitely less talented . xxmaj instead of being seductive and drawing me into watching it , i ended up feeling dirty because it compares to watching a soft - core porn . i 'm not sure whether to blame some of the idiotic lines on the actors or the writers ... and i always feel bad saying that , because i know how hard it is to do both ... but it was basically a two - hour waste of my life . xxmaj it literally amazes me that some movies get made , and this is no exception ... i ca n't believe they 'd make a third one .,xxbos i had been subjected to this movie for a relationship class in my school . xxmaj as figured it was nothing captivating and nothing new . xxmaj though it tries to be original by focusing on the teen father instead of the mother showing the problems that the dad would go through . xxmaj it had an interesting side to it but it just does n't live up to its originality due to the fact nothing else in this movie was original . xxmaj we have the main character who has the older sister who like in every other movie like this has a thing against him , we have the stay at home mother who expects too much and when he gives more she feels offended and leaves him in the dust , then we have the father who is always gone . xxmaj then the girls side we have the parents who want everything and expect her to be perfect at all she does . xxmaj on to the story like i said it was interesting but the lack of good acting from the entire cast and the lack of any good writing or storytelling . xxmaj everything about this fell into cliché the little nerd kid in school starts studying with girl , they get together , have sex and then boom we have a little kid . xxmaj perhaps it could 've been better had the writing been well better and had the acting been improved i 've seriously gotten more emotion out of xxmaj leatherface and his chainsaw than i did out of any actor in this film and that 's pretty bad seeing as the xxmaj leatherface movies are crap and horridly acted . xxmaj so far the only interesting teen pregnancy movie i 've seen was xxmaj juno . xxmaj so far the comical side of this serious situation has proved more entertaining while still giving the same message . xxmaj like i said the idea was original most of these films focus on the teen mother but this one chose not to instead it focuses on the drama of the father but again the originality does not save this movie from mediocrity . i really hope someone decides to either re - make this movie with a better cast and a better writer or just make another similar film because this one was wasted potential .,xxbos i just saw this movie on xxmaj flix after timer - taping it . i grew up watching f xxmaj troop and had a major hard for xxmaj wrangler xxmaj jane so i was shocked , literally shocked , to find out after seeing this film that the degenerate homicidal nurse was xxmaj melody xxmaj patterson , who looks pretty good but also looks completely different and is unfortunately poorly photographed . i would never have guessed it was her in a million years . xxmaj what the hell is she doing in a picture like this ? i agree with the guys here that the movie lacks what it 's pushing . xxmaj no sex , no gore , no tease . xxmaj it 's also a remake of the xxmaj atomic xxmaj brain aka xxmaj monstrosity ( 1964 or thereabouts ) . xxmaj most of the action is tedious ; the main character spends enormous amounts of time running around the crazed doctor 's house and basement , and the neighborhood in general , or being roughed up by the cop , all of it boring and time - filling . xxmaj now if the xxmaj italians would have made this , half the film would have been the xxmaj slingblade / xxmaj uncle xxmaj ernest / xxmaj jack xxmaj elam henchman fondling the unconscious nude girls . xxmaj but you only get that for 20 seconds .,xxbos xxmaj absolutely awful movie . xxmaj utter waste of time . \n",
       " \n",
       "  background music is so loud that you can not understand speech . xxmaj well if you really listen closely , whatever they speak is actually unintelligible . \n",
       " \n",
       "  xxmaj camera work is bad , editing is not present , background score gives a headache , action is shoddy , dialogs are unintelligible , xxmaj acting is abysmal and well xxmaj kareena used to look like a wrestler , now she looks like a starved wrestler . xxmaj hell you can slim down but you can not gain grace . \n",
       " \n",
       "  xxmaj after spending three hours watching a movie i want to like it , but this movie would not even allow me that pleasure . \n",
       " \n",
       "  xxmaj please if you want to torture yourself , go ahead watch this .,xxbos xxmaj kubrick meets xxmaj king . xxmaj it sounded so promising back in the spring of 1980 , i remember . xxmaj then the movie came out , and the xxmaj kubrick cultists have been bickering with the xxmaj king cultists ever since . \n",
       " \n",
       "  xxmaj the xxmaj king cultists say xxmaj stanley xxmaj kubrick took a great horror tale and ruined it . xxmaj the xxmaj kubrick cultists do n't give a damn about xxmaj king 's story . xxmaj they talk about xxmaj xxunk , tracking shots , camera angles . xxmaj this is a film , they insist : xxmaj it should be considered on its own . xxmaj as it happens , both camps are correct . xxmaj unfortunately . \n",
       " \n",
       "  xxmaj if one views it purely as an adaptation of xxmaj king 's novel , \" xxmaj the xxmaj shining \" is indeed a failure , a wasted opportunity , a series of botched narrative xxunk . \n",
       " \n",
       "  i used to blame that on xxmaj kubrick 's screenwriter . xxmaj the writer xxmaj diane xxmaj johnson ( author of xxmaj le xxmaj marriage , xxunk , xxmaj le xxmaj divorce , etc . ) has a reputation as an novelist of social manners . xxmaj maybe she was chosen for her subtle grasp of conjugal relations or family dynamics . xxmaj but the little blue - collar town of xxmaj sidewinder , xxmaj colorado does n't exist on any map in her xxmaj francophile universe . \n",
       " \n",
       "  xxmaj kubrick the xxmaj anglophile probably found her congenial , however . xxmaj he , of course , is the real auteur . xxmaj and considered on its own merits , his screenplay for \" xxmaj the xxmaj shining \" -- with its mishmash of abnormal psychology , rationalism , supernaturalism , and implied reincarnation -- just does n't stand up to logical analysis . \n",
       " \n",
       "  i 'm willing to consider xxmaj kubrick 's \" xxmaj shining \" on its own terms . i 'm even willing to take it as something other than a conventional horror - genre movie . xxmaj but it does n't succeed as a naturalistic study of isolation , alienation , and madness either . xxmaj xxunk either way , the film pretty much falls apart . \n",
       " \n",
       "  xxmaj are the horrors of the xxmaj overlook xxmaj hotel real ? xxmaj or do they exist only in the mind -- first as prescient nightmares suffered by little xxmaj danny xxmaj torrance , then as the hallucinations of his father ? xxmaj one notes how whenever xxmaj jack xxmaj torrance is seen talking to a \" ghost \" he is in fact looking into a mirror . xxmaj one notes how the hotel 's frozen xxunk - hedge maze appears to symbolize xxmaj jack 's stunted , convoluted psyche . xxmaj very deep stuff . \n",
       " \n",
       "  xxmaj but if indeed the xxmaj overlook 's \" ghosts \" are purely manifestations of xxmaj jack xxmaj torrance 's growing insanity , then who exactly lets the trapped xxmaj jack out of the hotel kitchen 's dead - bolted xxunk in closet , so that he can go on his climactic ax - wielding rampage ? \n",
       " \n",
       "  xxmaj and can xxup anyone explain , with a straight face , that black - and - white photograph ( helpfully labelled \" 1921 \" ) of xxmaj nicholson as a xxunk party - goer that pops up out of left field and onto a hotel - ballroom wall during the film 's closing seconds ? xxmaj are we to seriously conclude that xxmaj jack xxmaj torrance 's xxmaj bad xxmaj craziness stems from a some sort of \" past life \" experience ? ( xxmaj and if you swallow that , since when are reincarnated people supposed to be exact physical replicas their past selves ? ) \n",
       " \n",
       "  xxmaj maybe xxmaj kubrick did n't care about his storyline . xxmaj maybe only wanted to evoke a mood of horror . xxmaj whatever the case , the film tries to hedge its narrative bets -- to have it both ways , rational and supernatural . xxmaj as a result , the story is a mess . xxmaj this movie has n't improved with age , and it certainly does n't improve with repeated viewings . \n",
       " \n",
       "  i do n't deny that a few moments of fear , claustrophobia , and general creepiness are scattered throughout this long , long film . xxmaj but those gushing xxmaj elevators o ' xxmaj blood , seen repeatedly in little xxmaj danny 's visions , are absurd and laughable . xxmaj and xxmaj jack xxmaj torrance 's infamous tag lines ( \" xxmaj wendy , i 'm home ! \" and \" h xxrep 6 e re 's xxup johnny ! \" ) merely puncture the movie 's dramatic tension and dissipate its narrative energy . ( i know : i sat in the theater and heard the audience laugh in comic relief : \" xxmaj whew ! xxmaj glad we do n't have to take this stuff seriously ! \" ) xxmaj finally , xxmaj kubrick is completely at sea -- or else utterly cynical -- during those scenes in which xxmaj wendy wanders around the empty hotel while her husband tries to puree their son . a foyer full of mummified guests , all sitting there dead in their party hats ? xxmaj yikes , now i really am afraid . \n",
       " \n",
       "  xxmaj given xxmaj jack xxmaj nicholson 's brilliance over the years , one can only assume that he gave just the sort of eyeball - rolling , eyebrow - wiggling , scenery - chomping performance that the director wanted . xxmaj the performance of xxmaj shelley xxmaj duvall , as a sort of female version of xxmaj don xxmaj knotts in \" xxmaj the xxmaj ghost and xxmaj mr. xxmaj chicken , \" is best passed over in silence . \n",
       " \n",
       "  xxmaj this movie simply does n't succeed -- not as an adaptation , not on its own terms . xxmaj it probably merits a 3 out of 10 , but i 'm giving it a 1 because it has been so xxup grotesquely over - rated in this forum .\n",
       "y: CategoryList\n",
       "neg,neg,neg,neg,neg\n",
       "Path: /home/paperspace/.fastai/data/imdb;\n",
       "\n",
       "Valid: LabelList (25000 items)\n",
       "x: TextList\n",
       "xxbos xxmaj robot xxmaj holocaust is about the lamest , most pathetic attempt at making a post - apocalyptic movie that i 've seen . xxmaj and i thought the xxmaj italians were the masters of wretched xxmaj mad xxmaj max wannabes . xxmaj some of those movies like xxmaj escape 2000 are positively brilliant in comparison with this piece of poo . xxmaj the plot is nonsensical  even with a narrator setting up every scene . xxmaj and boy does it drag . xxmaj scene after scene with nothing of any interest happening . xxmaj the special effects ( and i use the word \" special \" loosely ) consist of sock puppets . xxmaj yes , that 's right  sock puppets ! xxmaj the acting is abysmal . xxmaj angelika xxmaj jager is in the running for worst performance i 've ever seen . xxmaj sure , she 's xxmaj french or xxmaj german or whatever  but man is she bad . i can not think of a single positive thing to say about the movie . xxmaj so i 'll stop there because ten sentences on this junk is about ten too many . \n",
       " \n",
       "  xxmaj however , and fortunately for me , i saw the xxup mst3 k version of xxmaj robot xxmaj holocaust . xxmaj some of the things that made the movie so bad helped make this xxup mst3 k episode a winner . xxmaj for a season one episode , the riffs come fast and furious and hit their mark just about every time . xxmaj on my xxup mst3 k rating scale , i give this episode a 4 / 5  seek it out .,xxbos i have a question for the writers and producers of \" xxmaj prozac xxmaj nation \" : xxmaj what is the root cause and what is the solution to the widespread problem of personal depression in xxmaj america ? xxmaj in the moving performance of xxmaj christina xxmaj ricci as xxmaj liz xxmaj wurtzel , the film portrays a young woman with unlimited potential as a xxmaj harvard student and as a writer . xxmaj but this is not a story of success , only one of self - destruction as we watch xxmaj liz bring misery into the lives everyone who comes in contact with her . xxmaj the film examines divorce , family dysfunction , drugs , alcohol , and prescription medication as possible reasons for xxmaj liz 's unhappiness . xxmaj but none of those superficial explanations are satisfactory . \n",
       " \n",
       "  xxmaj at some point in the film , it would have been helpful to suggest that xxmaj liz needs to take responsibility for her life and her problems . xxmaj no light was shed on what the film alleged to be a runaway problem in \" xxmaj the xxmaj united xxmaj states of xxmaj depression . \" xxmaj in the story , xxmaj liz had a caring therapist ( xxmaj anne xxmaj heche ) , a caring roommate ( xxmaj michele xxmaj williams ) , a caring boyfriend ( xxmaj jason xxmaj biggs ) , and a troubled but caring parent ( xxmaj jessica xxmaj lange ) . xxmaj in a key scene in the film , xxmaj liz is lying in a hospital bed watching the break - up of the space shuttle xxmaj challenger . xxmaj instead of equating xxmaj challenger with xxmaj liz 's life , the film should have used the image as a starting point for her healing and recovery . \n",
       " \n",
       "  xxmaj this film reminded me of a generic made - for - cable \" victim \" film on the xxmaj lifetime network . xxmaj an excellent cast was wasted , especially in the earnest performance of xxmaj christina xxmaj ricci . xxmaj the real - life xxmaj elizabeth xxmaj wurtzel obviously found within herself the resources to cope with her depression and become a successful author . xxmaj it is unfortunate that the film could not offer us even the slightest glimpse into her courageous spirit .,xxbos i 'm working my way through the xxmaj horror xxmaj classics 50 xxmaj movie xxmaj pack xxmaj collection and xxup the xxup mad xxup monster is one of the movies in the set . \n",
       " \n",
       "  i am sure that xxmaj george xxmaj zucco was a good actor ; but , this was only the second film in which i saw him , the first being xxup dead xxup men xxup walk , in which he played two parts . xxmaj however , even good acting could n't save xxup the xxup mad xxup monster . \n",
       " \n",
       "  xxmaj zucco plays a mad scientist , xxmaj dr. xxmaj cameron ( who was banned from academia because of his unethical and inhumane experiments ) . xxmaj he believes that he can control evolution by bringing out the characteristics of one animal into another . \n",
       " \n",
       "  xxmaj in this case , like so many others of its ilk , it is a transfusion of ( i assume ) wolf 's blood into humans . xxmaj his goal is to create an invincible army , which he can control through the antidote . xxmaj the subject of his experiments is his hired hand , a retarded gardener , whose dialogue slows down this snail - paced classic to almost a full - stop . \n",
       " \n",
       "  xxmaj beyond his experiments , xxmaj dr. xxmaj cameron also plots revenge on those who discredited him , using his transformed gardener . xxmaj however , he loses control of his subject , who begins to transform without the transfusion -- yikes ! \n",
       " \n",
       "  xxmaj the werewolf transformations are classic xxmaj hollywood stop - action / makeup effects . xxmaj no doubt these were groundbreaking techniques of the time ; but , in today 's digital age it 's hard to imagine audiences being scared by this .,xxbos xxmaj retro xxmaj puppet xxmaj master is complete and utter xxunk particular , the puppets look stupid , and crappy . xxmaj the acting was unforgivable and the story was rancid . xxmaj this movie goes back into the the past , where the dolls where first created , thats not xxmaj puppet xxmaj master . xxmaj retro xxmaj puppet xxmaj master is rated xxunk first xxmaj puppet xxmaj master to be rated xxunk movie contains no horror , or suspense . xxmaj the fact that this movie was a xxmaj puppet xxmaj master film boggles the mind , because this installment does nt have the buckets of blood , good acting , or any xxunk like the previous movies did . xxmaj dont see this movie , dont rent it , and do nt even watch it f its on xxup tv , because this film is stale , not violent , and completely xxunk out of xxunk a xxmaj puppet xxmaj master fan , i am disappointed ... seriously .,xxbos i did have some expectations from this film because 1 . xxmaj it was a xxmaj yash raj production 2 . xxmaj when the songs were first shown on xxup tv , they seemed catchy 3 . xxmaj the star ( ? ? ! ) cast was new . xxmaj well , i must tell u that i just could n't sit through this movie . xxmaj uday , ( with his red lips - what were the make up artists thinking ? ? ? ! ) tries hard to look cool but fails miserably . i wo n't even get started on his acting ( if u can call it that ) . ' xxmaj cleavage queen ' xxmaj tanisha with all her screaming and ranting n raving just makes you want to pull your hair out in frustration . i think xxmaj uday was slightly more tolerable than her ! xxmaj she seriously needs to take acting lessons from her sister . xxmaj the story is pathetic ... the same old tried and tested formula . xxmaj absolutely no originality . xxmaj there is nothing worth watching in this movie . xxmaj makes me wonder why it was made in the first place !\n",
       "y: CategoryList\n",
       "neg,neg,neg,neg,neg\n",
       "Path: /home/paperspace/.fastai/data/imdb;\n",
       "\n",
       "Test: None, model=SequentialRNN(\n",
       "  (0): MultiBatchEncoder(\n",
       "    (module): AWD_LSTM(\n",
       "      (encoder): Embedding(60003, 400, padding_idx=1)\n",
       "      (encoder_dp): EmbeddingDropout(\n",
       "        (emb): Embedding(60003, 400, padding_idx=1)\n",
       "      )\n",
       "      (rnns): ModuleList(\n",
       "        (0): WeightDropout(\n",
       "          (module): LSTM(400, 1150, batch_first=True)\n",
       "        )\n",
       "        (1): WeightDropout(\n",
       "          (module): LSTM(1150, 1150, batch_first=True)\n",
       "        )\n",
       "        (2): WeightDropout(\n",
       "          (module): LSTM(1150, 400, batch_first=True)\n",
       "        )\n",
       "      )\n",
       "      (input_dp): RNNDropout()\n",
       "      (hidden_dps): ModuleList(\n",
       "        (0): RNNDropout()\n",
       "        (1): RNNDropout()\n",
       "        (2): RNNDropout()\n",
       "      )\n",
       "    )\n",
       "  )\n",
       "  (1): PoolingLinearClassifier(\n",
       "    (layers): Sequential(\n",
       "      (0): BatchNorm1d(1200, eps=1e-05, momentum=0.1, affine=True, track_running_stats=True)\n",
       "      (1): Dropout(p=0.2)\n",
       "      (2): Linear(in_features=1200, out_features=50, bias=True)\n",
       "      (3): ReLU(inplace)\n",
       "      (4): BatchNorm1d(50, eps=1e-05, momentum=0.1, affine=True, track_running_stats=True)\n",
       "      (5): Dropout(p=0.1)\n",
       "      (6): Linear(in_features=50, out_features=2, bias=True)\n",
       "    )\n",
       "  )\n",
       "), opt_func=functools.partial(<class 'torch.optim.adam.Adam'>, betas=(0.9, 0.99)), loss_func=FlattenedLoss of CrossEntropyLoss(), metrics=[<function accuracy at 0x7f5c5ed25bf8>], true_wd=True, bn_wd=True, wd=0.01, train_bn=True, path=PosixPath('/home/paperspace/.fastai/data/imdb'), model_dir='models', callback_fns=[functools.partial(<class 'fastai.basic_train.Recorder'>, add_time=True)], callbacks=[RNNTrainer\n",
       "learn: ...\n",
       "alpha: 2.0\n",
       "beta: 1.0], layer_groups=[Sequential(\n",
       "  (0): Embedding(60003, 400, padding_idx=1)\n",
       "  (1): EmbeddingDropout(\n",
       "    (emb): Embedding(60003, 400, padding_idx=1)\n",
       "  )\n",
       "), Sequential(\n",
       "  (0): WeightDropout(\n",
       "    (module): LSTM(400, 1150, batch_first=True)\n",
       "  )\n",
       "  (1): RNNDropout()\n",
       "), Sequential(\n",
       "  (0): WeightDropout(\n",
       "    (module): LSTM(1150, 1150, batch_first=True)\n",
       "  )\n",
       "  (1): RNNDropout()\n",
       "), Sequential(\n",
       "  (0): WeightDropout(\n",
       "    (module): LSTM(1150, 400, batch_first=True)\n",
       "  )\n",
       "  (1): RNNDropout()\n",
       "), Sequential(\n",
       "  (0): PoolingLinearClassifier(\n",
       "    (layers): Sequential(\n",
       "      (0): BatchNorm1d(1200, eps=1e-05, momentum=0.1, affine=True, track_running_stats=True)\n",
       "      (1): Dropout(p=0.2)\n",
       "      (2): Linear(in_features=1200, out_features=50, bias=True)\n",
       "      (3): ReLU(inplace)\n",
       "      (4): BatchNorm1d(50, eps=1e-05, momentum=0.1, affine=True, track_running_stats=True)\n",
       "      (5): Dropout(p=0.1)\n",
       "      (6): Linear(in_features=50, out_features=2, bias=True)\n",
       "    )\n",
       "  )\n",
       ")], add_time=True)"
      ]
     },
     "execution_count": 11,
     "metadata": {},
     "output_type": "execute_result"
    }
   ],
   "source": [
    "# Load\n",
    "learn_clas.load('clas-step-1')"
   ]
  },
  {
   "cell_type": "code",
   "execution_count": 12,
   "metadata": {
    "scrolled": false
   },
   "outputs": [
    {
     "data": {
      "text/plain": [
       "224655360"
      ]
     },
     "execution_count": 12,
     "metadata": {},
     "output_type": "execute_result"
    }
   ],
   "source": [
    "torch.cuda.memory_allocated()"
   ]
  },
  {
   "cell_type": "markdown",
   "metadata": {},
   "source": [
    "### Unfreeze layer by layer"
   ]
  },
  {
   "cell_type": "markdown",
   "metadata": {},
   "source": [
    "#### Freeze all except the second last layer and the last layers"
   ]
  },
  {
   "cell_type": "code",
   "execution_count": 13,
   "metadata": {},
   "outputs": [],
   "source": [
    "learn_clas.freeze_to(n=-2)"
   ]
  },
  {
   "cell_type": "code",
   "execution_count": 14,
   "metadata": {},
   "outputs": [],
   "source": [
    "lr = slice(5e-3/(2.6**4),5e-3) # We'll learn more about this later"
   ]
  },
  {
   "cell_type": "code",
   "execution_count": null,
   "metadata": {},
   "outputs": [],
   "source": [
    "# Don't execute during practice\n",
    "# Fit 1 cycle\n",
    "learn_clas.fit_one_cycle(cyc_len=1, max_lr=lr, moms)"
   ]
  },
  {
   "cell_type": "code",
   "execution_count": null,
   "metadata": {},
   "outputs": [],
   "source": [
    "# Save\n",
    "# learn_clas.save('clas-step-2')"
   ]
  },
  {
   "cell_type": "code",
   "execution_count": 16,
   "metadata": {
    "collapsed": true
   },
   "outputs": [
    {
     "data": {
      "text/plain": [
       "RNNLearner(data=TextClasDataBunch;\n",
       "\n",
       "Train: LabelList (25000 items)\n",
       "x: TextList\n",
       "xxbos xxmaj basically , xxmaj cruel xxmaj intentions 2 is xxmaj cruel xxmaj intentions 1 , again , only poorly done . xxmaj the story is exactly the same as the first one ( even some of the lines ) , with only a few exceptions . xxmaj the cast is more unknown , and definitely less talented . xxmaj instead of being seductive and drawing me into watching it , i ended up feeling dirty because it compares to watching a soft - core porn . i 'm not sure whether to blame some of the idiotic lines on the actors or the writers ... and i always feel bad saying that , because i know how hard it is to do both ... but it was basically a two - hour waste of my life . xxmaj it literally amazes me that some movies get made , and this is no exception ... i ca n't believe they 'd make a third one .,xxbos i had been subjected to this movie for a relationship class in my school . xxmaj as figured it was nothing captivating and nothing new . xxmaj though it tries to be original by focusing on the teen father instead of the mother showing the problems that the dad would go through . xxmaj it had an interesting side to it but it just does n't live up to its originality due to the fact nothing else in this movie was original . xxmaj we have the main character who has the older sister who like in every other movie like this has a thing against him , we have the stay at home mother who expects too much and when he gives more she feels offended and leaves him in the dust , then we have the father who is always gone . xxmaj then the girls side we have the parents who want everything and expect her to be perfect at all she does . xxmaj on to the story like i said it was interesting but the lack of good acting from the entire cast and the lack of any good writing or storytelling . xxmaj everything about this fell into cliché the little nerd kid in school starts studying with girl , they get together , have sex and then boom we have a little kid . xxmaj perhaps it could 've been better had the writing been well better and had the acting been improved i 've seriously gotten more emotion out of xxmaj leatherface and his chainsaw than i did out of any actor in this film and that 's pretty bad seeing as the xxmaj leatherface movies are crap and horridly acted . xxmaj so far the only interesting teen pregnancy movie i 've seen was xxmaj juno . xxmaj so far the comical side of this serious situation has proved more entertaining while still giving the same message . xxmaj like i said the idea was original most of these films focus on the teen mother but this one chose not to instead it focuses on the drama of the father but again the originality does not save this movie from mediocrity . i really hope someone decides to either re - make this movie with a better cast and a better writer or just make another similar film because this one was wasted potential .,xxbos i just saw this movie on xxmaj flix after timer - taping it . i grew up watching f xxmaj troop and had a major hard for xxmaj wrangler xxmaj jane so i was shocked , literally shocked , to find out after seeing this film that the degenerate homicidal nurse was xxmaj melody xxmaj patterson , who looks pretty good but also looks completely different and is unfortunately poorly photographed . i would never have guessed it was her in a million years . xxmaj what the hell is she doing in a picture like this ? i agree with the guys here that the movie lacks what it 's pushing . xxmaj no sex , no gore , no tease . xxmaj it 's also a remake of the xxmaj atomic xxmaj brain aka xxmaj monstrosity ( 1964 or thereabouts ) . xxmaj most of the action is tedious ; the main character spends enormous amounts of time running around the crazed doctor 's house and basement , and the neighborhood in general , or being roughed up by the cop , all of it boring and time - filling . xxmaj now if the xxmaj italians would have made this , half the film would have been the xxmaj slingblade / xxmaj uncle xxmaj ernest / xxmaj jack xxmaj elam henchman fondling the unconscious nude girls . xxmaj but you only get that for 20 seconds .,xxbos xxmaj absolutely awful movie . xxmaj utter waste of time . \n",
       " \n",
       "  background music is so loud that you can not understand speech . xxmaj well if you really listen closely , whatever they speak is actually unintelligible . \n",
       " \n",
       "  xxmaj camera work is bad , editing is not present , background score gives a headache , action is shoddy , dialogs are unintelligible , xxmaj acting is abysmal and well xxmaj kareena used to look like a wrestler , now she looks like a starved wrestler . xxmaj hell you can slim down but you can not gain grace . \n",
       " \n",
       "  xxmaj after spending three hours watching a movie i want to like it , but this movie would not even allow me that pleasure . \n",
       " \n",
       "  xxmaj please if you want to torture yourself , go ahead watch this .,xxbos xxmaj kubrick meets xxmaj king . xxmaj it sounded so promising back in the spring of 1980 , i remember . xxmaj then the movie came out , and the xxmaj kubrick cultists have been bickering with the xxmaj king cultists ever since . \n",
       " \n",
       "  xxmaj the xxmaj king cultists say xxmaj stanley xxmaj kubrick took a great horror tale and ruined it . xxmaj the xxmaj kubrick cultists do n't give a damn about xxmaj king 's story . xxmaj they talk about xxmaj xxunk , tracking shots , camera angles . xxmaj this is a film , they insist : xxmaj it should be considered on its own . xxmaj as it happens , both camps are correct . xxmaj unfortunately . \n",
       " \n",
       "  xxmaj if one views it purely as an adaptation of xxmaj king 's novel , \" xxmaj the xxmaj shining \" is indeed a failure , a wasted opportunity , a series of botched narrative xxunk . \n",
       " \n",
       "  i used to blame that on xxmaj kubrick 's screenwriter . xxmaj the writer xxmaj diane xxmaj johnson ( author of xxmaj le xxmaj marriage , xxunk , xxmaj le xxmaj divorce , etc . ) has a reputation as an novelist of social manners . xxmaj maybe she was chosen for her subtle grasp of conjugal relations or family dynamics . xxmaj but the little blue - collar town of xxmaj sidewinder , xxmaj colorado does n't exist on any map in her xxmaj francophile universe . \n",
       " \n",
       "  xxmaj kubrick the xxmaj anglophile probably found her congenial , however . xxmaj he , of course , is the real auteur . xxmaj and considered on its own merits , his screenplay for \" xxmaj the xxmaj shining \" -- with its mishmash of abnormal psychology , rationalism , supernaturalism , and implied reincarnation -- just does n't stand up to logical analysis . \n",
       " \n",
       "  i 'm willing to consider xxmaj kubrick 's \" xxmaj shining \" on its own terms . i 'm even willing to take it as something other than a conventional horror - genre movie . xxmaj but it does n't succeed as a naturalistic study of isolation , alienation , and madness either . xxmaj xxunk either way , the film pretty much falls apart . \n",
       " \n",
       "  xxmaj are the horrors of the xxmaj overlook xxmaj hotel real ? xxmaj or do they exist only in the mind -- first as prescient nightmares suffered by little xxmaj danny xxmaj torrance , then as the hallucinations of his father ? xxmaj one notes how whenever xxmaj jack xxmaj torrance is seen talking to a \" ghost \" he is in fact looking into a mirror . xxmaj one notes how the hotel 's frozen xxunk - hedge maze appears to symbolize xxmaj jack 's stunted , convoluted psyche . xxmaj very deep stuff . \n",
       " \n",
       "  xxmaj but if indeed the xxmaj overlook 's \" ghosts \" are purely manifestations of xxmaj jack xxmaj torrance 's growing insanity , then who exactly lets the trapped xxmaj jack out of the hotel kitchen 's dead - bolted xxunk in closet , so that he can go on his climactic ax - wielding rampage ? \n",
       " \n",
       "  xxmaj and can xxup anyone explain , with a straight face , that black - and - white photograph ( helpfully labelled \" 1921 \" ) of xxmaj nicholson as a xxunk party - goer that pops up out of left field and onto a hotel - ballroom wall during the film 's closing seconds ? xxmaj are we to seriously conclude that xxmaj jack xxmaj torrance 's xxmaj bad xxmaj craziness stems from a some sort of \" past life \" experience ? ( xxmaj and if you swallow that , since when are reincarnated people supposed to be exact physical replicas their past selves ? ) \n",
       " \n",
       "  xxmaj maybe xxmaj kubrick did n't care about his storyline . xxmaj maybe only wanted to evoke a mood of horror . xxmaj whatever the case , the film tries to hedge its narrative bets -- to have it both ways , rational and supernatural . xxmaj as a result , the story is a mess . xxmaj this movie has n't improved with age , and it certainly does n't improve with repeated viewings . \n",
       " \n",
       "  i do n't deny that a few moments of fear , claustrophobia , and general creepiness are scattered throughout this long , long film . xxmaj but those gushing xxmaj elevators o ' xxmaj blood , seen repeatedly in little xxmaj danny 's visions , are absurd and laughable . xxmaj and xxmaj jack xxmaj torrance 's infamous tag lines ( \" xxmaj wendy , i 'm home ! \" and \" h xxrep 6 e re 's xxup johnny ! \" ) merely puncture the movie 's dramatic tension and dissipate its narrative energy . ( i know : i sat in the theater and heard the audience laugh in comic relief : \" xxmaj whew ! xxmaj glad we do n't have to take this stuff seriously ! \" ) xxmaj finally , xxmaj kubrick is completely at sea -- or else utterly cynical -- during those scenes in which xxmaj wendy wanders around the empty hotel while her husband tries to puree their son . a foyer full of mummified guests , all sitting there dead in their party hats ? xxmaj yikes , now i really am afraid . \n",
       " \n",
       "  xxmaj given xxmaj jack xxmaj nicholson 's brilliance over the years , one can only assume that he gave just the sort of eyeball - rolling , eyebrow - wiggling , scenery - chomping performance that the director wanted . xxmaj the performance of xxmaj shelley xxmaj duvall , as a sort of female version of xxmaj don xxmaj knotts in \" xxmaj the xxmaj ghost and xxmaj mr. xxmaj chicken , \" is best passed over in silence . \n",
       " \n",
       "  xxmaj this movie simply does n't succeed -- not as an adaptation , not on its own terms . xxmaj it probably merits a 3 out of 10 , but i 'm giving it a 1 because it has been so xxup grotesquely over - rated in this forum .\n",
       "y: CategoryList\n",
       "neg,neg,neg,neg,neg\n",
       "Path: /home/paperspace/.fastai/data/imdb;\n",
       "\n",
       "Valid: LabelList (25000 items)\n",
       "x: TextList\n",
       "xxbos xxmaj robot xxmaj holocaust is about the lamest , most pathetic attempt at making a post - apocalyptic movie that i 've seen . xxmaj and i thought the xxmaj italians were the masters of wretched xxmaj mad xxmaj max wannabes . xxmaj some of those movies like xxmaj escape 2000 are positively brilliant in comparison with this piece of poo . xxmaj the plot is nonsensical  even with a narrator setting up every scene . xxmaj and boy does it drag . xxmaj scene after scene with nothing of any interest happening . xxmaj the special effects ( and i use the word \" special \" loosely ) consist of sock puppets . xxmaj yes , that 's right  sock puppets ! xxmaj the acting is abysmal . xxmaj angelika xxmaj jager is in the running for worst performance i 've ever seen . xxmaj sure , she 's xxmaj french or xxmaj german or whatever  but man is she bad . i can not think of a single positive thing to say about the movie . xxmaj so i 'll stop there because ten sentences on this junk is about ten too many . \n",
       " \n",
       "  xxmaj however , and fortunately for me , i saw the xxup mst3 k version of xxmaj robot xxmaj holocaust . xxmaj some of the things that made the movie so bad helped make this xxup mst3 k episode a winner . xxmaj for a season one episode , the riffs come fast and furious and hit their mark just about every time . xxmaj on my xxup mst3 k rating scale , i give this episode a 4 / 5  seek it out .,xxbos i have a question for the writers and producers of \" xxmaj prozac xxmaj nation \" : xxmaj what is the root cause and what is the solution to the widespread problem of personal depression in xxmaj america ? xxmaj in the moving performance of xxmaj christina xxmaj ricci as xxmaj liz xxmaj wurtzel , the film portrays a young woman with unlimited potential as a xxmaj harvard student and as a writer . xxmaj but this is not a story of success , only one of self - destruction as we watch xxmaj liz bring misery into the lives everyone who comes in contact with her . xxmaj the film examines divorce , family dysfunction , drugs , alcohol , and prescription medication as possible reasons for xxmaj liz 's unhappiness . xxmaj but none of those superficial explanations are satisfactory . \n",
       " \n",
       "  xxmaj at some point in the film , it would have been helpful to suggest that xxmaj liz needs to take responsibility for her life and her problems . xxmaj no light was shed on what the film alleged to be a runaway problem in \" xxmaj the xxmaj united xxmaj states of xxmaj depression . \" xxmaj in the story , xxmaj liz had a caring therapist ( xxmaj anne xxmaj heche ) , a caring roommate ( xxmaj michele xxmaj williams ) , a caring boyfriend ( xxmaj jason xxmaj biggs ) , and a troubled but caring parent ( xxmaj jessica xxmaj lange ) . xxmaj in a key scene in the film , xxmaj liz is lying in a hospital bed watching the break - up of the space shuttle xxmaj challenger . xxmaj instead of equating xxmaj challenger with xxmaj liz 's life , the film should have used the image as a starting point for her healing and recovery . \n",
       " \n",
       "  xxmaj this film reminded me of a generic made - for - cable \" victim \" film on the xxmaj lifetime network . xxmaj an excellent cast was wasted , especially in the earnest performance of xxmaj christina xxmaj ricci . xxmaj the real - life xxmaj elizabeth xxmaj wurtzel obviously found within herself the resources to cope with her depression and become a successful author . xxmaj it is unfortunate that the film could not offer us even the slightest glimpse into her courageous spirit .,xxbos i 'm working my way through the xxmaj horror xxmaj classics 50 xxmaj movie xxmaj pack xxmaj collection and xxup the xxup mad xxup monster is one of the movies in the set . \n",
       " \n",
       "  i am sure that xxmaj george xxmaj zucco was a good actor ; but , this was only the second film in which i saw him , the first being xxup dead xxup men xxup walk , in which he played two parts . xxmaj however , even good acting could n't save xxup the xxup mad xxup monster . \n",
       " \n",
       "  xxmaj zucco plays a mad scientist , xxmaj dr. xxmaj cameron ( who was banned from academia because of his unethical and inhumane experiments ) . xxmaj he believes that he can control evolution by bringing out the characteristics of one animal into another . \n",
       " \n",
       "  xxmaj in this case , like so many others of its ilk , it is a transfusion of ( i assume ) wolf 's blood into humans . xxmaj his goal is to create an invincible army , which he can control through the antidote . xxmaj the subject of his experiments is his hired hand , a retarded gardener , whose dialogue slows down this snail - paced classic to almost a full - stop . \n",
       " \n",
       "  xxmaj beyond his experiments , xxmaj dr. xxmaj cameron also plots revenge on those who discredited him , using his transformed gardener . xxmaj however , he loses control of his subject , who begins to transform without the transfusion -- yikes ! \n",
       " \n",
       "  xxmaj the werewolf transformations are classic xxmaj hollywood stop - action / makeup effects . xxmaj no doubt these were groundbreaking techniques of the time ; but , in today 's digital age it 's hard to imagine audiences being scared by this .,xxbos xxmaj retro xxmaj puppet xxmaj master is complete and utter xxunk particular , the puppets look stupid , and crappy . xxmaj the acting was unforgivable and the story was rancid . xxmaj this movie goes back into the the past , where the dolls where first created , thats not xxmaj puppet xxmaj master . xxmaj retro xxmaj puppet xxmaj master is rated xxunk first xxmaj puppet xxmaj master to be rated xxunk movie contains no horror , or suspense . xxmaj the fact that this movie was a xxmaj puppet xxmaj master film boggles the mind , because this installment does nt have the buckets of blood , good acting , or any xxunk like the previous movies did . xxmaj dont see this movie , dont rent it , and do nt even watch it f its on xxup tv , because this film is stale , not violent , and completely xxunk out of xxunk a xxmaj puppet xxmaj master fan , i am disappointed ... seriously .,xxbos i did have some expectations from this film because 1 . xxmaj it was a xxmaj yash raj production 2 . xxmaj when the songs were first shown on xxup tv , they seemed catchy 3 . xxmaj the star ( ? ? ! ) cast was new . xxmaj well , i must tell u that i just could n't sit through this movie . xxmaj uday , ( with his red lips - what were the make up artists thinking ? ? ? ! ) tries hard to look cool but fails miserably . i wo n't even get started on his acting ( if u can call it that ) . ' xxmaj cleavage queen ' xxmaj tanisha with all her screaming and ranting n raving just makes you want to pull your hair out in frustration . i think xxmaj uday was slightly more tolerable than her ! xxmaj she seriously needs to take acting lessons from her sister . xxmaj the story is pathetic ... the same old tried and tested formula . xxmaj absolutely no originality . xxmaj there is nothing worth watching in this movie . xxmaj makes me wonder why it was made in the first place !\n",
       "y: CategoryList\n",
       "neg,neg,neg,neg,neg\n",
       "Path: /home/paperspace/.fastai/data/imdb;\n",
       "\n",
       "Test: None, model=SequentialRNN(\n",
       "  (0): MultiBatchEncoder(\n",
       "    (module): AWD_LSTM(\n",
       "      (encoder): Embedding(60003, 400, padding_idx=1)\n",
       "      (encoder_dp): EmbeddingDropout(\n",
       "        (emb): Embedding(60003, 400, padding_idx=1)\n",
       "      )\n",
       "      (rnns): ModuleList(\n",
       "        (0): WeightDropout(\n",
       "          (module): LSTM(400, 1150, batch_first=True)\n",
       "        )\n",
       "        (1): WeightDropout(\n",
       "          (module): LSTM(1150, 1150, batch_first=True)\n",
       "        )\n",
       "        (2): WeightDropout(\n",
       "          (module): LSTM(1150, 400, batch_first=True)\n",
       "        )\n",
       "      )\n",
       "      (input_dp): RNNDropout()\n",
       "      (hidden_dps): ModuleList(\n",
       "        (0): RNNDropout()\n",
       "        (1): RNNDropout()\n",
       "        (2): RNNDropout()\n",
       "      )\n",
       "    )\n",
       "  )\n",
       "  (1): PoolingLinearClassifier(\n",
       "    (layers): Sequential(\n",
       "      (0): BatchNorm1d(1200, eps=1e-05, momentum=0.1, affine=True, track_running_stats=True)\n",
       "      (1): Dropout(p=0.2)\n",
       "      (2): Linear(in_features=1200, out_features=50, bias=True)\n",
       "      (3): ReLU(inplace)\n",
       "      (4): BatchNorm1d(50, eps=1e-05, momentum=0.1, affine=True, track_running_stats=True)\n",
       "      (5): Dropout(p=0.1)\n",
       "      (6): Linear(in_features=50, out_features=2, bias=True)\n",
       "    )\n",
       "  )\n",
       "), opt_func=functools.partial(<class 'torch.optim.adam.Adam'>, betas=(0.9, 0.99)), loss_func=FlattenedLoss of CrossEntropyLoss(), metrics=[<function accuracy at 0x7f5c5ed25bf8>], true_wd=True, bn_wd=True, wd=0.01, train_bn=True, path=PosixPath('/home/paperspace/.fastai/data/imdb'), model_dir='models', callback_fns=[functools.partial(<class 'fastai.basic_train.Recorder'>, add_time=True)], callbacks=[RNNTrainer\n",
       "learn: ...\n",
       "alpha: 2.0\n",
       "beta: 1.0], layer_groups=[Sequential(\n",
       "  (0): Embedding(60003, 400, padding_idx=1)\n",
       "  (1): EmbeddingDropout(\n",
       "    (emb): Embedding(60003, 400, padding_idx=1)\n",
       "  )\n",
       "), Sequential(\n",
       "  (0): WeightDropout(\n",
       "    (module): LSTM(400, 1150, batch_first=True)\n",
       "  )\n",
       "  (1): RNNDropout()\n",
       "), Sequential(\n",
       "  (0): WeightDropout(\n",
       "    (module): LSTM(1150, 1150, batch_first=True)\n",
       "  )\n",
       "  (1): RNNDropout()\n",
       "), Sequential(\n",
       "  (0): WeightDropout(\n",
       "    (module): LSTM(1150, 400, batch_first=True)\n",
       "  )\n",
       "  (1): RNNDropout()\n",
       "), Sequential(\n",
       "  (0): PoolingLinearClassifier(\n",
       "    (layers): Sequential(\n",
       "      (0): BatchNorm1d(1200, eps=1e-05, momentum=0.1, affine=True, track_running_stats=True)\n",
       "      (1): Dropout(p=0.2)\n",
       "      (2): Linear(in_features=1200, out_features=50, bias=True)\n",
       "      (3): ReLU(inplace)\n",
       "      (4): BatchNorm1d(50, eps=1e-05, momentum=0.1, affine=True, track_running_stats=True)\n",
       "      (5): Dropout(p=0.1)\n",
       "      (6): Linear(in_features=50, out_features=2, bias=True)\n",
       "    )\n",
       "  )\n",
       ")], add_time=True)"
      ]
     },
     "execution_count": 16,
     "metadata": {},
     "output_type": "execute_result"
    }
   ],
   "source": [
    "# Load\n",
    "learn_clas.load('clas-step-2')"
   ]
  },
  {
   "cell_type": "code",
   "execution_count": 17,
   "metadata": {
    "scrolled": false
   },
   "outputs": [
    {
     "data": {
      "text/plain": [
       "245260288"
      ]
     },
     "execution_count": 17,
     "metadata": {},
     "output_type": "execute_result"
    }
   ],
   "source": [
    "torch.cuda.memory_allocated()"
   ]
  },
  {
   "cell_type": "markdown",
   "metadata": {},
   "source": [
    "#### Freeze all except the third last layer and the last layers"
   ]
  },
  {
   "cell_type": "code",
   "execution_count": 18,
   "metadata": {},
   "outputs": [],
   "source": [
    "learn_clas.freeze_to(n=-3)"
   ]
  },
  {
   "cell_type": "code",
   "execution_count": 19,
   "metadata": {},
   "outputs": [],
   "source": [
    "lr = slice(5e-3/(2.6**4),5e-3) # We'll learn more about this later"
   ]
  },
  {
   "cell_type": "code",
   "execution_count": null,
   "metadata": {},
   "outputs": [],
   "source": [
    "# Don't execute during practice\n",
    "learn_clas.fit_one_cycle(cyc_len=1, max_lr=lr, moms)"
   ]
  },
  {
   "cell_type": "code",
   "execution_count": null,
   "metadata": {},
   "outputs": [],
   "source": [
    "# Save\n",
    "# learn_clas.save('clas-stage-3')"
   ]
  },
  {
   "cell_type": "code",
   "execution_count": 20,
   "metadata": {
    "collapsed": true
   },
   "outputs": [
    {
     "data": {
      "text/plain": [
       "RNNLearner(data=TextClasDataBunch;\n",
       "\n",
       "Train: LabelList (25000 items)\n",
       "x: TextList\n",
       "xxbos xxmaj basically , xxmaj cruel xxmaj intentions 2 is xxmaj cruel xxmaj intentions 1 , again , only poorly done . xxmaj the story is exactly the same as the first one ( even some of the lines ) , with only a few exceptions . xxmaj the cast is more unknown , and definitely less talented . xxmaj instead of being seductive and drawing me into watching it , i ended up feeling dirty because it compares to watching a soft - core porn . i 'm not sure whether to blame some of the idiotic lines on the actors or the writers ... and i always feel bad saying that , because i know how hard it is to do both ... but it was basically a two - hour waste of my life . xxmaj it literally amazes me that some movies get made , and this is no exception ... i ca n't believe they 'd make a third one .,xxbos i had been subjected to this movie for a relationship class in my school . xxmaj as figured it was nothing captivating and nothing new . xxmaj though it tries to be original by focusing on the teen father instead of the mother showing the problems that the dad would go through . xxmaj it had an interesting side to it but it just does n't live up to its originality due to the fact nothing else in this movie was original . xxmaj we have the main character who has the older sister who like in every other movie like this has a thing against him , we have the stay at home mother who expects too much and when he gives more she feels offended and leaves him in the dust , then we have the father who is always gone . xxmaj then the girls side we have the parents who want everything and expect her to be perfect at all she does . xxmaj on to the story like i said it was interesting but the lack of good acting from the entire cast and the lack of any good writing or storytelling . xxmaj everything about this fell into cliché the little nerd kid in school starts studying with girl , they get together , have sex and then boom we have a little kid . xxmaj perhaps it could 've been better had the writing been well better and had the acting been improved i 've seriously gotten more emotion out of xxmaj leatherface and his chainsaw than i did out of any actor in this film and that 's pretty bad seeing as the xxmaj leatherface movies are crap and horridly acted . xxmaj so far the only interesting teen pregnancy movie i 've seen was xxmaj juno . xxmaj so far the comical side of this serious situation has proved more entertaining while still giving the same message . xxmaj like i said the idea was original most of these films focus on the teen mother but this one chose not to instead it focuses on the drama of the father but again the originality does not save this movie from mediocrity . i really hope someone decides to either re - make this movie with a better cast and a better writer or just make another similar film because this one was wasted potential .,xxbos i just saw this movie on xxmaj flix after timer - taping it . i grew up watching f xxmaj troop and had a major hard for xxmaj wrangler xxmaj jane so i was shocked , literally shocked , to find out after seeing this film that the degenerate homicidal nurse was xxmaj melody xxmaj patterson , who looks pretty good but also looks completely different and is unfortunately poorly photographed . i would never have guessed it was her in a million years . xxmaj what the hell is she doing in a picture like this ? i agree with the guys here that the movie lacks what it 's pushing . xxmaj no sex , no gore , no tease . xxmaj it 's also a remake of the xxmaj atomic xxmaj brain aka xxmaj monstrosity ( 1964 or thereabouts ) . xxmaj most of the action is tedious ; the main character spends enormous amounts of time running around the crazed doctor 's house and basement , and the neighborhood in general , or being roughed up by the cop , all of it boring and time - filling . xxmaj now if the xxmaj italians would have made this , half the film would have been the xxmaj slingblade / xxmaj uncle xxmaj ernest / xxmaj jack xxmaj elam henchman fondling the unconscious nude girls . xxmaj but you only get that for 20 seconds .,xxbos xxmaj absolutely awful movie . xxmaj utter waste of time . \n",
       " \n",
       "  background music is so loud that you can not understand speech . xxmaj well if you really listen closely , whatever they speak is actually unintelligible . \n",
       " \n",
       "  xxmaj camera work is bad , editing is not present , background score gives a headache , action is shoddy , dialogs are unintelligible , xxmaj acting is abysmal and well xxmaj kareena used to look like a wrestler , now she looks like a starved wrestler . xxmaj hell you can slim down but you can not gain grace . \n",
       " \n",
       "  xxmaj after spending three hours watching a movie i want to like it , but this movie would not even allow me that pleasure . \n",
       " \n",
       "  xxmaj please if you want to torture yourself , go ahead watch this .,xxbos xxmaj kubrick meets xxmaj king . xxmaj it sounded so promising back in the spring of 1980 , i remember . xxmaj then the movie came out , and the xxmaj kubrick cultists have been bickering with the xxmaj king cultists ever since . \n",
       " \n",
       "  xxmaj the xxmaj king cultists say xxmaj stanley xxmaj kubrick took a great horror tale and ruined it . xxmaj the xxmaj kubrick cultists do n't give a damn about xxmaj king 's story . xxmaj they talk about xxmaj xxunk , tracking shots , camera angles . xxmaj this is a film , they insist : xxmaj it should be considered on its own . xxmaj as it happens , both camps are correct . xxmaj unfortunately . \n",
       " \n",
       "  xxmaj if one views it purely as an adaptation of xxmaj king 's novel , \" xxmaj the xxmaj shining \" is indeed a failure , a wasted opportunity , a series of botched narrative xxunk . \n",
       " \n",
       "  i used to blame that on xxmaj kubrick 's screenwriter . xxmaj the writer xxmaj diane xxmaj johnson ( author of xxmaj le xxmaj marriage , xxunk , xxmaj le xxmaj divorce , etc . ) has a reputation as an novelist of social manners . xxmaj maybe she was chosen for her subtle grasp of conjugal relations or family dynamics . xxmaj but the little blue - collar town of xxmaj sidewinder , xxmaj colorado does n't exist on any map in her xxmaj francophile universe . \n",
       " \n",
       "  xxmaj kubrick the xxmaj anglophile probably found her congenial , however . xxmaj he , of course , is the real auteur . xxmaj and considered on its own merits , his screenplay for \" xxmaj the xxmaj shining \" -- with its mishmash of abnormal psychology , rationalism , supernaturalism , and implied reincarnation -- just does n't stand up to logical analysis . \n",
       " \n",
       "  i 'm willing to consider xxmaj kubrick 's \" xxmaj shining \" on its own terms . i 'm even willing to take it as something other than a conventional horror - genre movie . xxmaj but it does n't succeed as a naturalistic study of isolation , alienation , and madness either . xxmaj xxunk either way , the film pretty much falls apart . \n",
       " \n",
       "  xxmaj are the horrors of the xxmaj overlook xxmaj hotel real ? xxmaj or do they exist only in the mind -- first as prescient nightmares suffered by little xxmaj danny xxmaj torrance , then as the hallucinations of his father ? xxmaj one notes how whenever xxmaj jack xxmaj torrance is seen talking to a \" ghost \" he is in fact looking into a mirror . xxmaj one notes how the hotel 's frozen xxunk - hedge maze appears to symbolize xxmaj jack 's stunted , convoluted psyche . xxmaj very deep stuff . \n",
       " \n",
       "  xxmaj but if indeed the xxmaj overlook 's \" ghosts \" are purely manifestations of xxmaj jack xxmaj torrance 's growing insanity , then who exactly lets the trapped xxmaj jack out of the hotel kitchen 's dead - bolted xxunk in closet , so that he can go on his climactic ax - wielding rampage ? \n",
       " \n",
       "  xxmaj and can xxup anyone explain , with a straight face , that black - and - white photograph ( helpfully labelled \" 1921 \" ) of xxmaj nicholson as a xxunk party - goer that pops up out of left field and onto a hotel - ballroom wall during the film 's closing seconds ? xxmaj are we to seriously conclude that xxmaj jack xxmaj torrance 's xxmaj bad xxmaj craziness stems from a some sort of \" past life \" experience ? ( xxmaj and if you swallow that , since when are reincarnated people supposed to be exact physical replicas their past selves ? ) \n",
       " \n",
       "  xxmaj maybe xxmaj kubrick did n't care about his storyline . xxmaj maybe only wanted to evoke a mood of horror . xxmaj whatever the case , the film tries to hedge its narrative bets -- to have it both ways , rational and supernatural . xxmaj as a result , the story is a mess . xxmaj this movie has n't improved with age , and it certainly does n't improve with repeated viewings . \n",
       " \n",
       "  i do n't deny that a few moments of fear , claustrophobia , and general creepiness are scattered throughout this long , long film . xxmaj but those gushing xxmaj elevators o ' xxmaj blood , seen repeatedly in little xxmaj danny 's visions , are absurd and laughable . xxmaj and xxmaj jack xxmaj torrance 's infamous tag lines ( \" xxmaj wendy , i 'm home ! \" and \" h xxrep 6 e re 's xxup johnny ! \" ) merely puncture the movie 's dramatic tension and dissipate its narrative energy . ( i know : i sat in the theater and heard the audience laugh in comic relief : \" xxmaj whew ! xxmaj glad we do n't have to take this stuff seriously ! \" ) xxmaj finally , xxmaj kubrick is completely at sea -- or else utterly cynical -- during those scenes in which xxmaj wendy wanders around the empty hotel while her husband tries to puree their son . a foyer full of mummified guests , all sitting there dead in their party hats ? xxmaj yikes , now i really am afraid . \n",
       " \n",
       "  xxmaj given xxmaj jack xxmaj nicholson 's brilliance over the years , one can only assume that he gave just the sort of eyeball - rolling , eyebrow - wiggling , scenery - chomping performance that the director wanted . xxmaj the performance of xxmaj shelley xxmaj duvall , as a sort of female version of xxmaj don xxmaj knotts in \" xxmaj the xxmaj ghost and xxmaj mr. xxmaj chicken , \" is best passed over in silence . \n",
       " \n",
       "  xxmaj this movie simply does n't succeed -- not as an adaptation , not on its own terms . xxmaj it probably merits a 3 out of 10 , but i 'm giving it a 1 because it has been so xxup grotesquely over - rated in this forum .\n",
       "y: CategoryList\n",
       "neg,neg,neg,neg,neg\n",
       "Path: /home/paperspace/.fastai/data/imdb;\n",
       "\n",
       "Valid: LabelList (25000 items)\n",
       "x: TextList\n",
       "xxbos xxmaj robot xxmaj holocaust is about the lamest , most pathetic attempt at making a post - apocalyptic movie that i 've seen . xxmaj and i thought the xxmaj italians were the masters of wretched xxmaj mad xxmaj max wannabes . xxmaj some of those movies like xxmaj escape 2000 are positively brilliant in comparison with this piece of poo . xxmaj the plot is nonsensical  even with a narrator setting up every scene . xxmaj and boy does it drag . xxmaj scene after scene with nothing of any interest happening . xxmaj the special effects ( and i use the word \" special \" loosely ) consist of sock puppets . xxmaj yes , that 's right  sock puppets ! xxmaj the acting is abysmal . xxmaj angelika xxmaj jager is in the running for worst performance i 've ever seen . xxmaj sure , she 's xxmaj french or xxmaj german or whatever  but man is she bad . i can not think of a single positive thing to say about the movie . xxmaj so i 'll stop there because ten sentences on this junk is about ten too many . \n",
       " \n",
       "  xxmaj however , and fortunately for me , i saw the xxup mst3 k version of xxmaj robot xxmaj holocaust . xxmaj some of the things that made the movie so bad helped make this xxup mst3 k episode a winner . xxmaj for a season one episode , the riffs come fast and furious and hit their mark just about every time . xxmaj on my xxup mst3 k rating scale , i give this episode a 4 / 5  seek it out .,xxbos i have a question for the writers and producers of \" xxmaj prozac xxmaj nation \" : xxmaj what is the root cause and what is the solution to the widespread problem of personal depression in xxmaj america ? xxmaj in the moving performance of xxmaj christina xxmaj ricci as xxmaj liz xxmaj wurtzel , the film portrays a young woman with unlimited potential as a xxmaj harvard student and as a writer . xxmaj but this is not a story of success , only one of self - destruction as we watch xxmaj liz bring misery into the lives everyone who comes in contact with her . xxmaj the film examines divorce , family dysfunction , drugs , alcohol , and prescription medication as possible reasons for xxmaj liz 's unhappiness . xxmaj but none of those superficial explanations are satisfactory . \n",
       " \n",
       "  xxmaj at some point in the film , it would have been helpful to suggest that xxmaj liz needs to take responsibility for her life and her problems . xxmaj no light was shed on what the film alleged to be a runaway problem in \" xxmaj the xxmaj united xxmaj states of xxmaj depression . \" xxmaj in the story , xxmaj liz had a caring therapist ( xxmaj anne xxmaj heche ) , a caring roommate ( xxmaj michele xxmaj williams ) , a caring boyfriend ( xxmaj jason xxmaj biggs ) , and a troubled but caring parent ( xxmaj jessica xxmaj lange ) . xxmaj in a key scene in the film , xxmaj liz is lying in a hospital bed watching the break - up of the space shuttle xxmaj challenger . xxmaj instead of equating xxmaj challenger with xxmaj liz 's life , the film should have used the image as a starting point for her healing and recovery . \n",
       " \n",
       "  xxmaj this film reminded me of a generic made - for - cable \" victim \" film on the xxmaj lifetime network . xxmaj an excellent cast was wasted , especially in the earnest performance of xxmaj christina xxmaj ricci . xxmaj the real - life xxmaj elizabeth xxmaj wurtzel obviously found within herself the resources to cope with her depression and become a successful author . xxmaj it is unfortunate that the film could not offer us even the slightest glimpse into her courageous spirit .,xxbos i 'm working my way through the xxmaj horror xxmaj classics 50 xxmaj movie xxmaj pack xxmaj collection and xxup the xxup mad xxup monster is one of the movies in the set . \n",
       " \n",
       "  i am sure that xxmaj george xxmaj zucco was a good actor ; but , this was only the second film in which i saw him , the first being xxup dead xxup men xxup walk , in which he played two parts . xxmaj however , even good acting could n't save xxup the xxup mad xxup monster . \n",
       " \n",
       "  xxmaj zucco plays a mad scientist , xxmaj dr. xxmaj cameron ( who was banned from academia because of his unethical and inhumane experiments ) . xxmaj he believes that he can control evolution by bringing out the characteristics of one animal into another . \n",
       " \n",
       "  xxmaj in this case , like so many others of its ilk , it is a transfusion of ( i assume ) wolf 's blood into humans . xxmaj his goal is to create an invincible army , which he can control through the antidote . xxmaj the subject of his experiments is his hired hand , a retarded gardener , whose dialogue slows down this snail - paced classic to almost a full - stop . \n",
       " \n",
       "  xxmaj beyond his experiments , xxmaj dr. xxmaj cameron also plots revenge on those who discredited him , using his transformed gardener . xxmaj however , he loses control of his subject , who begins to transform without the transfusion -- yikes ! \n",
       " \n",
       "  xxmaj the werewolf transformations are classic xxmaj hollywood stop - action / makeup effects . xxmaj no doubt these were groundbreaking techniques of the time ; but , in today 's digital age it 's hard to imagine audiences being scared by this .,xxbos xxmaj retro xxmaj puppet xxmaj master is complete and utter xxunk particular , the puppets look stupid , and crappy . xxmaj the acting was unforgivable and the story was rancid . xxmaj this movie goes back into the the past , where the dolls where first created , thats not xxmaj puppet xxmaj master . xxmaj retro xxmaj puppet xxmaj master is rated xxunk first xxmaj puppet xxmaj master to be rated xxunk movie contains no horror , or suspense . xxmaj the fact that this movie was a xxmaj puppet xxmaj master film boggles the mind , because this installment does nt have the buckets of blood , good acting , or any xxunk like the previous movies did . xxmaj dont see this movie , dont rent it , and do nt even watch it f its on xxup tv , because this film is stale , not violent , and completely xxunk out of xxunk a xxmaj puppet xxmaj master fan , i am disappointed ... seriously .,xxbos i did have some expectations from this film because 1 . xxmaj it was a xxmaj yash raj production 2 . xxmaj when the songs were first shown on xxup tv , they seemed catchy 3 . xxmaj the star ( ? ? ! ) cast was new . xxmaj well , i must tell u that i just could n't sit through this movie . xxmaj uday , ( with his red lips - what were the make up artists thinking ? ? ? ! ) tries hard to look cool but fails miserably . i wo n't even get started on his acting ( if u can call it that ) . ' xxmaj cleavage queen ' xxmaj tanisha with all her screaming and ranting n raving just makes you want to pull your hair out in frustration . i think xxmaj uday was slightly more tolerable than her ! xxmaj she seriously needs to take acting lessons from her sister . xxmaj the story is pathetic ... the same old tried and tested formula . xxmaj absolutely no originality . xxmaj there is nothing worth watching in this movie . xxmaj makes me wonder why it was made in the first place !\n",
       "y: CategoryList\n",
       "neg,neg,neg,neg,neg\n",
       "Path: /home/paperspace/.fastai/data/imdb;\n",
       "\n",
       "Test: None, model=SequentialRNN(\n",
       "  (0): MultiBatchEncoder(\n",
       "    (module): AWD_LSTM(\n",
       "      (encoder): Embedding(60003, 400, padding_idx=1)\n",
       "      (encoder_dp): EmbeddingDropout(\n",
       "        (emb): Embedding(60003, 400, padding_idx=1)\n",
       "      )\n",
       "      (rnns): ModuleList(\n",
       "        (0): WeightDropout(\n",
       "          (module): LSTM(400, 1150, batch_first=True)\n",
       "        )\n",
       "        (1): WeightDropout(\n",
       "          (module): LSTM(1150, 1150, batch_first=True)\n",
       "        )\n",
       "        (2): WeightDropout(\n",
       "          (module): LSTM(1150, 400, batch_first=True)\n",
       "        )\n",
       "      )\n",
       "      (input_dp): RNNDropout()\n",
       "      (hidden_dps): ModuleList(\n",
       "        (0): RNNDropout()\n",
       "        (1): RNNDropout()\n",
       "        (2): RNNDropout()\n",
       "      )\n",
       "    )\n",
       "  )\n",
       "  (1): PoolingLinearClassifier(\n",
       "    (layers): Sequential(\n",
       "      (0): BatchNorm1d(1200, eps=1e-05, momentum=0.1, affine=True, track_running_stats=True)\n",
       "      (1): Dropout(p=0.2)\n",
       "      (2): Linear(in_features=1200, out_features=50, bias=True)\n",
       "      (3): ReLU(inplace)\n",
       "      (4): BatchNorm1d(50, eps=1e-05, momentum=0.1, affine=True, track_running_stats=True)\n",
       "      (5): Dropout(p=0.1)\n",
       "      (6): Linear(in_features=50, out_features=2, bias=True)\n",
       "    )\n",
       "  )\n",
       "), opt_func=functools.partial(<class 'torch.optim.adam.Adam'>, betas=(0.9, 0.99)), loss_func=FlattenedLoss of CrossEntropyLoss(), metrics=[<function accuracy at 0x7f5c5ed25bf8>], true_wd=True, bn_wd=True, wd=0.01, train_bn=True, path=PosixPath('/home/paperspace/.fastai/data/imdb'), model_dir='models', callback_fns=[functools.partial(<class 'fastai.basic_train.Recorder'>, add_time=True)], callbacks=[RNNTrainer\n",
       "learn: ...\n",
       "alpha: 2.0\n",
       "beta: 1.0], layer_groups=[Sequential(\n",
       "  (0): Embedding(60003, 400, padding_idx=1)\n",
       "  (1): EmbeddingDropout(\n",
       "    (emb): Embedding(60003, 400, padding_idx=1)\n",
       "  )\n",
       "), Sequential(\n",
       "  (0): WeightDropout(\n",
       "    (module): LSTM(400, 1150, batch_first=True)\n",
       "  )\n",
       "  (1): RNNDropout()\n",
       "), Sequential(\n",
       "  (0): WeightDropout(\n",
       "    (module): LSTM(1150, 1150, batch_first=True)\n",
       "  )\n",
       "  (1): RNNDropout()\n",
       "), Sequential(\n",
       "  (0): WeightDropout(\n",
       "    (module): LSTM(1150, 400, batch_first=True)\n",
       "  )\n",
       "  (1): RNNDropout()\n",
       "), Sequential(\n",
       "  (0): PoolingLinearClassifier(\n",
       "    (layers): Sequential(\n",
       "      (0): BatchNorm1d(1200, eps=1e-05, momentum=0.1, affine=True, track_running_stats=True)\n",
       "      (1): Dropout(p=0.2)\n",
       "      (2): Linear(in_features=1200, out_features=50, bias=True)\n",
       "      (3): ReLU(inplace)\n",
       "      (4): BatchNorm1d(50, eps=1e-05, momentum=0.1, affine=True, track_running_stats=True)\n",
       "      (5): Dropout(p=0.1)\n",
       "      (6): Linear(in_features=50, out_features=2, bias=True)\n",
       "    )\n",
       "  )\n",
       ")], add_time=True)"
      ]
     },
     "execution_count": 20,
     "metadata": {},
     "output_type": "execute_result"
    }
   ],
   "source": [
    "# Load\n",
    "learn_clas.load('clas-stage-3')"
   ]
  },
  {
   "cell_type": "code",
   "execution_count": 21,
   "metadata": {
    "scrolled": false
   },
   "outputs": [
    {
     "data": {
      "text/plain": [
       "224149504"
      ]
     },
     "execution_count": 21,
     "metadata": {},
     "output_type": "execute_result"
    }
   ],
   "source": [
    "torch.cuda.memory_allocated()"
   ]
  },
  {
   "cell_type": "markdown",
   "metadata": {},
   "source": [
    "#### Unfreeze all layers\n",
    "\n",
    "At this point, it's a good idea to restart the kernel and load the model from file to avoid running out of GPU memory."
   ]
  },
  {
   "cell_type": "code",
   "execution_count": 1,
   "metadata": {
    "collapsed": true
   },
   "outputs": [
    {
     "data": {
      "text/plain": [
       "RNNLearner(data=TextClasDataBunch;\n",
       "\n",
       "Train: LabelList (25000 items)\n",
       "x: TextList\n",
       "xxbos xxmaj basically , xxmaj cruel xxmaj intentions 2 is xxmaj cruel xxmaj intentions 1 , again , only poorly done . xxmaj the story is exactly the same as the first one ( even some of the lines ) , with only a few exceptions . xxmaj the cast is more unknown , and definitely less talented . xxmaj instead of being seductive and drawing me into watching it , i ended up feeling dirty because it compares to watching a soft - core porn . i 'm not sure whether to blame some of the idiotic lines on the actors or the writers ... and i always feel bad saying that , because i know how hard it is to do both ... but it was basically a two - hour waste of my life . xxmaj it literally amazes me that some movies get made , and this is no exception ... i ca n't believe they 'd make a third one .,xxbos i had been subjected to this movie for a relationship class in my school . xxmaj as figured it was nothing captivating and nothing new . xxmaj though it tries to be original by focusing on the teen father instead of the mother showing the problems that the dad would go through . xxmaj it had an interesting side to it but it just does n't live up to its originality due to the fact nothing else in this movie was original . xxmaj we have the main character who has the older sister who like in every other movie like this has a thing against him , we have the stay at home mother who expects too much and when he gives more she feels offended and leaves him in the dust , then we have the father who is always gone . xxmaj then the girls side we have the parents who want everything and expect her to be perfect at all she does . xxmaj on to the story like i said it was interesting but the lack of good acting from the entire cast and the lack of any good writing or storytelling . xxmaj everything about this fell into cliché the little nerd kid in school starts studying with girl , they get together , have sex and then boom we have a little kid . xxmaj perhaps it could 've been better had the writing been well better and had the acting been improved i 've seriously gotten more emotion out of xxmaj leatherface and his chainsaw than i did out of any actor in this film and that 's pretty bad seeing as the xxmaj leatherface movies are crap and horridly acted . xxmaj so far the only interesting teen pregnancy movie i 've seen was xxmaj juno . xxmaj so far the comical side of this serious situation has proved more entertaining while still giving the same message . xxmaj like i said the idea was original most of these films focus on the teen mother but this one chose not to instead it focuses on the drama of the father but again the originality does not save this movie from mediocrity . i really hope someone decides to either re - make this movie with a better cast and a better writer or just make another similar film because this one was wasted potential .,xxbos i just saw this movie on xxmaj flix after timer - taping it . i grew up watching f xxmaj troop and had a major hard for xxmaj wrangler xxmaj jane so i was shocked , literally shocked , to find out after seeing this film that the degenerate homicidal nurse was xxmaj melody xxmaj patterson , who looks pretty good but also looks completely different and is unfortunately poorly photographed . i would never have guessed it was her in a million years . xxmaj what the hell is she doing in a picture like this ? i agree with the guys here that the movie lacks what it 's pushing . xxmaj no sex , no gore , no tease . xxmaj it 's also a remake of the xxmaj atomic xxmaj brain aka xxmaj monstrosity ( 1964 or thereabouts ) . xxmaj most of the action is tedious ; the main character spends enormous amounts of time running around the crazed doctor 's house and basement , and the neighborhood in general , or being roughed up by the cop , all of it boring and time - filling . xxmaj now if the xxmaj italians would have made this , half the film would have been the xxmaj slingblade / xxmaj uncle xxmaj ernest / xxmaj jack xxmaj elam henchman fondling the unconscious nude girls . xxmaj but you only get that for 20 seconds .,xxbos xxmaj absolutely awful movie . xxmaj utter waste of time . \n",
       " \n",
       "  background music is so loud that you can not understand speech . xxmaj well if you really listen closely , whatever they speak is actually unintelligible . \n",
       " \n",
       "  xxmaj camera work is bad , editing is not present , background score gives a headache , action is shoddy , dialogs are unintelligible , xxmaj acting is abysmal and well xxmaj kareena used to look like a wrestler , now she looks like a starved wrestler . xxmaj hell you can slim down but you can not gain grace . \n",
       " \n",
       "  xxmaj after spending three hours watching a movie i want to like it , but this movie would not even allow me that pleasure . \n",
       " \n",
       "  xxmaj please if you want to torture yourself , go ahead watch this .,xxbos xxmaj kubrick meets xxmaj king . xxmaj it sounded so promising back in the spring of 1980 , i remember . xxmaj then the movie came out , and the xxmaj kubrick cultists have been bickering with the xxmaj king cultists ever since . \n",
       " \n",
       "  xxmaj the xxmaj king cultists say xxmaj stanley xxmaj kubrick took a great horror tale and ruined it . xxmaj the xxmaj kubrick cultists do n't give a damn about xxmaj king 's story . xxmaj they talk about xxmaj xxunk , tracking shots , camera angles . xxmaj this is a film , they insist : xxmaj it should be considered on its own . xxmaj as it happens , both camps are correct . xxmaj unfortunately . \n",
       " \n",
       "  xxmaj if one views it purely as an adaptation of xxmaj king 's novel , \" xxmaj the xxmaj shining \" is indeed a failure , a wasted opportunity , a series of botched narrative xxunk . \n",
       " \n",
       "  i used to blame that on xxmaj kubrick 's screenwriter . xxmaj the writer xxmaj diane xxmaj johnson ( author of xxmaj le xxmaj marriage , xxunk , xxmaj le xxmaj divorce , etc . ) has a reputation as an novelist of social manners . xxmaj maybe she was chosen for her subtle grasp of conjugal relations or family dynamics . xxmaj but the little blue - collar town of xxmaj sidewinder , xxmaj colorado does n't exist on any map in her xxmaj francophile universe . \n",
       " \n",
       "  xxmaj kubrick the xxmaj anglophile probably found her congenial , however . xxmaj he , of course , is the real auteur . xxmaj and considered on its own merits , his screenplay for \" xxmaj the xxmaj shining \" -- with its mishmash of abnormal psychology , rationalism , supernaturalism , and implied reincarnation -- just does n't stand up to logical analysis . \n",
       " \n",
       "  i 'm willing to consider xxmaj kubrick 's \" xxmaj shining \" on its own terms . i 'm even willing to take it as something other than a conventional horror - genre movie . xxmaj but it does n't succeed as a naturalistic study of isolation , alienation , and madness either . xxmaj xxunk either way , the film pretty much falls apart . \n",
       " \n",
       "  xxmaj are the horrors of the xxmaj overlook xxmaj hotel real ? xxmaj or do they exist only in the mind -- first as prescient nightmares suffered by little xxmaj danny xxmaj torrance , then as the hallucinations of his father ? xxmaj one notes how whenever xxmaj jack xxmaj torrance is seen talking to a \" ghost \" he is in fact looking into a mirror . xxmaj one notes how the hotel 's frozen xxunk - hedge maze appears to symbolize xxmaj jack 's stunted , convoluted psyche . xxmaj very deep stuff . \n",
       " \n",
       "  xxmaj but if indeed the xxmaj overlook 's \" ghosts \" are purely manifestations of xxmaj jack xxmaj torrance 's growing insanity , then who exactly lets the trapped xxmaj jack out of the hotel kitchen 's dead - bolted xxunk in closet , so that he can go on his climactic ax - wielding rampage ? \n",
       " \n",
       "  xxmaj and can xxup anyone explain , with a straight face , that black - and - white photograph ( helpfully labelled \" 1921 \" ) of xxmaj nicholson as a xxunk party - goer that pops up out of left field and onto a hotel - ballroom wall during the film 's closing seconds ? xxmaj are we to seriously conclude that xxmaj jack xxmaj torrance 's xxmaj bad xxmaj craziness stems from a some sort of \" past life \" experience ? ( xxmaj and if you swallow that , since when are reincarnated people supposed to be exact physical replicas their past selves ? ) \n",
       " \n",
       "  xxmaj maybe xxmaj kubrick did n't care about his storyline . xxmaj maybe only wanted to evoke a mood of horror . xxmaj whatever the case , the film tries to hedge its narrative bets -- to have it both ways , rational and supernatural . xxmaj as a result , the story is a mess . xxmaj this movie has n't improved with age , and it certainly does n't improve with repeated viewings . \n",
       " \n",
       "  i do n't deny that a few moments of fear , claustrophobia , and general creepiness are scattered throughout this long , long film . xxmaj but those gushing xxmaj elevators o ' xxmaj blood , seen repeatedly in little xxmaj danny 's visions , are absurd and laughable . xxmaj and xxmaj jack xxmaj torrance 's infamous tag lines ( \" xxmaj wendy , i 'm home ! \" and \" h xxrep 6 e re 's xxup johnny ! \" ) merely puncture the movie 's dramatic tension and dissipate its narrative energy . ( i know : i sat in the theater and heard the audience laugh in comic relief : \" xxmaj whew ! xxmaj glad we do n't have to take this stuff seriously ! \" ) xxmaj finally , xxmaj kubrick is completely at sea -- or else utterly cynical -- during those scenes in which xxmaj wendy wanders around the empty hotel while her husband tries to puree their son . a foyer full of mummified guests , all sitting there dead in their party hats ? xxmaj yikes , now i really am afraid . \n",
       " \n",
       "  xxmaj given xxmaj jack xxmaj nicholson 's brilliance over the years , one can only assume that he gave just the sort of eyeball - rolling , eyebrow - wiggling , scenery - chomping performance that the director wanted . xxmaj the performance of xxmaj shelley xxmaj duvall , as a sort of female version of xxmaj don xxmaj knotts in \" xxmaj the xxmaj ghost and xxmaj mr. xxmaj chicken , \" is best passed over in silence . \n",
       " \n",
       "  xxmaj this movie simply does n't succeed -- not as an adaptation , not on its own terms . xxmaj it probably merits a 3 out of 10 , but i 'm giving it a 1 because it has been so xxup grotesquely over - rated in this forum .\n",
       "y: CategoryList\n",
       "neg,neg,neg,neg,neg\n",
       "Path: /home/paperspace/.fastai/data/imdb;\n",
       "\n",
       "Valid: LabelList (25000 items)\n",
       "x: TextList\n",
       "xxbos xxmaj robot xxmaj holocaust is about the lamest , most pathetic attempt at making a post - apocalyptic movie that i 've seen . xxmaj and i thought the xxmaj italians were the masters of wretched xxmaj mad xxmaj max wannabes . xxmaj some of those movies like xxmaj escape 2000 are positively brilliant in comparison with this piece of poo . xxmaj the plot is nonsensical  even with a narrator setting up every scene . xxmaj and boy does it drag . xxmaj scene after scene with nothing of any interest happening . xxmaj the special effects ( and i use the word \" special \" loosely ) consist of sock puppets . xxmaj yes , that 's right  sock puppets ! xxmaj the acting is abysmal . xxmaj angelika xxmaj jager is in the running for worst performance i 've ever seen . xxmaj sure , she 's xxmaj french or xxmaj german or whatever  but man is she bad . i can not think of a single positive thing to say about the movie . xxmaj so i 'll stop there because ten sentences on this junk is about ten too many . \n",
       " \n",
       "  xxmaj however , and fortunately for me , i saw the xxup mst3 k version of xxmaj robot xxmaj holocaust . xxmaj some of the things that made the movie so bad helped make this xxup mst3 k episode a winner . xxmaj for a season one episode , the riffs come fast and furious and hit their mark just about every time . xxmaj on my xxup mst3 k rating scale , i give this episode a 4 / 5  seek it out .,xxbos i have a question for the writers and producers of \" xxmaj prozac xxmaj nation \" : xxmaj what is the root cause and what is the solution to the widespread problem of personal depression in xxmaj america ? xxmaj in the moving performance of xxmaj christina xxmaj ricci as xxmaj liz xxmaj wurtzel , the film portrays a young woman with unlimited potential as a xxmaj harvard student and as a writer . xxmaj but this is not a story of success , only one of self - destruction as we watch xxmaj liz bring misery into the lives everyone who comes in contact with her . xxmaj the film examines divorce , family dysfunction , drugs , alcohol , and prescription medication as possible reasons for xxmaj liz 's unhappiness . xxmaj but none of those superficial explanations are satisfactory . \n",
       " \n",
       "  xxmaj at some point in the film , it would have been helpful to suggest that xxmaj liz needs to take responsibility for her life and her problems . xxmaj no light was shed on what the film alleged to be a runaway problem in \" xxmaj the xxmaj united xxmaj states of xxmaj depression . \" xxmaj in the story , xxmaj liz had a caring therapist ( xxmaj anne xxmaj heche ) , a caring roommate ( xxmaj michele xxmaj williams ) , a caring boyfriend ( xxmaj jason xxmaj biggs ) , and a troubled but caring parent ( xxmaj jessica xxmaj lange ) . xxmaj in a key scene in the film , xxmaj liz is lying in a hospital bed watching the break - up of the space shuttle xxmaj challenger . xxmaj instead of equating xxmaj challenger with xxmaj liz 's life , the film should have used the image as a starting point for her healing and recovery . \n",
       " \n",
       "  xxmaj this film reminded me of a generic made - for - cable \" victim \" film on the xxmaj lifetime network . xxmaj an excellent cast was wasted , especially in the earnest performance of xxmaj christina xxmaj ricci . xxmaj the real - life xxmaj elizabeth xxmaj wurtzel obviously found within herself the resources to cope with her depression and become a successful author . xxmaj it is unfortunate that the film could not offer us even the slightest glimpse into her courageous spirit .,xxbos i 'm working my way through the xxmaj horror xxmaj classics 50 xxmaj movie xxmaj pack xxmaj collection and xxup the xxup mad xxup monster is one of the movies in the set . \n",
       " \n",
       "  i am sure that xxmaj george xxmaj zucco was a good actor ; but , this was only the second film in which i saw him , the first being xxup dead xxup men xxup walk , in which he played two parts . xxmaj however , even good acting could n't save xxup the xxup mad xxup monster . \n",
       " \n",
       "  xxmaj zucco plays a mad scientist , xxmaj dr. xxmaj cameron ( who was banned from academia because of his unethical and inhumane experiments ) . xxmaj he believes that he can control evolution by bringing out the characteristics of one animal into another . \n",
       " \n",
       "  xxmaj in this case , like so many others of its ilk , it is a transfusion of ( i assume ) wolf 's blood into humans . xxmaj his goal is to create an invincible army , which he can control through the antidote . xxmaj the subject of his experiments is his hired hand , a retarded gardener , whose dialogue slows down this snail - paced classic to almost a full - stop . \n",
       " \n",
       "  xxmaj beyond his experiments , xxmaj dr. xxmaj cameron also plots revenge on those who discredited him , using his transformed gardener . xxmaj however , he loses control of his subject , who begins to transform without the transfusion -- yikes ! \n",
       " \n",
       "  xxmaj the werewolf transformations are classic xxmaj hollywood stop - action / makeup effects . xxmaj no doubt these were groundbreaking techniques of the time ; but , in today 's digital age it 's hard to imagine audiences being scared by this .,xxbos xxmaj retro xxmaj puppet xxmaj master is complete and utter xxunk particular , the puppets look stupid , and crappy . xxmaj the acting was unforgivable and the story was rancid . xxmaj this movie goes back into the the past , where the dolls where first created , thats not xxmaj puppet xxmaj master . xxmaj retro xxmaj puppet xxmaj master is rated xxunk first xxmaj puppet xxmaj master to be rated xxunk movie contains no horror , or suspense . xxmaj the fact that this movie was a xxmaj puppet xxmaj master film boggles the mind , because this installment does nt have the buckets of blood , good acting , or any xxunk like the previous movies did . xxmaj dont see this movie , dont rent it , and do nt even watch it f its on xxup tv , because this film is stale , not violent , and completely xxunk out of xxunk a xxmaj puppet xxmaj master fan , i am disappointed ... seriously .,xxbos i did have some expectations from this film because 1 . xxmaj it was a xxmaj yash raj production 2 . xxmaj when the songs were first shown on xxup tv , they seemed catchy 3 . xxmaj the star ( ? ? ! ) cast was new . xxmaj well , i must tell u that i just could n't sit through this movie . xxmaj uday , ( with his red lips - what were the make up artists thinking ? ? ? ! ) tries hard to look cool but fails miserably . i wo n't even get started on his acting ( if u can call it that ) . ' xxmaj cleavage queen ' xxmaj tanisha with all her screaming and ranting n raving just makes you want to pull your hair out in frustration . i think xxmaj uday was slightly more tolerable than her ! xxmaj she seriously needs to take acting lessons from her sister . xxmaj the story is pathetic ... the same old tried and tested formula . xxmaj absolutely no originality . xxmaj there is nothing worth watching in this movie . xxmaj makes me wonder why it was made in the first place !\n",
       "y: CategoryList\n",
       "neg,neg,neg,neg,neg\n",
       "Path: /home/paperspace/.fastai/data/imdb;\n",
       "\n",
       "Test: None, model=SequentialRNN(\n",
       "  (0): MultiBatchEncoder(\n",
       "    (module): AWD_LSTM(\n",
       "      (encoder): Embedding(60003, 400, padding_idx=1)\n",
       "      (encoder_dp): EmbeddingDropout(\n",
       "        (emb): Embedding(60003, 400, padding_idx=1)\n",
       "      )\n",
       "      (rnns): ModuleList(\n",
       "        (0): WeightDropout(\n",
       "          (module): LSTM(400, 1150, batch_first=True)\n",
       "        )\n",
       "        (1): WeightDropout(\n",
       "          (module): LSTM(1150, 1150, batch_first=True)\n",
       "        )\n",
       "        (2): WeightDropout(\n",
       "          (module): LSTM(1150, 400, batch_first=True)\n",
       "        )\n",
       "      )\n",
       "      (input_dp): RNNDropout()\n",
       "      (hidden_dps): ModuleList(\n",
       "        (0): RNNDropout()\n",
       "        (1): RNNDropout()\n",
       "        (2): RNNDropout()\n",
       "      )\n",
       "    )\n",
       "  )\n",
       "  (1): PoolingLinearClassifier(\n",
       "    (layers): Sequential(\n",
       "      (0): BatchNorm1d(1200, eps=1e-05, momentum=0.1, affine=True, track_running_stats=True)\n",
       "      (1): Dropout(p=0.2)\n",
       "      (2): Linear(in_features=1200, out_features=50, bias=True)\n",
       "      (3): ReLU(inplace)\n",
       "      (4): BatchNorm1d(50, eps=1e-05, momentum=0.1, affine=True, track_running_stats=True)\n",
       "      (5): Dropout(p=0.1)\n",
       "      (6): Linear(in_features=50, out_features=2, bias=True)\n",
       "    )\n",
       "  )\n",
       "), opt_func=functools.partial(<class 'torch.optim.adam.Adam'>, betas=(0.9, 0.99)), loss_func=FlattenedLoss of CrossEntropyLoss(), metrics=[<function accuracy at 0x7f9c7abb3bf8>], true_wd=True, bn_wd=True, wd=0.01, train_bn=True, path=PosixPath('/home/paperspace/.fastai/data/imdb'), model_dir='models', callback_fns=[functools.partial(<class 'fastai.basic_train.Recorder'>, add_time=True)], callbacks=[RNNTrainer\n",
       "learn: ...\n",
       "alpha: 2.0\n",
       "beta: 1.0], layer_groups=[Sequential(\n",
       "  (0): Embedding(60003, 400, padding_idx=1)\n",
       "  (1): EmbeddingDropout(\n",
       "    (emb): Embedding(60003, 400, padding_idx=1)\n",
       "  )\n",
       "), Sequential(\n",
       "  (0): WeightDropout(\n",
       "    (module): LSTM(400, 1150, batch_first=True)\n",
       "  )\n",
       "  (1): RNNDropout()\n",
       "), Sequential(\n",
       "  (0): WeightDropout(\n",
       "    (module): LSTM(1150, 1150, batch_first=True)\n",
       "  )\n",
       "  (1): RNNDropout()\n",
       "), Sequential(\n",
       "  (0): WeightDropout(\n",
       "    (module): LSTM(1150, 400, batch_first=True)\n",
       "  )\n",
       "  (1): RNNDropout()\n",
       "), Sequential(\n",
       "  (0): PoolingLinearClassifier(\n",
       "    (layers): Sequential(\n",
       "      (0): BatchNorm1d(1200, eps=1e-05, momentum=0.1, affine=True, track_running_stats=True)\n",
       "      (1): Dropout(p=0.2)\n",
       "      (2): Linear(in_features=1200, out_features=50, bias=True)\n",
       "      (3): ReLU(inplace)\n",
       "      (4): BatchNorm1d(50, eps=1e-05, momentum=0.1, affine=True, track_running_stats=True)\n",
       "      (5): Dropout(p=0.1)\n",
       "      (6): Linear(in_features=50, out_features=2, bias=True)\n",
       "    )\n",
       "  )\n",
       ")], add_time=True)"
      ]
     },
     "execution_count": 1,
     "metadata": {},
     "output_type": "execute_result"
    }
   ],
   "source": [
    "# Restart and run these:\n",
    "%reload_ext autoreload\n",
    "%autoreload 2\n",
    "%matplotlib inline\n",
    "get_ipython().config.get('IPKernelApp', {})['parent_appname'] = \"\"\n",
    "from fastai.text import *\n",
    "\n",
    "path = Path('/home/paperspace/.fastai/data/imdb')\n",
    "data = load_data(path, fname='data_clas.pkl', bs=16)\n",
    "learn_clas = text_classifier_learner(data, arch=AWD_LSTM, drop_mult=0.5)\n",
    "learn_clas.load('clas-stage-3')"
   ]
  },
  {
   "cell_type": "code",
   "execution_count": 2,
   "metadata": {},
   "outputs": [],
   "source": [
    "learn_clas.unfreeze()"
   ]
  },
  {
   "cell_type": "markdown",
   "metadata": {},
   "source": [
    "#### No need to do `lr_find()` again!"
   ]
  },
  {
   "cell_type": "code",
   "execution_count": 3,
   "metadata": {},
   "outputs": [],
   "source": [
    "lr = slice(1e-3/(2.6**4),1e-3)\n",
    "moms = (0.8, 0.7)"
   ]
  },
  {
   "cell_type": "code",
   "execution_count": null,
   "metadata": {},
   "outputs": [],
   "source": [
    "# Fit two cycles\n",
    "# Don't execute during practice\n",
    "learn_clas.fit_one_cycle(cyc_len=2, max_lr=lr, moms)"
   ]
  },
  {
   "cell_type": "code",
   "execution_count": null,
   "metadata": {},
   "outputs": [],
   "source": [
    "# Save\n",
    "# learn_clas.save('clas-stage-4')"
   ]
  },
  {
   "cell_type": "code",
   "execution_count": 4,
   "metadata": {
    "collapsed": true
   },
   "outputs": [
    {
     "data": {
      "text/plain": [
       "RNNLearner(data=TextClasDataBunch;\n",
       "\n",
       "Train: LabelList (25000 items)\n",
       "x: TextList\n",
       "xxbos xxmaj basically , xxmaj cruel xxmaj intentions 2 is xxmaj cruel xxmaj intentions 1 , again , only poorly done . xxmaj the story is exactly the same as the first one ( even some of the lines ) , with only a few exceptions . xxmaj the cast is more unknown , and definitely less talented . xxmaj instead of being seductive and drawing me into watching it , i ended up feeling dirty because it compares to watching a soft - core porn . i 'm not sure whether to blame some of the idiotic lines on the actors or the writers ... and i always feel bad saying that , because i know how hard it is to do both ... but it was basically a two - hour waste of my life . xxmaj it literally amazes me that some movies get made , and this is no exception ... i ca n't believe they 'd make a third one .,xxbos i had been subjected to this movie for a relationship class in my school . xxmaj as figured it was nothing captivating and nothing new . xxmaj though it tries to be original by focusing on the teen father instead of the mother showing the problems that the dad would go through . xxmaj it had an interesting side to it but it just does n't live up to its originality due to the fact nothing else in this movie was original . xxmaj we have the main character who has the older sister who like in every other movie like this has a thing against him , we have the stay at home mother who expects too much and when he gives more she feels offended and leaves him in the dust , then we have the father who is always gone . xxmaj then the girls side we have the parents who want everything and expect her to be perfect at all she does . xxmaj on to the story like i said it was interesting but the lack of good acting from the entire cast and the lack of any good writing or storytelling . xxmaj everything about this fell into cliché the little nerd kid in school starts studying with girl , they get together , have sex and then boom we have a little kid . xxmaj perhaps it could 've been better had the writing been well better and had the acting been improved i 've seriously gotten more emotion out of xxmaj leatherface and his chainsaw than i did out of any actor in this film and that 's pretty bad seeing as the xxmaj leatherface movies are crap and horridly acted . xxmaj so far the only interesting teen pregnancy movie i 've seen was xxmaj juno . xxmaj so far the comical side of this serious situation has proved more entertaining while still giving the same message . xxmaj like i said the idea was original most of these films focus on the teen mother but this one chose not to instead it focuses on the drama of the father but again the originality does not save this movie from mediocrity . i really hope someone decides to either re - make this movie with a better cast and a better writer or just make another similar film because this one was wasted potential .,xxbos i just saw this movie on xxmaj flix after timer - taping it . i grew up watching f xxmaj troop and had a major hard for xxmaj wrangler xxmaj jane so i was shocked , literally shocked , to find out after seeing this film that the degenerate homicidal nurse was xxmaj melody xxmaj patterson , who looks pretty good but also looks completely different and is unfortunately poorly photographed . i would never have guessed it was her in a million years . xxmaj what the hell is she doing in a picture like this ? i agree with the guys here that the movie lacks what it 's pushing . xxmaj no sex , no gore , no tease . xxmaj it 's also a remake of the xxmaj atomic xxmaj brain aka xxmaj monstrosity ( 1964 or thereabouts ) . xxmaj most of the action is tedious ; the main character spends enormous amounts of time running around the crazed doctor 's house and basement , and the neighborhood in general , or being roughed up by the cop , all of it boring and time - filling . xxmaj now if the xxmaj italians would have made this , half the film would have been the xxmaj slingblade / xxmaj uncle xxmaj ernest / xxmaj jack xxmaj elam henchman fondling the unconscious nude girls . xxmaj but you only get that for 20 seconds .,xxbos xxmaj absolutely awful movie . xxmaj utter waste of time . \n",
       " \n",
       "  background music is so loud that you can not understand speech . xxmaj well if you really listen closely , whatever they speak is actually unintelligible . \n",
       " \n",
       "  xxmaj camera work is bad , editing is not present , background score gives a headache , action is shoddy , dialogs are unintelligible , xxmaj acting is abysmal and well xxmaj kareena used to look like a wrestler , now she looks like a starved wrestler . xxmaj hell you can slim down but you can not gain grace . \n",
       " \n",
       "  xxmaj after spending three hours watching a movie i want to like it , but this movie would not even allow me that pleasure . \n",
       " \n",
       "  xxmaj please if you want to torture yourself , go ahead watch this .,xxbos xxmaj kubrick meets xxmaj king . xxmaj it sounded so promising back in the spring of 1980 , i remember . xxmaj then the movie came out , and the xxmaj kubrick cultists have been bickering with the xxmaj king cultists ever since . \n",
       " \n",
       "  xxmaj the xxmaj king cultists say xxmaj stanley xxmaj kubrick took a great horror tale and ruined it . xxmaj the xxmaj kubrick cultists do n't give a damn about xxmaj king 's story . xxmaj they talk about xxmaj xxunk , tracking shots , camera angles . xxmaj this is a film , they insist : xxmaj it should be considered on its own . xxmaj as it happens , both camps are correct . xxmaj unfortunately . \n",
       " \n",
       "  xxmaj if one views it purely as an adaptation of xxmaj king 's novel , \" xxmaj the xxmaj shining \" is indeed a failure , a wasted opportunity , a series of botched narrative xxunk . \n",
       " \n",
       "  i used to blame that on xxmaj kubrick 's screenwriter . xxmaj the writer xxmaj diane xxmaj johnson ( author of xxmaj le xxmaj marriage , xxunk , xxmaj le xxmaj divorce , etc . ) has a reputation as an novelist of social manners . xxmaj maybe she was chosen for her subtle grasp of conjugal relations or family dynamics . xxmaj but the little blue - collar town of xxmaj sidewinder , xxmaj colorado does n't exist on any map in her xxmaj francophile universe . \n",
       " \n",
       "  xxmaj kubrick the xxmaj anglophile probably found her congenial , however . xxmaj he , of course , is the real auteur . xxmaj and considered on its own merits , his screenplay for \" xxmaj the xxmaj shining \" -- with its mishmash of abnormal psychology , rationalism , supernaturalism , and implied reincarnation -- just does n't stand up to logical analysis . \n",
       " \n",
       "  i 'm willing to consider xxmaj kubrick 's \" xxmaj shining \" on its own terms . i 'm even willing to take it as something other than a conventional horror - genre movie . xxmaj but it does n't succeed as a naturalistic study of isolation , alienation , and madness either . xxmaj xxunk either way , the film pretty much falls apart . \n",
       " \n",
       "  xxmaj are the horrors of the xxmaj overlook xxmaj hotel real ? xxmaj or do they exist only in the mind -- first as prescient nightmares suffered by little xxmaj danny xxmaj torrance , then as the hallucinations of his father ? xxmaj one notes how whenever xxmaj jack xxmaj torrance is seen talking to a \" ghost \" he is in fact looking into a mirror . xxmaj one notes how the hotel 's frozen xxunk - hedge maze appears to symbolize xxmaj jack 's stunted , convoluted psyche . xxmaj very deep stuff . \n",
       " \n",
       "  xxmaj but if indeed the xxmaj overlook 's \" ghosts \" are purely manifestations of xxmaj jack xxmaj torrance 's growing insanity , then who exactly lets the trapped xxmaj jack out of the hotel kitchen 's dead - bolted xxunk in closet , so that he can go on his climactic ax - wielding rampage ? \n",
       " \n",
       "  xxmaj and can xxup anyone explain , with a straight face , that black - and - white photograph ( helpfully labelled \" 1921 \" ) of xxmaj nicholson as a xxunk party - goer that pops up out of left field and onto a hotel - ballroom wall during the film 's closing seconds ? xxmaj are we to seriously conclude that xxmaj jack xxmaj torrance 's xxmaj bad xxmaj craziness stems from a some sort of \" past life \" experience ? ( xxmaj and if you swallow that , since when are reincarnated people supposed to be exact physical replicas their past selves ? ) \n",
       " \n",
       "  xxmaj maybe xxmaj kubrick did n't care about his storyline . xxmaj maybe only wanted to evoke a mood of horror . xxmaj whatever the case , the film tries to hedge its narrative bets -- to have it both ways , rational and supernatural . xxmaj as a result , the story is a mess . xxmaj this movie has n't improved with age , and it certainly does n't improve with repeated viewings . \n",
       " \n",
       "  i do n't deny that a few moments of fear , claustrophobia , and general creepiness are scattered throughout this long , long film . xxmaj but those gushing xxmaj elevators o ' xxmaj blood , seen repeatedly in little xxmaj danny 's visions , are absurd and laughable . xxmaj and xxmaj jack xxmaj torrance 's infamous tag lines ( \" xxmaj wendy , i 'm home ! \" and \" h xxrep 6 e re 's xxup johnny ! \" ) merely puncture the movie 's dramatic tension and dissipate its narrative energy . ( i know : i sat in the theater and heard the audience laugh in comic relief : \" xxmaj whew ! xxmaj glad we do n't have to take this stuff seriously ! \" ) xxmaj finally , xxmaj kubrick is completely at sea -- or else utterly cynical -- during those scenes in which xxmaj wendy wanders around the empty hotel while her husband tries to puree their son . a foyer full of mummified guests , all sitting there dead in their party hats ? xxmaj yikes , now i really am afraid . \n",
       " \n",
       "  xxmaj given xxmaj jack xxmaj nicholson 's brilliance over the years , one can only assume that he gave just the sort of eyeball - rolling , eyebrow - wiggling , scenery - chomping performance that the director wanted . xxmaj the performance of xxmaj shelley xxmaj duvall , as a sort of female version of xxmaj don xxmaj knotts in \" xxmaj the xxmaj ghost and xxmaj mr. xxmaj chicken , \" is best passed over in silence . \n",
       " \n",
       "  xxmaj this movie simply does n't succeed -- not as an adaptation , not on its own terms . xxmaj it probably merits a 3 out of 10 , but i 'm giving it a 1 because it has been so xxup grotesquely over - rated in this forum .\n",
       "y: CategoryList\n",
       "neg,neg,neg,neg,neg\n",
       "Path: /home/paperspace/.fastai/data/imdb;\n",
       "\n",
       "Valid: LabelList (25000 items)\n",
       "x: TextList\n",
       "xxbos xxmaj robot xxmaj holocaust is about the lamest , most pathetic attempt at making a post - apocalyptic movie that i 've seen . xxmaj and i thought the xxmaj italians were the masters of wretched xxmaj mad xxmaj max wannabes . xxmaj some of those movies like xxmaj escape 2000 are positively brilliant in comparison with this piece of poo . xxmaj the plot is nonsensical  even with a narrator setting up every scene . xxmaj and boy does it drag . xxmaj scene after scene with nothing of any interest happening . xxmaj the special effects ( and i use the word \" special \" loosely ) consist of sock puppets . xxmaj yes , that 's right  sock puppets ! xxmaj the acting is abysmal . xxmaj angelika xxmaj jager is in the running for worst performance i 've ever seen . xxmaj sure , she 's xxmaj french or xxmaj german or whatever  but man is she bad . i can not think of a single positive thing to say about the movie . xxmaj so i 'll stop there because ten sentences on this junk is about ten too many . \n",
       " \n",
       "  xxmaj however , and fortunately for me , i saw the xxup mst3 k version of xxmaj robot xxmaj holocaust . xxmaj some of the things that made the movie so bad helped make this xxup mst3 k episode a winner . xxmaj for a season one episode , the riffs come fast and furious and hit their mark just about every time . xxmaj on my xxup mst3 k rating scale , i give this episode a 4 / 5  seek it out .,xxbos i have a question for the writers and producers of \" xxmaj prozac xxmaj nation \" : xxmaj what is the root cause and what is the solution to the widespread problem of personal depression in xxmaj america ? xxmaj in the moving performance of xxmaj christina xxmaj ricci as xxmaj liz xxmaj wurtzel , the film portrays a young woman with unlimited potential as a xxmaj harvard student and as a writer . xxmaj but this is not a story of success , only one of self - destruction as we watch xxmaj liz bring misery into the lives everyone who comes in contact with her . xxmaj the film examines divorce , family dysfunction , drugs , alcohol , and prescription medication as possible reasons for xxmaj liz 's unhappiness . xxmaj but none of those superficial explanations are satisfactory . \n",
       " \n",
       "  xxmaj at some point in the film , it would have been helpful to suggest that xxmaj liz needs to take responsibility for her life and her problems . xxmaj no light was shed on what the film alleged to be a runaway problem in \" xxmaj the xxmaj united xxmaj states of xxmaj depression . \" xxmaj in the story , xxmaj liz had a caring therapist ( xxmaj anne xxmaj heche ) , a caring roommate ( xxmaj michele xxmaj williams ) , a caring boyfriend ( xxmaj jason xxmaj biggs ) , and a troubled but caring parent ( xxmaj jessica xxmaj lange ) . xxmaj in a key scene in the film , xxmaj liz is lying in a hospital bed watching the break - up of the space shuttle xxmaj challenger . xxmaj instead of equating xxmaj challenger with xxmaj liz 's life , the film should have used the image as a starting point for her healing and recovery . \n",
       " \n",
       "  xxmaj this film reminded me of a generic made - for - cable \" victim \" film on the xxmaj lifetime network . xxmaj an excellent cast was wasted , especially in the earnest performance of xxmaj christina xxmaj ricci . xxmaj the real - life xxmaj elizabeth xxmaj wurtzel obviously found within herself the resources to cope with her depression and become a successful author . xxmaj it is unfortunate that the film could not offer us even the slightest glimpse into her courageous spirit .,xxbos i 'm working my way through the xxmaj horror xxmaj classics 50 xxmaj movie xxmaj pack xxmaj collection and xxup the xxup mad xxup monster is one of the movies in the set . \n",
       " \n",
       "  i am sure that xxmaj george xxmaj zucco was a good actor ; but , this was only the second film in which i saw him , the first being xxup dead xxup men xxup walk , in which he played two parts . xxmaj however , even good acting could n't save xxup the xxup mad xxup monster . \n",
       " \n",
       "  xxmaj zucco plays a mad scientist , xxmaj dr. xxmaj cameron ( who was banned from academia because of his unethical and inhumane experiments ) . xxmaj he believes that he can control evolution by bringing out the characteristics of one animal into another . \n",
       " \n",
       "  xxmaj in this case , like so many others of its ilk , it is a transfusion of ( i assume ) wolf 's blood into humans . xxmaj his goal is to create an invincible army , which he can control through the antidote . xxmaj the subject of his experiments is his hired hand , a retarded gardener , whose dialogue slows down this snail - paced classic to almost a full - stop . \n",
       " \n",
       "  xxmaj beyond his experiments , xxmaj dr. xxmaj cameron also plots revenge on those who discredited him , using his transformed gardener . xxmaj however , he loses control of his subject , who begins to transform without the transfusion -- yikes ! \n",
       " \n",
       "  xxmaj the werewolf transformations are classic xxmaj hollywood stop - action / makeup effects . xxmaj no doubt these were groundbreaking techniques of the time ; but , in today 's digital age it 's hard to imagine audiences being scared by this .,xxbos xxmaj retro xxmaj puppet xxmaj master is complete and utter xxunk particular , the puppets look stupid , and crappy . xxmaj the acting was unforgivable and the story was rancid . xxmaj this movie goes back into the the past , where the dolls where first created , thats not xxmaj puppet xxmaj master . xxmaj retro xxmaj puppet xxmaj master is rated xxunk first xxmaj puppet xxmaj master to be rated xxunk movie contains no horror , or suspense . xxmaj the fact that this movie was a xxmaj puppet xxmaj master film boggles the mind , because this installment does nt have the buckets of blood , good acting , or any xxunk like the previous movies did . xxmaj dont see this movie , dont rent it , and do nt even watch it f its on xxup tv , because this film is stale , not violent , and completely xxunk out of xxunk a xxmaj puppet xxmaj master fan , i am disappointed ... seriously .,xxbos i did have some expectations from this film because 1 . xxmaj it was a xxmaj yash raj production 2 . xxmaj when the songs were first shown on xxup tv , they seemed catchy 3 . xxmaj the star ( ? ? ! ) cast was new . xxmaj well , i must tell u that i just could n't sit through this movie . xxmaj uday , ( with his red lips - what were the make up artists thinking ? ? ? ! ) tries hard to look cool but fails miserably . i wo n't even get started on his acting ( if u can call it that ) . ' xxmaj cleavage queen ' xxmaj tanisha with all her screaming and ranting n raving just makes you want to pull your hair out in frustration . i think xxmaj uday was slightly more tolerable than her ! xxmaj she seriously needs to take acting lessons from her sister . xxmaj the story is pathetic ... the same old tried and tested formula . xxmaj absolutely no originality . xxmaj there is nothing worth watching in this movie . xxmaj makes me wonder why it was made in the first place !\n",
       "y: CategoryList\n",
       "neg,neg,neg,neg,neg\n",
       "Path: /home/paperspace/.fastai/data/imdb;\n",
       "\n",
       "Test: None, model=SequentialRNN(\n",
       "  (0): MultiBatchEncoder(\n",
       "    (module): AWD_LSTM(\n",
       "      (encoder): Embedding(60003, 400, padding_idx=1)\n",
       "      (encoder_dp): EmbeddingDropout(\n",
       "        (emb): Embedding(60003, 400, padding_idx=1)\n",
       "      )\n",
       "      (rnns): ModuleList(\n",
       "        (0): WeightDropout(\n",
       "          (module): LSTM(400, 1150, batch_first=True)\n",
       "        )\n",
       "        (1): WeightDropout(\n",
       "          (module): LSTM(1150, 1150, batch_first=True)\n",
       "        )\n",
       "        (2): WeightDropout(\n",
       "          (module): LSTM(1150, 400, batch_first=True)\n",
       "        )\n",
       "      )\n",
       "      (input_dp): RNNDropout()\n",
       "      (hidden_dps): ModuleList(\n",
       "        (0): RNNDropout()\n",
       "        (1): RNNDropout()\n",
       "        (2): RNNDropout()\n",
       "      )\n",
       "    )\n",
       "  )\n",
       "  (1): PoolingLinearClassifier(\n",
       "    (layers): Sequential(\n",
       "      (0): BatchNorm1d(1200, eps=1e-05, momentum=0.1, affine=True, track_running_stats=True)\n",
       "      (1): Dropout(p=0.2)\n",
       "      (2): Linear(in_features=1200, out_features=50, bias=True)\n",
       "      (3): ReLU(inplace)\n",
       "      (4): BatchNorm1d(50, eps=1e-05, momentum=0.1, affine=True, track_running_stats=True)\n",
       "      (5): Dropout(p=0.1)\n",
       "      (6): Linear(in_features=50, out_features=2, bias=True)\n",
       "    )\n",
       "  )\n",
       "), opt_func=functools.partial(<class 'torch.optim.adam.Adam'>, betas=(0.9, 0.99)), loss_func=FlattenedLoss of CrossEntropyLoss(), metrics=[<function accuracy at 0x7f9c7abb3bf8>], true_wd=True, bn_wd=True, wd=0.01, train_bn=True, path=PosixPath('/home/paperspace/.fastai/data/imdb'), model_dir='models', callback_fns=[functools.partial(<class 'fastai.basic_train.Recorder'>, add_time=True)], callbacks=[RNNTrainer\n",
       "learn: ...\n",
       "alpha: 2.0\n",
       "beta: 1.0], layer_groups=[Sequential(\n",
       "  (0): Embedding(60003, 400, padding_idx=1)\n",
       "  (1): EmbeddingDropout(\n",
       "    (emb): Embedding(60003, 400, padding_idx=1)\n",
       "  )\n",
       "), Sequential(\n",
       "  (0): WeightDropout(\n",
       "    (module): LSTM(400, 1150, batch_first=True)\n",
       "  )\n",
       "  (1): RNNDropout()\n",
       "), Sequential(\n",
       "  (0): WeightDropout(\n",
       "    (module): LSTM(1150, 1150, batch_first=True)\n",
       "  )\n",
       "  (1): RNNDropout()\n",
       "), Sequential(\n",
       "  (0): WeightDropout(\n",
       "    (module): LSTM(1150, 400, batch_first=True)\n",
       "  )\n",
       "  (1): RNNDropout()\n",
       "), Sequential(\n",
       "  (0): PoolingLinearClassifier(\n",
       "    (layers): Sequential(\n",
       "      (0): BatchNorm1d(1200, eps=1e-05, momentum=0.1, affine=True, track_running_stats=True)\n",
       "      (1): Dropout(p=0.2)\n",
       "      (2): Linear(in_features=1200, out_features=50, bias=True)\n",
       "      (3): ReLU(inplace)\n",
       "      (4): BatchNorm1d(50, eps=1e-05, momentum=0.1, affine=True, track_running_stats=True)\n",
       "      (5): Dropout(p=0.1)\n",
       "      (6): Linear(in_features=50, out_features=2, bias=True)\n",
       "    )\n",
       "  )\n",
       ")], add_time=True)"
      ]
     },
     "execution_count": 4,
     "metadata": {},
     "output_type": "execute_result"
    }
   ],
   "source": [
    "# Load\n",
    "learn_clas.load('clas-stage-4')"
   ]
  },
  {
   "cell_type": "code",
   "execution_count": 10,
   "metadata": {
    "scrolled": false
   },
   "outputs": [
    {
     "data": {
      "text/plain": [
       "659079680"
      ]
     },
     "execution_count": 10,
     "metadata": {},
     "output_type": "execute_result"
    }
   ],
   "source": [
    "torch.cuda.memory_allocated()"
   ]
  },
  {
   "cell_type": "markdown",
   "metadata": {},
   "source": [
    "### Make predictions"
   ]
  },
  {
   "cell_type": "code",
   "execution_count": 9,
   "metadata": {},
   "outputs": [
    {
     "data": {
      "text/plain": [
       "(Category neg, tensor(0), tensor([0.9663, 0.0337]))"
      ]
     },
     "execution_count": 9,
     "metadata": {},
     "output_type": "execute_result"
    }
   ],
   "source": [
    "learn_clas.predict('What an awful movie!')"
   ]
  },
  {
   "cell_type": "code",
   "execution_count": 26,
   "metadata": {},
   "outputs": [
    {
     "data": {
      "text/plain": [
       "(Category pos, tensor(1), tensor([0.0564, 0.9436]))"
      ]
     },
     "execution_count": 26,
     "metadata": {},
     "output_type": "execute_result"
    }
   ],
   "source": [
    "learn_clas.predict('worst film ever!')\n",
    "# wat"
   ]
  },
  {
   "cell_type": "code",
   "execution_count": null,
   "metadata": {},
   "outputs": [],
   "source": []
  }
 ],
 "metadata": {
  "kernelspec": {
   "display_name": "Python 3",
   "language": "python",
   "name": "python3"
  },
  "language_info": {
   "codemirror_mode": {
    "name": "ipython",
    "version": 3
   },
   "file_extension": ".py",
   "mimetype": "text/x-python",
   "name": "python",
   "nbconvert_exporter": "python",
   "pygments_lexer": "ipython3",
   "version": "3.7.2"
  }
 },
 "nbformat": 4,
 "nbformat_minor": 2
}

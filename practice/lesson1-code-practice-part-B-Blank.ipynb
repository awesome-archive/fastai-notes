{
 "cells": [
  {
   "cell_type": "code",
   "execution_count": 43,
   "metadata": {},
   "outputs": [
    {
     "name": "stdout",
     "output_type": "stream",
     "text": [
      "Cuda available: True\n",
      "Cudnn enabled:  True\n"
     ]
    }
   ],
   "source": [
    "# Put these at the top of every notebook to get automatic reloading and inline plotting\n",
    "%reload_ext autoreload\n",
    "%autoreload 2\n",
    "%matplotlib inline\n",
    "\n",
    "# General imports\n",
    "from fastai.imports import *\n",
    "# Data augmentation (transformations)\n",
    "from fastai.transforms import * \n",
    "# Convolutional learner class\n",
    "from fastai.conv_learner import *\n",
    "# Model architecture\n",
    "from fastai.model import *\n",
    "# Dataset handling class\n",
    "from fastai.dataset import *\n",
    "# SGD with restarts\n",
    "from fastai.sgdr import *\n",
    "# Plotting\n",
    "from fastai.plots import *\n",
    "\n",
    "# Check GPU hardware is available\n",
    "print(f'Cuda available: {torch.cuda.is_available()}')\n",
    "print(f'Cudnn enabled:  {torch.backends.cudnn.enabled}')\n",
    "\n",
    "PATH = \"/home/paperspace/data/dogscats/\"\n",
    "\n",
    "# Uncomment the below if you need to reset your precomputed activations\n",
    "# shutil.rmtree(f'{PATH}tmp', ignore_errors=True)\n",
    "\n",
    "sz = 224\n",
    "arch = resnet34"
   ]
  },
  {
   "cell_type": "code",
   "execution_count": 44,
   "metadata": {},
   "outputs": [],
   "source": [
    "tfms = tfms_from_model(f_model=arch, sz=sz) # this is has no transformation\n",
    "data = ImageClassifierData.from_paths(path=PATH, tfms=tfms)\n",
    "# learn = ConvLearner.pretrained(f=arch, data=data, precompute=True)\n",
    "\n",
    "log_preds = np.load('log_preds.npy', allow_pickle=False)"
   ]
  },
  {
   "cell_type": "markdown",
   "metadata": {},
   "source": [
    "---"
   ]
  },
  {
   "cell_type": "markdown",
   "metadata": {},
   "source": [
    "Practice topics:\n",
    "- np.where\n",
    "- np.exp\n",
    "- np.argmax\n",
    "- np.where\n",
    "- get a filter/mask of the correctly predicted array\n",
    "- get the indicies of correctly predicted rows\n"
   ]
  },
  {
   "cell_type": "markdown",
   "metadata": {},
   "source": [
    "---"
   ]
  },
  {
   "cell_type": "markdown",
   "metadata": {},
   "source": [
    "### Assignment\n",
    "\n",
    "Given these variables:\n",
    "- `log_preds` : a (2000, 2) array of log probabilities for cats & dogs\n",
    "- `data.val_y` : an (2000,) array of 1s and 0s\n",
    "\n",
    "1. Find the row indicies that are correct\n",
    "1. Find the row indicies that are incorrect\n",
    "1. Randomly plot 8 of the incorrect images\n",
    "\n",
    "Recall that `log_preds` is returned by `learn.predict()`. This is the result we have to work with."
   ]
  },
  {
   "cell_type": "markdown",
   "metadata": {},
   "source": [
    "---"
   ]
  },
  {
   "cell_type": "code",
   "execution_count": null,
   "metadata": {},
   "outputs": [],
   "source": []
  }
 ],
 "metadata": {
  "kernelspec": {
   "display_name": "Python 3",
   "language": "python",
   "name": "python3"
  },
  "language_info": {
   "codemirror_mode": {
    "name": "ipython",
    "version": 3
   },
   "file_extension": ".py",
   "mimetype": "text/x-python",
   "name": "python",
   "nbconvert_exporter": "python",
   "pygments_lexer": "ipython3",
   "version": "3.6.7"
  }
 },
 "nbformat": 4,
 "nbformat_minor": 2
}

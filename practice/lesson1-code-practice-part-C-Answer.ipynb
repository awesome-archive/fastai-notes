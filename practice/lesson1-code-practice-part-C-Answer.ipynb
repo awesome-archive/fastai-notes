{
 "cells": [
  {
   "cell_type": "code",
   "execution_count": 43,
   "metadata": {},
   "outputs": [
    {
     "name": "stdout",
     "output_type": "stream",
     "text": [
      "Cuda available: True\n",
      "Cudnn enabled:  True\n"
     ]
    }
   ],
   "source": [
    "# Put these at the top of every notebook to get automatic reloading and inline plotting\n",
    "%reload_ext autoreload\n",
    "%autoreload 2\n",
    "%matplotlib inline\n",
    "\n",
    "# General imports\n",
    "from fastai.imports import *\n",
    "# Data augmentation (transformations)\n",
    "from fastai.transforms import * \n",
    "# Convolutional learner class\n",
    "from fastai.conv_learner import *\n",
    "# Model architecture\n",
    "from fastai.model import *\n",
    "# Dataset handling class\n",
    "from fastai.dataset import *\n",
    "# SGD with restarts\n",
    "from fastai.sgdr import *\n",
    "# Plotting\n",
    "from fastai.plots import *\n",
    "\n",
    "# Check GPU hardware is available\n",
    "print(f'Cuda available: {torch.cuda.is_available()}')\n",
    "print(f'Cudnn enabled:  {torch.backends.cudnn.enabled}')\n",
    "\n",
    "PATH = \"/home/paperspace/data/dogscats/\"\n",
    "\n",
    "# Uncomment the below if you need to reset your precomputed activations\n",
    "# shutil.rmtree(f'{PATH}tmp', ignore_errors=True)\n",
    "\n",
    "sz = 224\n",
    "arch = resnet34"
   ]
  },
  {
   "cell_type": "code",
   "execution_count": 44,
   "metadata": {},
   "outputs": [],
   "source": [
    "tfms = tfms_from_model(f_model=arch, sz=sz) # this is has no transformation\n",
    "data = ImageClassifierData.from_paths(path=PATH, tfms=tfms)\n",
    "# learn = ConvLearner.pretrained(f=arch, data=data, precompute=True)\n",
    "\n",
    "log_preds = np.load('log_preds.npy', allow_pickle=False)"
   ]
  },
  {
   "cell_type": "code",
   "execution_count": null,
   "metadata": {},
   "outputs": [],
   "source": [
    "def most_by_mask(mask, mult):\n",
    "    \"\"\"called by most_by_correct\n",
    "    returns an array of image IDs given a boolean matrix\"\"\"\n",
    "    idxs = np.where(mask)[0]\n",
    "    return idxs[np.argsort(mult * probs[idxs])[:4]]\n",
    "\n",
    "def most_by_correct(y, is_correct):\n",
    "    \"\"\"returns an array of image IDs\"\"\"\n",
    "    mult = -1 if (y==1)==is_correct else 1\n",
    "    return most_by_mask(((preds == data.val_y)==is_correct) & (data.val_y == y), mult)\n",
    "\n",
    "\n",
    "def load_img_id(ds, idx):\n",
    "    \"\"\"called by plot_val_with_title\n",
    "    load a pic & return it as a np.array\"\"\"\n",
    "    return np.array(PIL.Image.open(PATH+ds.fnames[idx]))\n",
    "\n",
    "def plots(ims, figsize=(12,6), rows=1, titles=None):\n",
    "    \"\"\"called by plot_val_with_title\n",
    "    create a subplot of pics\"\"\"\n",
    "    f = plt.figure(figsize=figsize) # figsize: Width, Height in inches\n",
    "    for i in range(len(ims)):\n",
    "        sp = f.add_subplot(rows, len(ims)//rows, i+1) # add_subplot(nrows, ncols, index)\n",
    "        sp.axis('Off')\n",
    "        if titles is not None: sp.set_title(titles[i], fontsize=16)\n",
    "        plt.imshow(ims[i])\n",
    "\n",
    "def plot_val_with_title(idxs, title):\n",
    "    \"\"\"take a list of image indicies and plot them on a row\"\"\"\n",
    "    imgs = [load_img_id(data.val_ds,x) for x in idxs]# a list of images\n",
    "    title_probs = [probs[x] for x in idxs]# a list probabilities\n",
    "    print(title)\n",
    "    return plots(imgs, rows=1, titles=title_probs, figsize=(16,8)) if len(imgs)>0 else print('Not Found.')\n"
   ]
  },
  {
   "cell_type": "markdown",
   "metadata": {},
   "source": [
    "### Objective\n",
    "\n",
    "Dissect and recreate these:\n",
    "\n",
    "```python\n",
    "def most_by_mask(mask, mult):\n",
    "    \"\"\"called by most_by_correct\n",
    "    returns an array of image IDs given a boolean matrix\"\"\"\n",
    "    idxs = np.where(mask)[0]\n",
    "    return idxs[np.argsort(mult * probs[idxs])[:4]]\n",
    "\n",
    "def most_by_correct(y, is_correct):\n",
    "    \"\"\"returns an array of image IDs\"\"\"\n",
    "    mult = -1 if (y==1)==is_correct else 1\n",
    "    return most_by_mask(((preds == data.val_y)==is_correct) & (data.val_y == y), mult)\n",
    "\n",
    "```"
   ]
  },
  {
   "cell_type": "markdown",
   "metadata": {},
   "source": [
    "---"
   ]
  },
  {
   "cell_type": "markdown",
   "metadata": {},
   "source": [
    "Practice topics:\n",
    "- np.where\n",
    "- np.exp\n",
    "- np.argmax\n",
    "- np.where\n",
    "- get a filter/mask of the correctly predicted array\n",
    "- get the indicies of correctly predicted rows\n"
   ]
  },
  {
   "cell_type": "markdown",
   "metadata": {},
   "source": [
    "---"
   ]
  },
  {
   "cell_type": "markdown",
   "metadata": {},
   "source": [
    "### Assignment\n",
    "\n",
    "Given these variables:\n",
    "- `log_preds` : a (2000, 2) array of log probabilities for cats & dogs\n",
    "- `data.val_y` : an (2000,) array of 1s and 0s\n",
    "\n",
    "1. Find the row indicies that are _most_ correct.\n",
    "1. Find the row indicies that are _most_ incorrect\n",
    "1. Plot 8 of the _most_ incorrect images\n",
    "\n",
    "Recall that `log_preds` is returned by `learn.predict()`. This is the result we have to work with."
   ]
  },
  {
   "cell_type": "markdown",
   "metadata": {},
   "source": [
    "---"
   ]
  },
  {
   "cell_type": "code",
   "execution_count": null,
   "metadata": {},
   "outputs": [],
   "source": []
  }
 ],
 "metadata": {
  "kernelspec": {
   "display_name": "Python 3",
   "language": "python",
   "name": "python3"
  },
  "language_info": {
   "codemirror_mode": {
    "name": "ipython",
    "version": 3
   },
   "file_extension": ".py",
   "mimetype": "text/x-python",
   "name": "python",
   "nbconvert_exporter": "python",
   "pygments_lexer": "ipython3",
   "version": "3.6.7"
  }
 },
 "nbformat": 4,
 "nbformat_minor": 2
}

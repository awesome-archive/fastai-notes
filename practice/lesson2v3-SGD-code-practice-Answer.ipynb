{
 "cells": [
  {
   "cell_type": "code",
   "execution_count": 1,
   "metadata": {},
   "outputs": [],
   "source": [
    "# Put these at the top of every notebook to get automatic reloading and inline plotting\n",
    "%reload_ext autoreload\n",
    "%autoreload 2\n",
    "%matplotlib inline\n",
    "get_ipython().config.get('IPKernelApp', {})['parent_appname'] = \"\""
   ]
  },
  {
   "cell_type": "code",
   "execution_count": 2,
   "metadata": {},
   "outputs": [],
   "source": [
    "from fastai.basics import *"
   ]
  },
  {
   "cell_type": "markdown",
   "metadata": {},
   "source": [
    "### Create a 100x2 tensor of ones"
   ]
  },
  {
   "cell_type": "code",
   "execution_count": 3,
   "metadata": {},
   "outputs": [],
   "source": [
    "rows=100\n",
    "cols=2"
   ]
  },
  {
   "cell_type": "code",
   "execution_count": 4,
   "metadata": {
    "scrolled": true
   },
   "outputs": [
    {
     "data": {
      "text/plain": [
       "torch.Size([100, 2])"
      ]
     },
     "execution_count": 4,
     "metadata": {},
     "output_type": "execute_result"
    }
   ],
   "source": [
    "x = torch.ones(rows,cols)\n",
    "x.shape"
   ]
  },
  {
   "cell_type": "code",
   "execution_count": 5,
   "metadata": {},
   "outputs": [
    {
     "data": {
      "text/plain": [
       "tensor([[1., 1.],\n",
       "        [1., 1.],\n",
       "        [1., 1.],\n",
       "        [1., 1.],\n",
       "        [1., 1.],\n",
       "        [1., 1.],\n",
       "        [1., 1.],\n",
       "        [1., 1.],\n",
       "        [1., 1.],\n",
       "        [1., 1.]])"
      ]
     },
     "execution_count": 5,
     "metadata": {},
     "output_type": "execute_result"
    }
   ],
   "source": [
    "# show first 10 rows\n",
    "x[:10]"
   ]
  },
  {
   "cell_type": "code",
   "execution_count": 6,
   "metadata": {
    "scrolled": true
   },
   "outputs": [
    {
     "data": {
      "text/plain": [
       "torch.Tensor"
      ]
     },
     "execution_count": 6,
     "metadata": {},
     "output_type": "execute_result"
    }
   ],
   "source": [
    "# verify data type\n",
    "type(x)"
   ]
  },
  {
   "cell_type": "markdown",
   "metadata": {},
   "source": [
    "### Fill col 0 with random floats from -1 to 1"
   ]
  },
  {
   "cell_type": "code",
   "execution_count": 7,
   "metadata": {
    "collapsed": true
   },
   "outputs": [
    {
     "data": {
      "text/plain": [
       "tensor([-0.3470, -0.4984, -0.2610,  0.0457, -0.4530, -0.6995, -0.5176,  0.3752,\n",
       "        -0.8945,  0.8510,  0.3800,  0.5276,  0.6721, -0.0665, -0.8713, -0.9137,\n",
       "         0.2260, -0.1121, -0.6962,  0.0490, -0.6456, -0.1452, -0.7030, -0.8940,\n",
       "         0.6306,  0.0555,  0.6990, -0.2617,  0.9888, -0.5963, -0.8592, -0.4016,\n",
       "         0.2098, -0.6823, -0.0768, -0.8978, -0.4818,  0.0815, -0.0547, -0.3553,\n",
       "        -0.3023,  0.5039, -0.0934,  0.1976, -0.0084,  0.0463,  0.6476,  0.8540,\n",
       "         0.5465, -0.0377,  0.5562,  0.7444, -0.6691, -0.2296,  0.9395,  0.4723,\n",
       "         0.9330,  0.8869, -0.1515,  0.0865,  0.1915,  0.6438,  0.5334, -0.6454,\n",
       "         0.0240, -0.8316, -0.3838, -0.8462,  0.0413,  0.6232, -0.2358, -0.1438,\n",
       "        -0.1238, -0.8502,  0.7830, -0.7192,  0.8319,  0.2327,  0.4968,  0.3584,\n",
       "         0.7552,  0.9541, -0.2936, -0.0981,  0.1641, -0.2170, -0.4699,  0.3097,\n",
       "        -0.0465,  0.7001, -0.6287, -0.4475,  0.2946, -0.4490,  0.7090, -0.8949,\n",
       "         0.7748, -0.3527, -0.6809, -0.1875])"
      ]
     },
     "execution_count": 7,
     "metadata": {},
     "output_type": "execute_result"
    }
   ],
   "source": [
    "x[:, 0].uniform_(-1, 1)"
   ]
  },
  {
   "cell_type": "code",
   "execution_count": 8,
   "metadata": {
    "scrolled": false
   },
   "outputs": [
    {
     "data": {
      "text/plain": [
       "tensor([[-0.3470,  1.0000],\n",
       "        [-0.4984,  1.0000],\n",
       "        [-0.2610,  1.0000],\n",
       "        [ 0.0457,  1.0000],\n",
       "        [-0.4530,  1.0000],\n",
       "        [-0.6995,  1.0000],\n",
       "        [-0.5176,  1.0000],\n",
       "        [ 0.3752,  1.0000],\n",
       "        [-0.8945,  1.0000],\n",
       "        [ 0.8510,  1.0000]])"
      ]
     },
     "execution_count": 8,
     "metadata": {},
     "output_type": "execute_result"
    }
   ],
   "source": [
    "# show first 10 rows\n",
    "x[:10]"
   ]
  },
  {
   "cell_type": "markdown",
   "metadata": {},
   "source": [
    "### Create a simple linear function using matrix multiplication\n",
    "\n",
    "Given a vector of weights: `(3, 2)`"
   ]
  },
  {
   "cell_type": "code",
   "execution_count": 9,
   "metadata": {},
   "outputs": [
    {
     "name": "stdout",
     "output_type": "stream",
     "text": [
      "torch.Size([2])\n",
      "tensor([3., 2.])\n"
     ]
    }
   ],
   "source": [
    "# remember to use floats!\n",
    "a = tensor(3, 2.)\n",
    "print(a.shape)\n",
    "print(a)"
   ]
  },
  {
   "cell_type": "code",
   "execution_count": 10,
   "metadata": {},
   "outputs": [],
   "source": [
    "# define function y with added randomness: torch.rand(rows)\n",
    "y = x@a + torch.rand(rows)"
   ]
  },
  {
   "cell_type": "code",
   "execution_count": 11,
   "metadata": {
    "scrolled": true
   },
   "outputs": [
    {
     "data": {
      "text/plain": [
       "tensor([ 1.8603,  0.8364,  1.6918,  2.1863,  0.7509,  0.2981,  1.3576,  3.6767,\n",
       "        -0.6214,  4.8208])"
      ]
     },
     "execution_count": 11,
     "metadata": {},
     "output_type": "execute_result"
    }
   ],
   "source": [
    "# show first 10 rows\n",
    "y[:10]"
   ]
  },
  {
   "cell_type": "code",
   "execution_count": 12,
   "metadata": {
    "scrolled": true
   },
   "outputs": [
    {
     "data": {
      "text/plain": [
       "torch.Size([100])"
      ]
     },
     "execution_count": 12,
     "metadata": {},
     "output_type": "execute_result"
    }
   ],
   "source": [
    "y.shape"
   ]
  },
  {
   "cell_type": "code",
   "execution_count": 13,
   "metadata": {},
   "outputs": [
    {
     "data": {
      "text/plain": [
       "<matplotlib.collections.PathCollection at 0x7f80019ec4a8>"
      ]
     },
     "execution_count": 13,
     "metadata": {},
     "output_type": "execute_result"
    },
    {
     "data": {
      "image/png": "[encoded data removed]",
      "text/plain": [
       "<Figure size 432x288 with 1 Axes>"
      ]
     },
     "metadata": {
      "needs_background": "light"
     },
     "output_type": "display_data"
    }
   ],
   "source": [
    "# scatter plot y\n",
    "plt.scatter(x[:,0], y)"
   ]
  },
  {
   "cell_type": "markdown",
   "metadata": {},
   "source": [
    "### Define a mean squared error loss function"
   ]
  },
  {
   "cell_type": "code",
   "execution_count": 14,
   "metadata": {},
   "outputs": [],
   "source": [
    "def mse(y_hat, y):\n",
    "    \"\"\"Returns the mean squared error.\"\"\"\n",
    "    return ((y_hat - y)**2).mean()"
   ]
  },
  {
   "cell_type": "code",
   "execution_count": 15,
   "metadata": {},
   "outputs": [],
   "source": [
    "# Take a random guess of the weights/parameters: a_hat\n",
    "a_hat = nn.Parameter(tensor(-1, 2.))"
   ]
  },
  {
   "cell_type": "code",
   "execution_count": 16,
   "metadata": {},
   "outputs": [],
   "source": [
    "# make predictions: y_hat\n",
    "y_hat = x@a_hat"
   ]
  },
  {
   "cell_type": "code",
   "execution_count": 17,
   "metadata": {
    "scrolled": true
   },
   "outputs": [
    {
     "data": {
      "text/plain": [
       "<matplotlib.collections.PathCollection at 0x7f7fff8d4470>"
      ]
     },
     "execution_count": 17,
     "metadata": {},
     "output_type": "execute_result"
    },
    {
     "data": {
      "image/png": "[encoded data removed]",
      "text/plain": [
       "<Figure size 432x288 with 1 Axes>"
      ]
     },
     "metadata": {
      "needs_background": "light"
     },
     "output_type": "display_data"
    }
   ],
   "source": [
    "# plot both y and y_hat\n",
    "plt.scatter(x[:, 0], y)\n",
    "plt.scatter(x[:, 0], y_hat)"
   ]
  },
  {
   "cell_type": "markdown",
   "metadata": {},
   "source": [
    "### Gradient descent"
   ]
  },
  {
   "cell_type": "code",
   "execution_count": 18,
   "metadata": {},
   "outputs": [
    {
     "data": {
      "text/plain": [
       "Parameter containing:\n",
       "tensor([-1.,  2.], requires_grad=True)"
      ]
     },
     "execution_count": 18,
     "metadata": {},
     "output_type": "execute_result"
    }
   ],
   "source": [
    "# convert `a_hat` into a parameter object\n",
    "a_hat = nn.Parameter(a_hat)\n",
    "a_hat"
   ]
  },
  {
   "cell_type": "code",
   "execution_count": 19,
   "metadata": {},
   "outputs": [],
   "source": [
    "def update():\n",
    "    y_hat = x@a_hat # make predictions\n",
    "    loss = mse(y, y_hat) # measure loss\n",
    "    if t % 10 == 0: print(loss) # print loss every 10 loops\n",
    "    loss.backward() # calculate loss function derivative\n",
    "    with torch.no_grad(): # ??\n",
    "        a_hat.sub_(lr * a_hat.grad) # a.grad gives you the gradient\n",
    "        a_hat.grad.zero_() # ??"
   ]
  },
  {
   "cell_type": "code",
   "execution_count": 20,
   "metadata": {
    "scrolled": true
   },
   "outputs": [
    {
     "name": "stdout",
     "output_type": "stream",
     "text": [
      "tensor(5.0000, grad_fn=<MeanBackward1>)\n",
      "tensor(1.4217, grad_fn=<MeanBackward1>)\n",
      "tensor(0.4550, grad_fn=<MeanBackward1>)\n",
      "tensor(0.1832, grad_fn=<MeanBackward1>)\n",
      "tensor(0.1066, grad_fn=<MeanBackward1>)\n",
      "tensor(0.0850, grad_fn=<MeanBackward1>)\n",
      "tensor(0.0790, grad_fn=<MeanBackward1>)\n",
      "tensor(0.0773, grad_fn=<MeanBackward1>)\n",
      "tensor(0.0768, grad_fn=<MeanBackward1>)\n",
      "tensor(0.0766, grad_fn=<MeanBackward1>)\n"
     ]
    }
   ],
   "source": [
    "# set a learning rate\n",
    "lr = 1e-1\n",
    "\n",
    "# run update() 100 times\n",
    "for t in range(100): update()"
   ]
  },
  {
   "cell_type": "code",
   "execution_count": 21,
   "metadata": {
    "scrolled": false
   },
   "outputs": [
    {
     "data": {
      "text/plain": [
       "<matplotlib.collections.PathCollection at 0x7f7fff8c0a20>"
      ]
     },
     "execution_count": 21,
     "metadata": {},
     "output_type": "execute_result"
    },
    {
     "data": {
      "image/png": "[encoded data removed]",
      "text/plain": [
       "<Figure size 432x288 with 1 Axes>"
      ]
     },
     "metadata": {
      "needs_background": "light"
     },
     "output_type": "display_data"
    }
   ],
   "source": [
    "# plot the data & our new predictions\n",
    "plt.scatter(x[:,0], y)\n",
    "plt.scatter(x[:,0], x@a_hat)"
   ]
  },
  {
   "cell_type": "markdown",
   "metadata": {},
   "source": [
    "### Compare our gradient descent parameters with the answer"
   ]
  },
  {
   "cell_type": "code",
   "execution_count": 22,
   "metadata": {},
   "outputs": [
    {
     "data": {
      "text/plain": [
       "tensor([3., 2.])"
      ]
     },
     "execution_count": 22,
     "metadata": {},
     "output_type": "execute_result"
    }
   ],
   "source": [
    "# ground truth\n",
    "a"
   ]
  },
  {
   "cell_type": "code",
   "execution_count": 23,
   "metadata": {
    "scrolled": false
   },
   "outputs": [
    {
     "data": {
      "text/plain": [
       "Parameter containing:\n",
       "tensor([2.9233, 2.4950], requires_grad=True)"
      ]
     },
     "execution_count": 23,
     "metadata": {},
     "output_type": "execute_result"
    }
   ],
   "source": [
    "# our guess\n",
    "a_hat"
   ]
  },
  {
   "cell_type": "markdown",
   "metadata": {},
   "source": [
    "### Animate SGD\n",
    "\n",
    "Instead of running loops, use `animation.FuncAnimation()` from `matplotlib`."
   ]
  },
  {
   "cell_type": "code",
   "execution_count": 25,
   "metadata": {},
   "outputs": [
    {
     "data": {
      "text/html": [
       "<video width=\"432\" height=\"288\" controls autoplay loop>\n",
       "  <source type=\"video/mp4\" src=\"data:video/mp4;base64,AAAAHGZ0eXBNNFYgAAACAGlzb21pc28yYXZjMQAAAAhmcmVlAACkKm1kYXQAAAKuBgX//6rcRem9\n",
       "5tlIt5Ys2CDZI+7veDI2NCAtIGNvcmUgMTQ4IHIyNjQzIDVjNjU3MDQgLSBILjI2NC9NUEVHLTQg\n",
       "QVZDIGNvZGVjIC0gQ29weWxlZnQgMjAwMy0yMDE1IC0gaHR0cDovL3d3dy52aWRlb2xhbi5vcmcv\n",
       "eDI2NC5odG1sIC0gb3B0aW9uczogY2FiYWM9MSByZWY9MyBkZWJsb2NrPTE6MDowIGFuYWx5c2U9\n",
       "MHgzOjB4MTEzIG1lPWhleCBzdWJtZT03IHBzeT0xIHBzeV9yZD0xLjAwOjAuMDAgbWl4ZWRfcmVm\n",
       "PTEgbWVfcmFuZ2U9MTYgY2hyb21hX21lPTEgdHJlbGxpcz0xIDh4OGRjdD0xIGNxbT0wIGRlYWR6\n",
       "b25lPTIxLDExIGZhc3RfcHNraXA9MSBjaHJvbWFfcXBfb2Zmc2V0PS0yIHRocmVhZHM9OSBsb29r\n",
       "YWhlYWRfdGhyZWFkcz0xIHNsaWNlZF90aHJlYWRzPTAgbnI9MCBkZWNpbWF0ZT0xIGludGVybGFj\n",
       "ZWQ9MCBibHVyYXlfY29tcGF0PTAgY29uc3RyYWluZWRfaW50cmE9MCBiZnJhbWVzPTMgYl9weXJh\n",
       "bWlkPTIgYl9hZGFwdD0xIGJfYmlhcz0wIGRpcmVjdD0xIHdlaWdodGI9MSBvcGVuX2dvcD0wIHdl\n",
       "aWdodHA9MiBrZXlpbnQ9MjUwIGtleWludF9taW49MjUgc2NlbmVjdXQ9NDAgaW50cmFfcmVmcmVz\n",
       "aD0wIHJjX2xvb2thaGVhZD00MCByYz1jcmYgbWJ0cmVlPTEgY3JmPTIzLjAgcWNvbXA9MC42MCBx\n",
       "cG1pbj0wIHFwbWF4PTY5IHFwc3RlcD00IGlwX3JhdGlvPTEuNDAgYXE9MToxLjAwAIAAABqdZYiE\n",
       "AC///vau/MsrRwuVLh1Ze7NR8uhJcv2IMH1oAAADAADVaeUGUpNWI76AAB1Z9t34GlKswDWRmNlJ\n",
       "/PFXaLU7L+ivEQRMpKmdJMb1alNn3Qb5FbXaK86cnteeo6aWBzCzz7tpyISvTQAzuB8GxGPgFynx\n",
       "EEts8hGlECbi7+AtIrDYWCgGc/g08CEuJknZBcfKf0R7yB4kXUhmmBBb1cq/qeumneIpUIHhexr0\n",
       "kZhInU1+4SSZnEiVpfj2sqi4FcmfFoPAqoeNRpB8yx782UJ5OBsFkVFCydWRTvcroga9RSwpC91h\n",
       "0DEMRCgwHl/uWzdwlO5mJfPUGd1jGmIePDEDHtkznrrtnU25n8uN4wndSqqmW51JTjZNWsI/VLvl\n",
       "PmniIkwRI5wk8rho1qsSU4X8SXkoy4CW9gdSUfFbd6ajp93+esMUMooyusnZehjI/h42LIdmCMCz\n",
       "gOt1pCTP+qIRUzMogErNL98otWbo2iV/nLvFIRsulBOnZSrOLSQx2QPHJq4uz1oY3CJeW14TO0B7\n",
       "ucEgbu8+9GYvjy2ktfXo95KAI31kadFlf4470P1R1Fxo/f/c0S3DrogGTC1Oe5gVMRSFV7yEt/4l\n",
       "qFDKPNqoMQWxVgtVPDDPZtlzGs6WuDTLF/fUMNG0EyWb/sk6dCHK5AFxcitWAv19UTc2XU21NnXJ\n",
       "UGjpOOkIqM9IPHrfi7WaLxPpYywHAirAkcDqhTxN74NH2vQ4IlTOg+heV4my0xOAACUAnu6pVKzb\n",
       "PUU/5BALtyqklGUO7t/bpySsshJ5oXd3SypBOoWgLq/USUPHjgqvb1iJz4Is88Z3X6GalIC4B1OL\n",
       "9jFAi+iVPDaeZAvkOsd2LfsbWx9rknACRFFUQJf94DuMYh1AeicKQeqdZzEkc2BVh45LHxWH3rM5\n",
       "vwY8gwovVibkuFKmpQmxP60jf58SUYoeEFjOZDRjKy+3uxmKdiBhz+E6/gvDRbfp+PEIexUQObXl\n",
       "Ey+HkeZvgHj4NqKLfhFVuGBdt64anxajVHFuVigyIljVwjUAmEesSloSjgDxFdiPNNsHrmu2MMJn\n",
       "2r2bX5pzDiIABcYJrhPIzRVdx1cRvotmw1q/hhXgOjq1H2DTlv+omcFNb6koJlMslYqMzFNtiqpL\n",
       "DoEWW7xYw7l5Hn81EdbhWUUw7TyN8i7MHTrleVX64sSh/Du/vQbjyI/LRH0lZlzRfjh6SYDjDQIR\n",
       "IBKSlFiI/UXbj4TsvyQB0QEocztJewlTzbpwh5rZ5rkn10opdELCZl5XOphhLXEripusR7QN8j90\n",
       "Q2ZXWAeESYPiffnTRZk3ASxp4i+KtPF4uhj+wmCOdZRPpnlWgKUXU7NGvvVzk8BdmVfvsuclU7Dd\n",
       "dM1P3ImJpgs9MxQbwVrbrHuHncDWIGEAt8EgdZ3bLrAmGv1mrq+0LzLWfCwgCHQ9ZVZmn1ybnDOK\n",
       "YKsXdzf+Pi3WchDVSss52kCVXjhok8zy+TWjI2Yo13Wg8VsSN7+SsC5Pgcz/bk6t0i4qSkfjmJyo\n",
       "9LM92uQNuzVoFJ6/uHtDv6uAsL5Kvmx0ooesRf45OULpolQbbHvj1iiWeyTx4FvkIzIh9VPTCpAR\n",
       "E8flM9BjrUobz8PtPUMc5eY9Qht3hUU5bYDhU6T1fhZtbKxqX9wWuwNcfbFXwSkby6j+upf06s2R\n",
       "IOwknJiqE+WDusPeupK1nZF097BZE1a1zrZsZGFnJP+9NOjmrtS+xidX+XjETVbXgARH/iD7pbbT\n",
       "lgCIWtTf8xAJbS6+Ky9T+1lFo+8okCEN7Ew3z2T1oSbvDw4j8BJ/j+G+cG2PTB0qF067g2s8LvhD\n",
       "Jx0Gu0hajq7FmhIX2G+/WRcbWhah3wpR+b6lDkPMdV9ySdOKh5Ho0NjY9O63JPeZbMgs5g6DXlBY\n",
       "mP4SkofzoWRHqO8Bvr4wZzRibTB6U3bdhEolSGJ3I++CEB+FJY5pGIXt4Qgse567kElNN2zKwzLB\n",
       "RpbheDJd+nnsYJK2ELedKYWajaEKAdZ+O5YO3MLrh6MJcLaXZ2VmQg28eg88Lo5q9j80ZE0gM96C\n",
       "PXZWe58KdsrsGKlKyMgrOr3ZWRL2o/Vvo5Ik79n/uiBYQlJT3tsYPd7TyvbbEz/Lhdx5G2Ns1G/F\n",
       "aQIXLcPpHp5/iictp8H2L4PsHMGAVmKXM1uvbHzjA1bxGxwJu2rsuQwam69G8TF4EUOSeCwKJxqf\n",
       "BLTa2Pp3HW05MNq+mv6zug7WEyROVTGDmTZ21u/kUTgRVlvcMGfCxpsPJLWvi6+gBQXwruRdL5iV\n",
       "Pp0llgZvbsnvwxEtZEb1WmTGq5zeQQCaef4Hj5Kb5xGS6fGdzfITTs53wRsStsUrmZggIO/6Xnri\n",
       "lfRyhB3kSZfrmNbLZXJrA8+swNaeqpqG1LQAcu3OrfVNlvb+/oBy2Tt1LmKgc2KI4eSoWdXZvFNp\n",
       "c+T3Bds8VjE1zmlUW+iRC0gJX62uuV4AfK342j+C2JDg04ihYUlBpeh+1x9lqerFV00UB5/TIi3w\n",
       "h7IAFxtXqW3AJqgzhUvRAxUeNHYR+mxNvKTaz8b7PGHzRh3xqEduZgtTiAF2zyr015bFsYvX/49p\n",
       "wnuxmk7HSbOPfN6F5wSTiRkQFW/sHB84GquXWvkzlpP0H9WkmewOY0SRV5i6V8cV0nRxlqQqxqQI\n",
       "6NPgt/5hRs/+EAqUNf/oZ/8xm17yJf9tusmF8NX2AVN73C0pTHKS1OoIhSQHtO0X1TvQibT0Kpwu\n",
       "sE6ris2broKf+I2OZRZX4V9L0h0F7GcMEZwOwZOw/f3KOMAbDg2YVg3MlpkygY4DLL85TutgS62U\n",
       "vgRQtQe7nPB/0TIJ41nDjlp70SDyHeSd3HVH9Dq3kRiPg41QwOQO7tsu4w3sBId5Q9HtPr9M8o4P\n",
       "y8xYU3lz/SPfuzjFL1D/njIggOu5YDnE2n483sEiflPLI9HQSEXjVf5z1uQdqeiXLjHRgFIiRxMM\n",
       "i3twzJ9oTpc8jXXnVMZIUfMkihFXGjfcKO+ImZMq6mINn7iVHBq4Y07ee+r9sqZWAcVYbZYl/7WH\n",
       "tDTGO7rZfz7emAPmxcBnPexFlMxctCnT9YYKDUFXeLmq3BLPzpPNcqGpc7rZdNi04RyJw9zlrUl3\n",
       "kNB4leeTkIpPLLV6ptkj7K2B1RcKNXmYg/9HTh3Ne3ctgqSln5IN9DgCFEDF9bPMhIr3pqmubAba\n",
       "6ktbtcrsuL5SaSYTjAwNN3BruJSgCfp8l1EoJ+bfV3B/jCuPV5ilbpJ3gcQXEL6ERpA0n+dKw0of\n",
       "RClgcvCdZRPHAkvWE9M7fzwFSFv9FyNHmrbROTKnxQi7ztx1xA2ZLPRMWSWh+3RHUpiIR7yVCeOA\n",
       "AJah1Brf9laSG7B2A5YHd71ND2efg8GMs5X8acn7jufoCjbUDqccOB5SM6wFHpfgR5somtJACm2I\n",
       "UtOmGKeiHY5PqR3szgpuMWv8RfZSGDjaqQ0d8Ib/4iNkVcVZy83E4jsRYOWm2BX2tAVW+XjRnmr6\n",
       "dz4Lq7N2b7ZS+9fcC2GdS61GZr3MiYEIHRxTEECOw+wnTLDlvWqLIiB+VrDMKDvXe5tgfZHwDPQo\n",
       "B1OWVX2xZ4lkrX5PBHzTAhUABA9yBj1utENL9m5GhJlteJZ9roewnomaPJxCaEx9oacTrmf/jEJu\n",
       "aJUiTWeZ83uu9+s48r6iz4aWpHcSr3ob2Bf0fIkTU3BXCRsOZV51Jn4AZZp1Wqo9XwDnlij84NWc\n",
       "bovA94ib4p0k6hInVjikenv/rF6r30oF8qKSpAZYnWfDljuDRQUO9IjtreQth2sKVqYqGI88COjW\n",
       "OS4/1vnPEKy1pSwHsIAil7qaiIJuE4s3JXjVna4F93hSAXxquOR/wAXsz2JQCHlukuJUpj+j7bvK\n",
       "WPXqUrwPF2VwLQR1gyyjQSiK6Pt5RHFk/XettT2sCGpvTXH1B9JFNV0tulKLdlcTxchZXWKEPLA2\n",
       "9j8yx7bKPPKNQKLMTe28X8cYqWBUpzuenpMc29F9e9YZIcTSG3qmesG6W64dM9g4ClmMTYBss3+b\n",
       "+GZndP7vd1bFXfvcExxOzTwyo1CywqMsq5470fUbStJpzzC/9TPIRy7bv7UTO5opxrqzeOlXDGbY\n",
       "snSY/VCOXoS16zroXfouNhCXEncYe6+OzJee5kcfQ7H1/do5ksuO9mpv8pDY0ZqKY833Yrt8nCPH\n",
       "KG34TByPgu3X+vUAlY925A5Wt5lP3wkhSalzUHGojFpA4aQZ3sAdMgbwvqWPVsMXl1NWb9jffcjk\n",
       "dwUUbAad+NuiVkpOBv8rLZ/o+G9Da4zZ9+z6oI3JZ9Dk+H3+nYanP+z8Y5fdvbq3WvTCql1vCPin\n",
       "Y8qpSRiKtSQp7h9+4P++FTlnRHXUpdbL2FlXE3Zs57xVN813Z3da7Os2JY4F0GQZ1EUEzVgTxwPv\n",
       "lz/O6k+dr8ZrpCqD93pibUyUZ0QNGN/cPk281FWgGeqBfFByalcwXqc6Ljp5aLgbWXDj/xCv7aBw\n",
       "jfXneUmr/Hyj6J6BFz2oKCHY3aljVlOkQEEyCtDvYDk2EBKvZf5Cz7VyPBljauEAkQQ6zZ1qRUrv\n",
       "V0TWe0ZWPqEICHsDIH2avqUMFKljcZzq/49EmA4WSoskYDPJjFMONl4LEutyXzCNjQ6XlEwUof0U\n",
       "RmI8Qtev70G5/1Okgg5DFjFtUqfxaY06Vhf17NZ2+z6O50DQyV/zFcixHyxksJXf06LzQKh1bxe0\n",
       "sKVk+k9Gyt0pTu4P/kYb2swxoKdtGFa9nEQy0wi11ks8F65pMyAx9GbgY5I2cIJc5JehsZbJQ5ZW\n",
       "/ET9pPqqPOcwnF+dq6HqlJZYh/mfKQMwXmkAu6dveQiR3/M40EBmxd4XFAZML4+SlGM3OinlvFCe\n",
       "H8FxD3iM/kT+Wnr/WBC3MWJORSBA24ThSyAGsHW1Y7erpUtZtu9GC09zYNcZLIPCRe68rvuHg98q\n",
       "y4Wl/UqtcjfcC6VFHIcY+vbO8cSJJj1RBCsQ4pj91YlBQW3ZwQNSqcGULnJFfRsGX/OIb/moI+/k\n",
       "X49HRUVyiVyOdmf1OP/tFPB0UOzqeK1crTnW/zLTOszhCdHP3G/kDqCnvvsQQpiZ+eAmFZG6QBNp\n",
       "ISrvyPsIn6SHAhV/K0j0kLQa0cxcF2bq1GvkxYEBHtPBYqJ4K66MIBQysXQxXMxt5upsx5LSKfv0\n",
       "CadRWBS+VgUYQXkaqfj9BWcbv+PTqhjrBzz251khB5GVl123ppelMjHcWlR+qqgyIiyxheispzqV\n",
       "kSN/+ogIUJHrYiorpFwOXfC+1Xi5mSXy6w05G9Zf5mSJtWZOPeZ4q5FpLAe7zvDFO30BrP+wh2nz\n",
       "3wYS+YkaKg5PmxbQoX0/Q7A7KvhfbDBY8xo66au19XdrhonYPPOWpl/oOcDumJdu8tze0jeWiYms\n",
       "6qM9uqyf1fJFvnRMIopRVX1AhF3P4YlpEmcqef7Hy85z/1DlCzu/SqLusxIZx7fg97dmLyoxwxB1\n",
       "DO6A9n7S018XqEvTGW2To3TCqgW8AOmVeZIpqMt1peP3qecVE6DsI67y0wIX2VlFukQ9k9Jfb88z\n",
       "7MJDn0eJRlh/K8zkLXsa1fjGRlf8DyvI3KzRSX/VgknhG9ZWbOaligxaDXxAcQq0uQJZIHKo7XKl\n",
       "EXct4/BviCRJd/TgCkhHDcK2QKTLIlsIGK90AFhF4mTnTcQnHurXjPiINcxGj+QAfzR9ZQFUjaIB\n",
       "DWmkpYOK4x2RUYw0Vv4I7nmzW/fQOjFH/MjucOUwt98RFfv3/gQTG4NSFHfyFhIno9hv6GfTuiSX\n",
       "vY1XMJ1AMMlq8C0nFm+ZHAgKl3QzVLHW/AGLYRPSjqRRfzp49+JoYUKj+CXzNalDYdbZ2VZ10UIC\n",
       "ZNFhN2jdfbLrJd6J566EIS8Qs9TU8rdtxkb9jyiw97edlF1Cp8/rALZjMoWcelSN1jfifCcJWwKL\n",
       "gjZkHHMA0tqt99dE9Z8fCVaponbmoJNOUZAxY36EJ/pTddt1zXnE6aJaAX3OyFVR/zhLlPgN4Nqs\n",
       "Slly/fV52ipbf/aNBasQJlndnMj5/g7o2swviZlP9ixu2ZILBBH/l/CAy06vtHmdupAqi+3PJDwP\n",
       "+47xor10oAZ+9I1LkoE27c9l4YRi+KZgIjOupKc9kEHSj3ct3biLHAUOrd/PEyicsxFsLFvsg2F2\n",
       "K6lkMwIkwq8pk98TKN+WOlCzb2c+bQCnLT2E2ibshsrs4BNXF9ynbrSXh+j0rXTECigUbMmk9yBV\n",
       "Z5oXHoowB6p2cCAt0/kshLFKMc/L4Sc33uEo0bGATP7irh+loGBUgIAY8ngfi7UQgjclohJKXgwP\n",
       "tiDB9On8CPtkTn4FqNG6h4nLjGk/ed9xniem8apf5UMu2EvB6WzXc7iHX7smu1pvlixCTUbcfX1j\n",
       "xSFY1b7xNSA+SoX0EUuOg5yp14f1ov9RceDs8yhCnY09HwyGSOEdAQU7ItbLP+4/TTK+0Z38TYew\n",
       "p/fwHH+GYnEmB+GtY0ECtXh230kj9vzh33jUn22D1FiE6xcuI41gjHjW7G3KTVdvdVfxjVPlNy1t\n",
       "Z7WrZc/oBwKL9mQguWpBm4/mAHJ5AnEQsAkC9wbXs2FgmghnvZwbrk1ZsROef11BF9Joi3HWoMz9\n",
       "pUWkUR/59uVHZsGmB2UMSfcGjolSfLG2CY/HldVHyF39h7NnSZJhom5UGjIs+euklfC/PN6UPffq\n",
       "uI/wsgjHQ0/mqgXsAlpy0UT+h4HcMXumxeGo40Grxl1S8myTmZ/sksDKjW4mC4tVNVULCC5bl8AA\n",
       "VDlzy45ynkQsfhmf6taRrYfVXt7WUyK+edcSnjPfLsjRFiUyH1+YUCUYVSlVj9x+PdVN9Bq5Qaru\n",
       "GMNatf/knO5mPsmvihG5KVuDa9xkHPppG14hdmyF33Ex41yu23v6Tw4lR9BxKA5OC6qbynI5PrYD\n",
       "pYmYqyV72P35WZ3i8b3C06+2s/UTmqTu8fX88WWPva4IpXjyrUeUM/HR/4/RRbhoUUZP8joZkSsZ\n",
       "+MuMZ778/YGVqjKwcmhdhs0vRbI/tIWyyXKKV4S6bbFKUMLD0kR3gsJzePeDuWe0B+0pcZ4BMvLQ\n",
       "HAnFcC0kObmWZ/atloeYdKPEcG/GHzNI4AOuEyOadDSI3A8fNCC/tzQSDpm+lF/IeJ/BlY+G1ARo\n",
       "xLRi7ld3oA7rPF9+2DCMMmsebFlr/XtY2+VGsm/UYrDE/bzqi9K+HxML1HjVYAtBJt5FZ01DTsN4\n",
       "rfzQb/O/RbkLCaAttxfWZ+UaY+7LWMSDCzX4WzJ2Mk6P1Xm6x/3BFNgf+zDZwl6/xWlcC9iX3xD8\n",
       "prqpmT1RsKPC5JCNp1+iWvOJkNbD+q5zagok9fkSGVWbakQwJdKarapa+0O7Lk9fXw+ZJ8OPJJeD\n",
       "yWepIFSdcud3a1vF8cyFgyCSaUMQpxOywnQoYv3zo6oYf9tkY6XeQ37vchPnKNO5X7lm6JqW1IzT\n",
       "/DchTv9oWQNkh8WhlONpfusNvFr7+LjQcUTSZ2OtgmmsCj8fHUFkxI79f4zqqVtU6PRWR8BUdDfQ\n",
       "Kocae/JjduZE1k4Fn7NzGa2i/h2wgv9fmuuVfolkyTDsCW8Ri+uPPra4FU5c99NsORJYQTW7zrtR\n",
       "4Hl6sCFT89C7pjXdWCGYsyfII7dEUty58G2x2d+YGoZJkWk7DGl3QPLSY5HKcvo0Sm06CEqJymxh\n",
       "oOeBSpC1UnnqkudG0ljgNWAKP3fqwFNXukh1pCQevRC9yxDPmWs4JkQ8VYDRcmRuw4Ojjm3Pr5qc\n",
       "DHcR4gOGydQ9/Hp9fY0an8UeA1IfoKX2awApj2sQNGGqVWrdmQNdvHGX4MQZURXO1BUy3Cimwfyy\n",
       "AjA1Do0QlShjUIbe83f2QnEg28vWVZxXRwvbouHa7XOsKpmxG7EbSa6/ul/lp+fuVfD36d573SsM\n",
       "Yb0Dg5dLwX+zerofpOYVsFXnvPMl9RXnw06l4QUNCw2u0wdKaHL4wCfyHjMq9dnhujkyCeyCgtST\n",
       "kfVZT8Ek3RX/ckuWIF9SaoAbTAuLZTRbvVSx9/eZ93uSP3J3kFBbfMQZ28Xzpzpd1TL89zZ18r9K\n",
       "8NnKBImo6SR4DpWw/Do/ZY4Smaxz9Gel/edDPB3pjub9AWGXWoTCh75MpD4Rr0m7vY/x+X5QL6Au\n",
       "ACuCr6+7L5onj+YxhRQ82amDSlW7EG9Ew5vjjowofEZ+JnVtBzF2FqgHTbKVnzqDzI85awQTw1+T\n",
       "kIG3CQxYJo2R5qMhLSSd4M5Mjc9cvC/TgtMnzQ7HgJxTWebPdq19BO4b9YHGMdaegBCCJmaYwRzi\n",
       "RpT8U5VDrmjTLzPxIt5F9riJJOTVsc0/bN8eDoJxZGpo4v0DrXsY8g5wzkgaunY+QWASPoy3cikL\n",
       "V7B3qWQ7vq9gOAwcBdabuqtDLlEF2TN13+nubVo+B2nGzLGZ1aalNkFAmk0mMy7EF9VSwKrbDSy5\n",
       "bntOGT1/VtsRyiH2xEjyrLyhRafWqF8Ze2PyOWSN4pTzgILS3FCvtgP/boMa0Nys4B/DRIXOYJJW\n",
       "BxsT4LTZTxnvqPGbsKtg8IagikEsIKbJSo8MI+1iwVtjKMhgDX3RZBSXOVm0PPrHBl+L2h144vcm\n",
       "fW9jKKFURVLcl4cOq6kJ9m6iajUc5Vt4/yMd9IOBE7JangVFbWRILnGnzTUVNI04Q6J6m1WcUMRO\n",
       "3974hvWklch1Bgb4VYrvDB4+vTTc13bzHxzFCr0v2BOUQUq6yf2+3ugogkIDTPbYeygHMTZ80cnC\n",
       "+YdBBZ6pLqb9tDFXBcSy3xbiyGjrOpvDECSq69tIgLATZQAClkFR6agOnMsatIjNh/NHOTtpcU2r\n",
       "1Byfy2T0yQGUxYDvrQANeX82jzbS8QqIWFGuQ/1hdhl0cWXSyjMSkTvXkdeDyZi/KeO40O9fL6M3\n",
       "uPIAueo7MtXQ8e6FEsyrYoPVEqw/M7gL05SFxLwlgW/iq5wvPVxDCGFTXzg2EhFqDeHiKhAdOWY9\n",
       "An9NAeEHWe8I5qpon4jBAx08LWP94QTxHPm6A4VCT+SOMkmPMB0OInr4IbwQuadoQaHDlIk87ul3\n",
       "CCp4zArLsC7Pt3kvLIuJr/6KDmlTAAADAAKHAAAEHUGaJGxCv/44QB1qf4ALHe6v/xBhnd/rJi3s\n",
       "/Snc6A3NG+Tgt/yQKUJEq9QxG45HfQ4XOQRGr10r2oCtMxH/ZwiLgEffhe2qZYHN/1GogrW+AyZj\n",
       "NJUZJTt5edcrnjsrBYP8NRaBu2if5+1vsp8L2LFFNsuPAUisHTdIdZeJPvqybS5fmdc+7YBDn5Fl\n",
       "Dx1uLoaFOQgzJnyJ6d7GQS+ooTKb9BQ5VDAV1L7ue9YHOUk6mXPu9cpym+GYrdr6XQsljLkjeWrD\n",
       "WifgD5D+b4VP7wUBM4iM1MmwjK5yCg/L5e98cPvJapTodcXFpoBgSrylCr5jHujvn77d9eSwOQFK\n",
       "Yg0TFIb1OKRnMoLam1EOZcK6yqMB73iTSEhM7DzWZg2n8prR21VT021Ppwj6lubzU5HvS2z/BDx7\n",
       "40Pg4M/DfBeFHNbgi5eHgrK/7Dgo35ZFqg71+Y+/U0Cm0CEPyCquIl6y+uP2nc2d7i/SubkyKvai\n",
       "WzCC56Uz58VVmfdnWY5ThydgwdYlR519qZux8YHzJxZXhYW99ihAYHUWWCPLakbx7GSUuNZbxU9v\n",
       "xq08FrCtA7zBXbz6OgJIgzm5i0ECs39VM11xJ2i62cE04N1KxpatSOi5lum/qP1YOxcq2d6dLSgZ\n",
       "Ir7wZ0BJ2VqJBj+IGV4CIH6SlSkh1Bkech4hz8nr83Ka+AypTexwvmMYh9YiKbxQetd8cww+gbh8\n",
       "EIpz4DzPdNpP3ahF4BsJZ50qgpu+ZaDxcLb/wtn+ePY+D4W/E65n2IRMNX8WzYrafEDdERXWPRKS\n",
       "wCE1IdXv/hG5KDZGvk5kR5pBjq52u3UQjQxanBM5QWY2yU4m6P79dLY5xwNVNysl6pMxWCwzgxay\n",
       "t8XbQayqo90u6p85YZ/4kR8A5PI2Y+YXPBzn12V3Tecu79tUbX6Fg4Er2HXCY5jXfarfuOF8JB4c\n",
       "KbGVEbDl4mnuHjBtYr7GnkWJ8NBPnNhQtJUhUDugyTybf+HT4lKhXBUYys/sIPzRZE8CkZhj9h8R\n",
       "myMy1Hs2KNJDLHa9NKb4fwkpWsRwoPeC2Z1o5/cA3QqtcKU/6aJykei6eoojxUQXIuDoW+tiIf7u\n",
       "OYyjFAJ4EthYqM/ql87rQ3okGkneJ6clLcG57F69+tSOWxX8+q2nZLa4vOxeWpZxj3nzlJv8dPxO\n",
       "vOehzDaVYNilRfwWiTjc2kPHPtHHVfeU83nUIlVWkmuNmvu+i8EjboFSbdDTPHap+TOX3WsM5/sj\n",
       "5KZL+WhoXdxDayy/m4S0yJ2/fnUXxwKBQRLKzniOz733VuSEszjkJacr6+av0/v5L7jUtlMZGK6d\n",
       "nzbZCHh4B11qlcrYOcIq/4VrKwCYZVYKhxaE0KtOGEjHgD9x1crgDenRxxI4A5N2HfgwmO8hTeIg\n",
       "KAAAAYJBnkJ4hH8FWcXLIlWZMOQAAAMCBQ16h2gCL20ZYNJAG4yfKk3k3TAC+yYXC3Ys7xVwASuY\n",
       "lImq+G895BdszHlZq6RaaAb22CJv/ZwrSB1YUus+Z2m7KCwcOuikLo3pRkKhcrJT+n6UI6+o6ygR\n",
       "e/d86F0GvqkWfp6nBayFTPz4CatGZdA4ussP6foG6fXPH4wEu1+ScPwyfvhBQ4RSwmrqJpEhMpv0\n",
       "sAq2c7veKWvsVkliGRu4QHkSIJ4s1+aqiWP3kH2/iClyoqqEKy6oug6cu66DpBO0q6KMmz7Zau3q\n",
       "kS5lYBq/h0OxxT5rSZ6YYEPjQu/Zr8r/RcPJJw2oDab3p+EmsPpWenqMuFovVTaBtKFVq6z5k9jD\n",
       "e0X78drdWAwfQtDok00wi1pm2i+UmjqE3Wj0M/1fCjWuygEhGjf9NQIgg6iY5/E4K+AB4sEthEZs\n",
       "zsVBQ6P4X7Ojyw2e6r9U89wJXclmNLzEJlbzlqSRt2mTKIS2EkM75v9LCgPkpCPlYQAAAUsBnmF0\n",
       "R/8Db4AsKZmdO3EAAAMAJgVUywI4iyQCxL1BenYEHOJMXIAPmzL29hVzcqoaGdbPgEYotl0BmDK1\n",
       "CVu3Vw2CkzzLYkvRgpu4/mqfEnT3tHjIU5ssktzD2Jx3PWm2Dd8AuHgh4GN0kBUK2B6z4V2wRQgf\n",
       "QC/eYylHtPOTsgV6jCbg4kS98fNl1iVN7bhGQUiC7xI7KdiY75WkGMieGKmCZbUGpsgorVlnEiGE\n",
       "0IabBypTXqNilnLdTvqhl9oXVdcJN3ya/vpaqetB69iVDuQSoVUo++NkXixr591Bv4uq2yRO64Xm\n",
       "rthG/+6Ss4RULV/3x5BvR4U3fVd34YwtIReDhefithLLEzfNuQuY2wjULQ6ZfPruCqmpWA5GxRnE\n",
       "iMofbuxvFgnUcPT7C1eJ04Pzqhhyj9zjgv7xQ6949g2+dT7NLFLeghpwAAAA4gGeY2pH/wfqNKaU\n",
       "XM6wcAAAAwACxLVMsA3pLtZ0iQjGuox/GjwPmQIwAlqmV6xgnmoPPuRnKVHmD5qCIjzHN5xgi9KZ\n",
       "zhHZWLB2oZ+V3vaGI1JhLgmGyn3w7xqiTR3dTyNKH5WuIdgXIzCpzqtgRbEcZ/YgVt0erfCPCrhF\n",
       "jUWY9JC2y+P+gWDg9j+yYJaumTuzTKSNf6WZHbqJG2GQXdVZdmUcsC21XJmramxNsffkioLRs+tS\n",
       "ESMO/WLE/3wEZtqvzIvwWdTgWJV5ZUog5VNxTke8HmsH3Jjy0NlCviZXnNEAAAJJQZplSahBaJlM\n",
       "CFf//jhBnakS1nPsFQdXnrV4WwgAAAMAOQt2tSqAJJdwmAk7fqnfztdq61aqn9IAjI7XgaHrec0+\n",
       "76LCF3/dF0iFRBMfaY8ecV1GStbdNSE5jwPleZv+1Msa6j9CDyV4SsVPwBJp773SDjMayN4LRcYt\n",
       "ga4fK+yf3dh6tBJK5wXFHkSapIqNSoiUVuuTSRz9u16mOg2zC8sMv6sXCNMaPIkAagUUTxinvyPd\n",
       "QyzAXnk/ux3V2BBIKdxME/HcSr4UwbWVwN0ETojt1Ryw27w6dg9Y7IS3z/s+5qETvxYkioilZX1F\n",
       "xmefhGyfdsMyIcjZSL762xjwcrwwht5N0mCZ2QE/0wfd0UzDEyowNOmlKTfFTteXwhYaLj42IlU8\n",
       "BOV8Q5uebdqLLdHTEvJKv0ffKS5JwQBszPuWAZTB26xPe6BYgA7ZijhIQ8jiVu7fx5KAH5flqMu0\n",
       "5KXrZpKHBHxXE8gPeXHURMv5hglJNr18NVaEt2UxhXhFCBXWwPQihMRKuPhYeLSfLFO0RUpxv1g5\n",
       "iUz7JxafR+9mytxbXnO+2D5sISOFCYnS4X+eK50b3O+WVIBRBndlZfAJqTQoZ6900vMPBLDTwvSF\n",
       "aAtCwWaE4QkyCYec1NJRTEoErvCTedA0kQ1f1HxnAhYE/c1/0xSv9c3nWvr6e40OLtz1Hj8y/Zix\n",
       "Cqmoj8yo843l0YkHYvztEz3A0CimUxLNDDwk4i3TtEFD2Q7iFhrx60PRKwfH0O4bEbVQPfgQ1SoT\n",
       "gWJrvqXnAAACBkGahknhClJlMCFf/jhAAEVQFY8tnm2NN/8lPXRUV2nC5S5FAvzlMZgIEIZSUfBv\n",
       "dqTUSSvk4aR5aqlMvgHSQZ/DdV8ibHpuFz0f228ja/kW9fr6zhLn9B11kZvLhHVDFQe3pc7nu2GZ\n",
       "qWCV0gLBXzz4M8IzWTL1feG7r/sB/T4AKn3OGOsstnhcaYo0py2V9rPPbMYdxyIiONupV0INhT4g\n",
       "BPspXFCnYLIIFBinRL0tdZE5ABS+ndc8R2025JJ7bY9rweKo2kxFRG3HaelQHAf3f0ciikX90EBb\n",
       "s+PblYmwT7lsuByiaoaoaqqRKnGOz7luoIP9n8Z0mFlq/6xSXId/AG5mmVlztBg5KbfreAl7tJFk\n",
       "p3V0VJ6AKmrldmnaznQB96XFIyem5bw/tGY5/h568RggSLhM4Af6MpFOYvYvFqAdzdbwTQClKPTg\n",
       "obxDxMjB6z5y7vvfA8fwm6C2FMXlZHVpPn8mLAxR+INodKnpCT47eFkRqnLCHRRea0AFuXqgz7Tu\n",
       "qtPu6lagDQsVdRF7mTK0lP1dX/1rCG7Q8Zjbz+2RgxRdyw9eQrBEXdGI7e1w1Mbllz9n671tFWko\n",
       "VNBlvM4sH49nv4BuvJLhLe7SwA95Lult1CUmtPqTTeiIcQBHDST7LR1OMI7beZGNZX11Cmk/2JJl\n",
       "tBe1tZvOm/1Ap5v6N8P5AAABykGap0nhDomUwIV//jhAAElDisCR8a8sXoF2eoxY/oJ6wnAJV/yO\n",
       "8ZPE6oXyNG6xJ8ZyTDGNUtPl2TWtL0Qb8X4C87ci4OzhIn6sRIgktD8oSC25D/XCKu3i+ekV8vYf\n",
       "rK/GMdh7xKvzU9IxgysORuHVmC43i0qIlUebtueO+spv3+vSsK2vNviKHGgbNgwUzie50H9vG+fj\n",
       "n/5GYO90xixu2SM1YC6gUAksMNEM6dAezW8hnMFympUIy5Ai9oydx1UbaRUh9yfVjXaezgmeej/O\n",
       "b0jk0AE2ApfWpM4/+CP4N2jbb0VJ2SmNtpWB9N/RBp3G4YzND3jGbElYrlufvWQ3EDGt5w4d8uZu\n",
       "MBhKo6v1X/dtXVwVJNOhFxr/qvhuZYs1DGH69mRMfm1V3mf8gHmLEa7clcWa5u2n85UO8pGGMlel\n",
       "1Hzlzur4yrZINCFS5GtIFdLv+7WzWV95qCGvcS/tusejlgHmqsn82G62yv6djK7ex/ltBdUWPLq5\n",
       "XU4na6ud5cdEVjOhRXLjmUePl01b2n9G1YgUmcZQy6DeTZZ3rW8SgJEoQV9SQvwSNcteRMRixPqt\n",
       "KNveCkSc2Yt0HYVsPUOj1qD860DBAAABw0GayEnhDyZTAhX//jhAAH676jyvVa2LqIzevCjp7Oo4\n",
       "EC+POjsOsaE1Ay/XXzGn2EQEr0Y8Bzx7EpVSciDdLxcdLgkYOLzVNQakOZcLsJjfDVFWRlsegDlr\n",
       "56alzemzDvYrYSIpkyYoa+AgvKYJ39mNiBGEhQ0K8P/TnvrTO4T69gOfRKZ3Bp++HoSNlCgUoOpR\n",
       "QByzp+bKtb3wZ89SGR9U+zb9uXsCIYfjQhcR30Z6toEOpKjc6RzQpvY0HQzcJmtAE9j7p+Bgjt9j\n",
       "0dsQlAL2hY80gRtqk73UWWqE0PAvVawFzILDpmxidV+M8ew8GZkF2yfF6TzitXmVzUaMqNr6w8w0\n",
       "xNpLHNWdBiffqYC27wKIdE3CFzYxnxH7dwL6mxWt+M34ocTA3qJJPHxlrP8Db/DKx/jFx/P8I631\n",
       "4yH7dT6Kx96RcAc8hn/VbMU86U2Hqj3bMQbfdpSEt753+yUc6VlcOkKdBNey/DqePuMlwgeeW7bZ\n",
       "0Bi8KTR9aGYEvd7mzGNWcMsKpve+Akw92Y7KHq79P/74WtFhQ2OjpIQKfNPlvScpn+VGAJGKsfWZ\n",
       "K6QvH1HuHrqFNMfIsk6JxWueefIAAAIJQZrpSeEPJlMCF//+jLAAIgFRaGbgBuvUfExVsn0/N1ci\n",
       "BUhWfLmLaQacoYcKa2Df/hFRT9BqcVMyQWIOTs0r+hgj/2uDI707CUow4Xo2lm1hyd/YTKzkmcmf\n",
       "Bb6LLmIiknNrii55QXn0E5Ysiw4wlsSIQsxKmEdcKHpkuJtf3x3x4GlVtm/VekgE4WhDhaY/2mWG\n",
       "YoxdkvdNSKFp8A2++xZOXLRaSu9cFRtA3/phySsyMiMQzfcUhTCRDWMfrPhU56fwFBOJV2apNKjx\n",
       "D6qAbT1zFyzmqqUyBYNpGpMn8iSpMBZAv+IMOXWETWgUnyrs5k0uTCFd8qjxLuXvkcUWWFdhh/cG\n",
       "wET62xwXTQ8oDHlYT+bsiErFmACwEsBlF/3hTrWUqZxkhbTZyUQ5wWxCBL5XcRSDEgIhIJfw5Uib\n",
       "MOXycmavkRmRrDPbI13tcFVukbv4bUamQxFrLaPAkYAfaDEw7UR2Im9KoBns3sZuipSWuVzRln5d\n",
       "JeOvRcPZA5o41XEtjr9kKJ4s/cwQN9v3e4dbfYVEcs/XQEIBRj65bwOk+NWfyEMDh8IuXzlXnz9n\n",
       "jW7A1zCziLvJAPwnmtjjiQNfArP56HIjQpNUuca9ZRZSNYEPnsRTp90d2rjC35YZRbwETDJXQW/4\n",
       "GfQq1tICXcgQI/7HaEWaMiI/q+Q18/omRtdenW17viAAAAG2QZsKSeEPJlMCGf/+nhAAI6kTEMCS\n",
       "CpJ1cUIwA9oDI88tqVJ8L5uxF1QrOqUI0qXhHNPoaifYqqG6iFtSBnxXcJ7c0ws4mBPz5IkHQqqJ\n",
       "b3usR6LuaLv1r18B2FSrQ47NW/dqkFMu4LhE8/zHL6HhDPORSkGhovWWRhzJwmT7m/gOvpn0or7f\n",
       "DtMx51xBYJPKajmpoFOtBF9IvvXEg0Bl89UjMkaSOYcKIgvLTOdVTFb+oAf8M6vQyxJ1rvmm/jAl\n",
       "Pfcnr7prI8vnAYcyANu0PMKOXt6osVXrzPfADW8F8zpx8+1W8wo6MyhHZA4zbUWAXY0Q8q8rHeVR\n",
       "TIHOZmDDlIBsvf9dw7MnkHhOS0jHVUt6c1laUDrKWqgxy6ZNjsPNh9aXa/Q7WLig0BavA8KTb66b\n",
       "gY/SGwCz3ae1od82p1W6kzXuTjZd0Q+AhMObbvlYH4s0WGwYQLvY03hc27IExAgzAk9IkUzjIGFq\n",
       "Yvyska1LCNG5yu/+GFghLMK3oGOlPEdhXWhpGxJO1pp6WPgpQKBzP1t4uecHcW9deSzaGvnsaDhN\n",
       "3Ftdf0xz4pQXdv2fGIWXp+l5AAADZUGbLknhDyZTAhn//p4QAENovxqXRoOAFuG8FpBmlJBbGgoW\n",
       "J3l7NG/DiUN9Vun9e0emXAhSNfWoluWlV21gH1R51vMdBt0Fmv8kNd7EeHTSJUba5hSNcWLXP2Qf\n",
       "1bxgsprddRpVIgAf3+uA5M/SYzVLp5Pzvg6taOLpAYzXRRR+h1vh+Fcws7kI/XUgKea51TK3ApHK\n",
       "N9rJVswbNhqX/89eIKQ2zhaM/mIzHeSHmKMBvlnweGDJYTvpWC6pJm56Ym4D6oaIR/yMLFGAXA3v\n",
       "GHiqPwU0pLmpCaS4j7SSVZE+l15cZP/5nsdVeCOCCk3U5Y9qG5lW3LXA99/yFHzKj6TnYhCMimk3\n",
       "Ph6K+WS6LNvNcFcfxLktcvvyUbK3xYxIVMBg+oM8mug5xqjE/A/P7D3t1hM1TBPBU12tR/mN0QMr\n",
       "ADaGZEWD3qZXgMu8JYpf6hfUUDwWD7ZimbSrKat51Yb76P1LuwTs+kRPwHbrBdIEeI1VFFFFUoA2\n",
       "+dIv9Lxy9lxGuwtWqOnsS0gDr/cTLUdK22Cnv75mD0aAQoUxhMp7vtW16b02G+5A4BrPXYc5G2HI\n",
       "yGzrIdAoRXfuGwK/SBYTuBXjhMe9UYfZUOkcTPXXfOIE4dw8GLQ6NffOJOLKSHlZScPjvkFLH1h7\n",
       "NON2QgzGuFprACjWFQKBU98HASk8yFhViptMBy2IMk6whCU0/WUJhEfSLLD4wSRBXS/NDtbhkkBr\n",
       "D8FiBuU3OKnOFr3Aglytcc4OoKoKdS8fH4DlqneQJUbNGryc9SIOtLYy45PYaDXgGosVEFLOwyoa\n",
       "f7cPffBKxzLtkNRm11B7BNXBoEkCUkFrCc32hrZsO1kR3RCW9ROuwcirz8SyFvelf/2dXU/6reQh\n",
       "jssMKlVEB1Tw6MzVU96w2RN7aTRF6DML6J+younKi/tMMf+TFF8lHvzH+2U+WTwRNUJkKzwcGG5I\n",
       "7I6mTOL2nyW4P1uBpDXpiZyEHdPFXJq85YsxdeMr4Ob0FqIVfeLndim6IJsmvwNhelMTZmMPVTW8\n",
       "y8X7y4w8rFT0ttqecFLzq4nKtuG0zrYF7XozzAWGTTjMVvU+WWI8Sx0F+pO2q5DDxV8MENIWh77M\n",
       "X4Vg1xmVXFJqBLVtYt8tCI2puvdKzvGn0q/JuKlXPEWFpOfzAAABVUGfTEURPCP/ABYsQ+a6LpFT\n",
       "aEaACvWcRz8LNvK3PU1M+CuRHzDLTb7vvBbxrNKt6IWRJki5nR2TyDm1KG5rDZuCCyS/bCdk4+fs\n",
       "ew2YCGeFwJdhxsWZdA/qROFhXLooT4n8IbJUsuxx+zOqd2cHBQPqMtLWB/cOShkoOfdlr15xHx+r\n",
       "nc31Dr5tyzKdQKy8sdP8XvuE9dCFMMF79lHB5H/3x3/syLN/w4/0+jC6ouhciO1YwdsqkzTj4nOT\n",
       "2ePLcU0X5l8X10tyVOV7oMU4g5+FFcJ5vjqreskMTIHc56C+QQXOQcTtEgFxmYqgcYnmQJAZzfut\n",
       "PhhQf3E/57l5DEemC0ClLNNUHy25iDPPZSELyeM6Mo/W5kAj05dHfAdLvUO4zLUeleIJrIs123Dc\n",
       "PipwHW35KMu/1TFXjx9LQeAKV8HStdnaCP4TIO0Y2K6f2eh577tgAAAA1QGfa3RH/wAgw1Jd9xxE\n",
       "3INjVkXFNmci/NL4MBBt9BPpsbIEAAnTX00e7usu/fb3nrQWmXE0E/0gI/F/ILlZuVvkHi3Ovy5V\n",
       "AS7lzo50k9VuqFsFHWJgVhpCi/EWmx1VUrhfji/QERLfpZkJmuIELuuecZ688YnVQxOoHE/Fp8Pw\n",
       "tgrZxXdOvypZTQSB3Dw3LkyOYkdlwOQa6x/meb8gpYLrycOitKz+VyutAolhedAWnYmMMhnsB3j4\n",
       "Q6evrfdqTNH0WFKkzpkqo38yoyCjrvPNgUWMxwAAAK4Bn21qR/8AIr8CpPpaMr1ng14pgUTqcuoI\n",
       "btk2vJnqqy4+ucuFHHOczEh/ABKj017l8v9DEoyva7q+av3QOWKs//+hmQRxl20Y74croePVuvUd\n",
       "s3Bs8jwQU1PVviyKZqhuJN2GszhSqk+/2eMJMbHKfN4ND+FiQZ+l6e4FWYbh5dx9wxcDBQm0dbcM\n",
       "80EoJohhJ9WByflYNNGPcobRXjxLZ2UjcvKO43iFSpDa9IEAAARSQZtySahBaJlMCGf//p4QAIKR\n",
       "LkARMe+pd5fOnAAspA/0T+qAHGYnn71Pk32HKHAcjYeG4RnhzLaL+Ke6dEy1LauwO5llVVfJJPkw\n",
       "DFBKRGX7qbqsEHHIdshNJDc8Vq0MhJdltL83gAlC9Y8cpKLtLqkr3K5yiG47hVpUP9qm3UIVx7NX\n",
       "q/dxjF/QfUKOuCp1K12e1cKwQzbtQ2KGoUZNaNfF/5JrLZoEomDcy+P3+pjQic64H2TGvr5NMqiP\n",
       "z5c9ly5nNMihO/TVfkbV3cEgllRKJW2me1IS3q7WgUQkHDlOPkAG+QxQ0GRU9WeGeoUKpjMY91uz\n",
       "+3lcaLkZ6xgdiSd/+JGqzyxtD5Gvr3AJphbmLPhVKda+3LehaGnE0LVZVn8A7kJy/ZPIOVulKbv7\n",
       "NbB2he8je+5vgQfshM9Znw2fk7r5OKuBAINRhQNzKw9KnU3LRpK0E3w0+g66qBNCEyE3sv83sAWs\n",
       "4Dd8dfov7YKUtjYcTGr3W5LJbOwEZYkA6n0OZY9jXRg3HrmrXwgdMwl3smDqTg+md6/oZ63Pfq55\n",
       "9f+K6vyL5sfo0ZXvFLRWcr3TMAsAdAi5YhOO2LmxMLYYc+fZeuoWaRTiXsiuFSxvCeVF4nLvUXH7\n",
       "dUNU3CbP5HykQ7PyJmYLUYv+flElTQzdsJ1eR5mc+s2vyOkJdnEF/6Ll2UWehC/CgLp/Z6+Ee9SL\n",
       "SoiZACt0EsPx+s0Ol37PRfJ4RhO6KCuG0vluZqEi+spdSGwyGI2frVfNz/pR4AY1yifw2L9lm5eC\n",
       "JGIdfskBPqZg4fy5l6SUP7xzJP7XgTi5WbnunKMWGLT9T739W6zaeuodz1kxCTLXkv7tS65LFbfi\n",
       "8lM/7+YUFYNJpYoTa06AVDGCWbQOGbA8CpYW78iITw3QchdodkgcGi5LyJlC9WjSk2t68jg8ulB/\n",
       "kFWSgvi01kQg8sb99IhTAP32v0EXuDvPWo+GitdxYZK+gBwDhRzOOuGies/6So4R3e8XVYx85RM8\n",
       "yMYMdB2KrNYC9ffhcBJXqWumTL+jmUeKhmPy7nAcYtuPLrZlXXSr4FwAyfdjjV7g+5ByftC5hIxy\n",
       "2Wr1Wqt/yxo2KQDm4Jz/xGck45LCpn9a1Ep8MIAuBQwStndTHOcjPT8EESkwK3zQ3n70jsw12gbC\n",
       "3y7PHj57R1FPo6rSc9hvzGqgM1QhRVtBdc9rgKyt0mvb+aDLctIbSLHj55dbn48td6gfh5o87Qui\n",
       "5PQUXzPLT0hqZ2YfDxTuHJEYqnGRzs8v8tf7CBAZlVV12+aybZfR00koucZD1tb7DH/C0OVZk/dx\n",
       "7s/OhpZszaiKIr8BZvgo+lVkhK4RxNJ/eRxWvPDqac0cH4uZQq17IYyrI3snoKbK98KJRc3z+jrF\n",
       "hFWTt+/FYC5zyJVxAK/ojLTAHt25kSXX9MWXiFwfvssBI60aSCyeN3sDPK0i+OjtZjyUY4VjgUIa\n",
       "Q5/TyeEAAAFgQZ+QRREsI/8AKziHqCGROgkNAeSMAFnuyNkzDqZbkoDmgKZChEnqn1wGNqFkyh7c\n",
       "yoQUjAm49QE6F+jnVQVL5KWufBRa1SnYuouCJB7k09QZBQCT9e3X384vdU+429htQeK+roJoyuYv\n",
       "sTyTyd/8UlEp82Xdzhpbz1lSvlchZc3x90kklCnlmmhmNGJx1Y9PILVEIjjs17T9adoL8R3JYCDl\n",
       "MMRgvVy3TceF9XVEcCJJHAgGxkkafLE1MCa1iNsZ3+vOyLz9i+NdMJD+UpSIriDX9r4zXG/VqV24\n",
       "Dk1yby1yZqaCivusxzWfsGW3M+kuQevrYbfDUhxAb3ZQOqQ7JEBaMZWDp/Oqv3ahISXddOmv5LEx\n",
       "hb+rTpr5342VuQgRl/gvnuTW0gFjNgfQrS9YX/He3sNfiH+JP7hAFsFdRR2jUstoTsLlw3ZXu2r3\n",
       "8WJbdMojn4xW5BfQmv8bAFonYAAAAJ0Bn690R/8AQYagRr6dnL/py0M0tLRM2bgl4Va7kxA5Jogn\n",
       "WDdBDH0tntfBXF5Lab+YAHga3BSaF1Jtwhg/RX2ZGOJ7s5VmZtLLDA0QaUnm3SaTEqxlD6252sMv\n",
       "KVxTlIyluzQ+REHglLFYPLP150LmUjFIOBLSn47CR8wSvYKy/g7H5t7U9Q6/lcH+XRkgO1U7+mZY\n",
       "vK/bpOeeU8zUAAAAmQGfsWpH/wBDfhdoBgGVzvdT86Ta6Kqz7GCGHB82ABo7fDeS/HTaR85zwK8z\n",
       "lnfMbtHzoFnLPiBgoqpNxAxUkpGHm8V+xg0q6qn2I/U3kqDy9StM2eoPpZEfEncWnjKh29BL3Y15\n",
       "HUwgdgpH4i6D3X9ZQwXQvn4MnHPqhNufpgEjc6rxk4/lS4Lo7rEHgIGK0Y1tILkiDKlQiwAABDJB\n",
       "m7ZJqEFsmUwIZ//+nhAAhpGBwAQ/R9S5HKn8Ywj8tLB6UMjEbiAp0PXuSTEwedDvIS6B2tkxDyvU\n",
       "mHtn4kJHfYlRAgKbJGU/NksG0uCrBd1b5vwZzsU3PMoZpofoUn3JBxQI+8aQyrbt64VwzoDnTo82\n",
       "DjBKrTD0vL+5KGhoZCBPCS8zH0DKGTabAxpAl7NieveyLPN+G4f7XThwNhtoRgVq3OZeRDfJSIlX\n",
       "4Tck5Jvm4sRKu6ICcDF7EYG4rqyshVuP4sYfNXQcx8r7gQwfI5x6iVJBjdcrksAUHfAtJKlXye4e\n",
       "ZOqzfln1txU0DjEzE3sF96OC+e+pGhUSFsSuN7LyZn7U6UfqY7EKEFbaAu1XAEZ8gLfqf07AIhHc\n",
       "DVz6En6fmrZwWr8As8ufvT9c5nik0+RWHYNwX91SOKcCtX0LykLbnzy3RoM35btBLZMOq0oJ9cGl\n",
       "oBlYavb3U4kvzcMQy2bqkrBq10A7li9cfZaF6WpfEkc1gf0hZedEDYkKUNQ256z3XBJqvSdRgb25\n",
       "aq4ywaP8Q7fyGq4TFBRXFCoOOz3bjMKR+b9/m1E6maiqYsYZ2i20R2/PDa951BDc7U5PgjfOGIPi\n",
       "7KSICnmXay0YqASKfSU2CbMGUSA5mYeUHNXfY6zQAlZEiGH+ePXo30DGvSHvH8nFP/vM2tIiwxOb\n",
       "B54CF9kHu/N7AJYqYSqrEbQFbVPFJyYcwWbItTfnl1+blpmud821Ze8FXyZVDcwh5lsSZTZa8xJs\n",
       "Li/VhMFWPxzATJz4nehANJhbVhz6tbo0rPGjhKvpnXc2Rzz6rJjz2BRWtKupF/BXrMotPDcMxepF\n",
       "s32DgbJUrSYZ/jQgHULnycusmAAAxguhNi+AsMTRqxru4G4Cm6LNPXIvkmnPmqdNu5qsG5AP1rpT\n",
       "gvnqbR6JvpepvBxyyv9pcxlBIq0TSQFb00yreguTWGU7RvTfCZT/iZUtaRzGzyLiONkWeYds5xne\n",
       "MWC/A2L5NcyCvjx0iby4ALI1osWbRHO7kGFHhQ1ZDOzElocH4dN4/GD9DYJQ9rLPDxxWU1AbAqhw\n",
       "cG13lXbfBeuFKMh5FNQqcbr9t37JdaGMssJwTSyJO3RMveDUy08NO97eg0RhDfDjysgyXo5s4LJE\n",
       "bq+zrYuVbYBW8rzOT/Nv/8R/scWU9WU0dh+zc4YQJ8ONy3fvg6nFewC+DfxVVS0tA0Q2XnBQxCoX\n",
       "i27TiiJE4vJUwN2SQJRuLsp6K/u6tEib0DcJoK9iFul78arKCWmApBs0BmZ1leCH1rdc/TuXW7kc\n",
       "2l10b6Us6aC5p0lm+UvLsII7A9XuFvWezbcr3czxYUIRtxc3xNnnu7NIj6TjGyafarySRi7C+DPG\n",
       "yCLfNlePgVdbkXAJRRezhll8Wqj+hLLzkoD1FoTL7brvvSpyrTjE1msrixxMHCYAAAFyQZ/URRUs\n",
       "I/8ALFhdy+1PM4PyiQACmCk9qMYcvkwem7L6Y/s3UnEWUxedi9whWxvwTc4PLkObMkVDnd5xuDCt\n",
       "E4mtKQnyqes8OmjkxM1CxjJtjSCFFf/EPutrtQ6xGdYvG4NJqHAQu6/VVQG+Sd+IF3nCYklo7oLD\n",
       "RfwR1CA2vEIaAgqBOvXAqAsgM8o1d6sb5OK7aeuslN0tDeYfQk1Cen4T1eyjXnKQDYeNnARmwWuY\n",
       "fa8+5TKXcSA33eGjR2AFBn6hlLcs0M3BJ+EIs/yzcU5jnvq/ARc3Q4hPq5WUZc9SMQ/U/PzaGZ48\n",
       "LCHIOiiHP//V1aXkiMaBIsSQCKEliksWOHugD75wjsQJXKP2c1TOYDOEpPZZyeCroGbEC9QQpj2T\n",
       "h8SNAyR4g2VZJMPIxTa/xneJ1YTkmd5ZnPSQ+0oui6nwcY0vuvRqJhVNufgBM/Nxn/ST0v7UoFki\n",
       "Yyqp5KT3P2yOAk+HlR2WZIGlk+EDfgAAAL4Bn/N0R/8AQyvmF2DzdESHs2YUht22SmvP+UI2dLS0\n",
       "MXe0AC3SdCqLi0H+Pnmo6TMCq/pEYQoEa5z4WbMQ0kb04dfvGyiSR1Iq7FDnbeTQ9NHf0SPNYbaX\n",
       "U7sCfLnLVbM/FqyA6l7jnqSr5452cofe920ZWkgR41it6ocojHV1HavvRwhAEqT/9JqqDWsoBqjj\n",
       "Uk6nS6p5PMMkhtE1YHrrbL80RJnOKf47LgAXTee5crdw6acEZFV1B864sYRhAAAAvgGf9WpH/wBF\n",
       "GfhfhxehGhV9In9x7JViQEPBbFFj9gAA/PZ6RVFWjVsO0L219H5g8M237666n7LC25wSL3WLFXcq\n",
       "PFt/ApmwGss1oQr9ytvtrhA4XsAtOCzHvhv9sL+lXOibu2K+768LRWVbEjNykbPmzYps8A7bmCdY\n",
       "PjZPry+C/vBRedFsISZnJaXv9S6jWleOxQd3YuvrQv037J+uHipw5FsJgbwO7hqsksFMxyDU35rb\n",
       "j1nBtUnRv8rzcj4AAASCQZv6SahBbJlMCGf//p4QAIqRLkAJq9WqXd5Qey9nMou06tXY2ShUOY4x\n",
       "1qkiLsh7urayDfdnnrc7rP943oHMrEkcFiHrjd9ZJ2fHQWBT9jtKSP2O2rU1yDBbaUTpyOIn6UIx\n",
       "It1jOU0Q495X0WhfEORa6r744fsEgLF8Aym2c4xZCsb32uh2z8Jr1pC6Z0RVyHQyeGZ/Ep52QPt3\n",
       "DEVFcWczZVPmlR7w5mVlZeD5+4blAjCNoQVLpbNNB5aOsxiHC+RWt+FBH7x1PRpJAW27WVfmugze\n",
       "TJiMvQqNZq2OwAEX2cq+a+Um/9Ff5TlPFWmiFQqvv3ChxlldX7mpSL8+AE0M50pPLhD8rCSCrjif\n",
       "IFWVQoNdOSGO8Fd+230pIRu5157JRrYJt5adIVQO0DVhb+AuF2Ps4CoEezgVmjj3iDjkAQ7jo6fT\n",
       "ui6dd9h2MzVsWwyeWTurzO1MSpZ8cSuki4GXu8BLje6mVjM2d8jeNnAZZBQ7YdVdoY7iiPbPsQMk\n",
       "YV3XE2zS/fzsh70w3Hz1sacfgvWYm8rSQ3LmLA/ybMuzqvfGJUSm1iXPBReGpZ2TBXgtcjKLBFL/\n",
       "eggWCkDCeiVtsmPs78d8UTulBGaQWF/4AHrtaF+jlBGP9GyUCu6gGXNG9zRzflZI79oTB9LCS9EV\n",
       "bEcix0ioa7bI4URP+jfvRC0paOErnj0yFbxbbKPmWT+OBfpJVsZ4VBLrOIx6x/3fRapEmmbVX53H\n",
       "hi+shiXzTjsk0AGjKHzC7mxT5MIeTbfeCSsBBvY6/jR6vtpFE3sU55sOBN+QNw7E+JyXkATzw0Ei\n",
       "87MhyIrdkceLdktn8YRMlKLYqH1w8JCWh0nCeeRrsq6GF6UPRuG4HE9b52yNiq4/g1/F997hTDkh\n",
       "f3ltyyQ6qoEBXVi5CEEF99yVEsZ03sxIaN+8030zpZOA/nzzYkBf4IWsDkJsYEsu5AwqVnviOJ9I\n",
       "Y4fu5AwUvWw4R3b/xYHBzDPn9wvE+LOgqjMUEBBr+RkrZse9bC9/dTnBTF0Crly09Q99GypQR79G\n",
       "2X5ly6C1f8nhlDTdRg2LBlxCIskC29S8tW5c2JX7V+R5VwQ9HZ986aj+eDiE9ApxRs5Iz/fH+OUC\n",
       "gHwnMHOAt4l0T+H0Y4kqWBkkHuIt07vJiQT2abmDJAW3WEsGrnQFPRu3j6yf4cpnKKo6xu7nNIVx\n",
       "C1JUP20/m8EQenE5OwtGxgVwSKx5AKOdETqb8yHovSiY28ZTsNdQmElxqfXEDw1h5q0MUhxSRDt7\n",
       "mZP4MbrsCUIxOJNVbEdPBCAi7Mj3nGOBVKOh8PePGfYUmmhkHaIQcC8surbC5kpTKdW5w+8OoZbO\n",
       "aWQqTQyGN5Jvdl+wEyc5cLkzkf0it4+JOHbBj5DbidE5gFldRjN/ArzLgo/ra47w0ZEUAk2vZqoy\n",
       "CvMPahzihHCy+1sK64wxLD9TF1AiynmpKKUnJ7uqLqB80bcpmNPQd974V22z+UIRKpTqascLqKVF\n",
       "qW0GJ8b6jnVfyyc4aRmVaXAxyLGs6cZXKV4auYEAAAGIQZ4YRRUsI/8ALXhwwon05IAF1DQDK4lU\n",
       "97FNEyHNz+w1LvAuRd7cxUY5/nI7W+A2oQPq33BvAfZZHR2YLm9HBLrMypCkJ8v7hj6fPnhzwyMB\n",
       "QRyzNr1p4+aYiXlTFCxWGtjxwFkRpA9O4KPY0pMiU/s5diz4ORu9tGQNpfiyJ+j+1GoQt2yIJVGw\n",
       "DEEGhsBcf3/+lQ8uvinlHfeV7CAyjj1zaiYWJg6dn0xRglRSCYuQKFaTq71HXhctRrp+39hGRYqk\n",
       "u1VpjUL0jeg9/iDzSMYSZjY4QvkmikyuktrBDml9XkoilGCNVugNQ+70tZaOVxyHC4rwDghz9LTU\n",
       "l2IhEC6LQL/m6K1Al1LMhhDfW6j9Y+ax13pmySiBt1JPfqIkWuCFk++J6T5HYkUCEKB54TcmcZiO\n",
       "rsLX1KHtblXTCGrEHn1SkBeB8xV1cbVY9X0T878xcFIxqAHh3w5YGoiRZykAooLnc9Xpg/5H5r99\n",
       "Q4qAwuJNpXQaREl/bYjxWAbTGycZ5ppXVBEAAADMAZ43dEf/AEVEMKCyVv61ZiBTkhY9U2ACWWMJ\n",
       "a9dSZLFXaEI04rgUOGmPkgHnOlr4uKuTW6Tdm5r9T3s7rL9juS71Jt00d3uNAWSDggId+3plb/vG\n",
       "oSjT2hV6o9zU1eT2LHFQIYLJGbiYALVLcZVObMKaP0tyJiONf/l4B/RE6kVF3c1tFlD8jw47opnR\n",
       "4bOwVbQYs6gTMMuFlUx0RaPs5CcLig+NUeOj7dZTZyuS+0wVCQUKPMqxVeSn4RaKgYNXNiP3pFju\n",
       "Z1mZj0XEAAAArgGeOWpH/wBHfb64l93gVz30AAB4jnQYnQihm7qsOjwlh55Y8qV6qZCLKrkMKPvH\n",
       "3MGyjJwniLEedWBzO4BNqsKBA6vTxDB5ciHpwNBgWoKV9P66wpQj9v/2HLGkyY9mVdc/B4co8LgX\n",
       "Nfq5C0SPKzMvFsgK2unU+PZ3ufLnus1JBPA9Gm8+rP2uw0vNBq3zoCaN0AFXTKsNV0IK4LUA8fct\n",
       "d4p58OigFj7jl2BSYQAABUhBmj5JqEFsmUwIX//+jLABB+dVYBwAJ1oUifeB4yvN3n/bWkmZVPde\n",
       "TOqY11m746P9gRWwpUFnvDK4yE/YqO7p+yPnm7jvMRJP3/mT2cNs9/9UHO2CKSRuAbhb+L+PeZ9O\n",
       "RSwe7uT+8fzC1fgYw4uAXc4846Sr7/SvUX2PPH3IBEa0iOtZUK7QnUPtytWNQT4COmHukbptIm4Y\n",
       "O9kLm1l7TTS6kxmdLYqfd3A5JBObaWcfa95IcpwkjPIkE3UYWjqdIcxWjvGaoq5p3DTASz4ulVZF\n",
       "o9l5V/QrtWifwAhYAFJdWzW+rLIxOzatZZ/0hwrHgdGjq1fs/P8K3thOtYlWB2htrP6DaUciaKWw\n",
       "Eowed1qn0RdiGhjCgAn6pjV/cEJOyVftc0/pVd+gNCc1bpmOaho8uSTDeM3cqIRC/rRbFtPQlCl7\n",
       "aQOwaE2tiFxoMGgIZ1C7QldlEPafBJwfIfLcLY0/iANQSG5vJ2kr3JrOE1ayuzhawNVf2WvBX8fE\n",
       "Fm5iiweZo84LRh0QkvK7k0QnIr/0TONsueEILujDlYRbbin2Y6t8B11sCd+bP8NAQvqBKd1MuKMo\n",
       "9zH21zskDl7V17YYG67fzxuF84bQZW3zysp7bkb/IaKmUBv6KXkwVYxPeP90pmVlZAPSAObTdjGi\n",
       "p3CkCtpio8TuP2Uyrba8lJV2NJKvC4S+GrdJLK89H9C7D+x06phI1xwm6I6S16Zg7/aC8tJEpr/K\n",
       "7CFtgTVp5zWaTeaoRofGuOfvVD1TPcPNlAq4BXUhqE4Wmp3+ZMLm7C+IHNCrqRieiY/kib5x5Lyk\n",
       "k+A0S5DlNoGsDi7+2yZ2Fmi0i1fYGUXd09k5EHCGifizprIc/u7m0y5WEmiB27O9nbIM4m2NIRvP\n",
       "3NR7xHTf7PEMVPCR1sUyRvEx8DbnJ48MdCpdVBUD7QXz8AxMp0qRmj8F4IuJVH50nUiQdDFqUytJ\n",
       "TFjbmkLFYA8pbgvXnpTJ36g6lsfIJXJmpgXX9Ln6HK261ZmW+iQ7ehXaKlZFhl5JqvS0ag0eb18t\n",
       "MfkFxgiiagunptGjmkgXClCZ8XJASKsFHcfYwBJwPAsVTqw4CNuRqcAEYcHP+EkiUqp8cbRDJhWa\n",
       "UNw+NVu9XAhQFL8pPnJsoexiLV7Guc4WL6k/54Dc68v+V84Uebec0ff6aTdyECEeMMEENfJ0hphg\n",
       "lzR1MHoasumrHv5uDnevVccaDUsKd6qea4z7k0QyP/Sq1sgFLc5qhI8rIZfq6tkZU1vux6xTZ3Dt\n",
       "ulqmpCther35XlFfR2mk1Y/bGeS5FWiS5Ktk/T+Vg1LrecnvwXHVhmv73eQ20ZhVuqu5XpI9lTNd\n",
       "YwUgOUeT0WMvpeKEL4OzpL5dhi4cCcngFPiuadhdqRpLS8SFm+Cly9ZihrQ4Thvwp9GDqF9XtTQl\n",
       "ZbNqQBXGJZUhqe+MC7TMnaXW8WdtTuC9Txs73ZTRXwm/yOKgDbbsjHrwYJebp0Vr/NSj7d8UtsZe\n",
       "FT0d5a/LJFquq3L0FNOzVacuXVsfPCfYCBR9VBGWFvQWd1sdeJwNDNw6+42elruNXwTtCzonAYKf\n",
       "BEpvxZExGHA2K3mWuKTsEjw0HWYIWlL54kwh2RQSis9KL+3jvoRYC2GTDBIdNVdQomnr4K93tfJF\n",
       "/RIHjDu0MdynycSgM5IKDNJ4Dv5UL3hy2s+fq0FdQ7djMN3ge0L/Z9bFVT3H5WzdP3vYwni7aJ6+\n",
       "xZDTUvrJgLLKI8WnCgitTJXcxlILFggo10ptvQ7XPp6ZmxlJqJBo2UnlnQ/2gTu8HXaD9bhAQoZR\n",
       "yAAAAY1BnlxFFSwj/wBWcnXgBbxpFyM74J4sWn5AZqU+efdGJFC94W4Ti/G/P5P9JsoXgiFy1XUk\n",
       "lO403Vlmb0t5eIHzfm8SNvDio+S3Ytq2wEVLHUjN1HWlXo2j53pkEAaFnWsazuIoeW2NqNkRiTMY\n",
       "MzDV7IyD+LTfwjRqesimDPYL89Typfe0+QLKYRCXRjW7ZVxGl/YmJSULh+i0GlMAf0Ay0pQgNcLq\n",
       "yIAsxiixgKNkbalkBPSui+O6Ey4Xa2CkaIphXOK/cy15Y8rfVHi8CU2cZylH96+hp3e3t6QojSgs\n",
       "H+qdo6qPTx3XWn7sA7QpZMH+S0waXSdIzSCxmso8vA+xb5Pc2GeeJrhqUTqO9qr/yQhdJOgW5n+y\n",
       "azM2pHF2ItipmH3DJyDU1oBas82rpZSm4AzUoLY1GKXNzkd6wua53SnFGXSbZKLqjz8ViC/qlpFv\n",
       "cF44TE/G9klYOhxGXRkW55LvzK/ZA8qUf8niGGRSxywoAfPL7HVUedc1feNkfQtAR9rnZeOwQya6\n",
       "LHthAAAAvAGee3RH/wCHCuMpGi64cgAXQKsDKnquV7NE3+RnwOf/1xssB/Rf4UbqqA9wmNzoJXL/\n",
       "yFSGA/P84uXiTQelkTf4E4h9mRJv7AIyIMn8G6o/eBrtEMCGS8keJWNOb4Oq1HikHexFYJnEPODt\n",
       "Wyy/gtvsuIrqVYea9rHSKEtq7sZCSledcx/EIDJfwvmqRwCp5/iaXkfz5WQ1/nhNyfBBuBD4wSwn\n",
       "lM6K1xcKhzFbXdojr6MdMzLaWFbGRjJ1AAAAoAGefWpH/wCE4BL3cuUfyrMgvdvZaDpqxJ2tbQCP\n",
       "hvh+cgZslu737w+AE1CA5pjbbLvcTIM1/T9S25QnsmBf4Y3Ll9wmGZf/SyfvXrVRHApdDz5nF7pB\n",
       "J70xPjvstMSJMqKMuLU2AGAoRTTK7/GJjDK6VDsVcd7S/CPQgJ8kIUCEY1v7zOjV57AR/RqO0Gx4\n",
       "6xKM2EvNvcrFLOIEpSDHyigAAAVAQZpiSahBbJlMCF///oywAQlYDTkRcALFV/P3jHCgEqAcqXHy\n",
       "matZWmXchL5UalK2dNrp7Rm0rcczoXE1Bg2ls+UdvkWMK4tEpgoSI6cOPLkYb1FwOSm/1cYexurE\n",
       "PfIo1EYeKWuqLO+o55ipQ42PldNJK2UtD1VB712YRTZaEUIjojftWgqNkGLC2+9dnyLvQrjINP1m\n",
       "qokSXMgu4ONBtu80eWkB+rJPOpilK9D9PG2WSMtRk7nXAFr6FDNsfPui+FtAvLs5BoZUfYyzTquG\n",
       "HsEvqcWTc3RaiEWNSCF+cxbbS+TnKRhoLk0jBVRE0tScI7gKbcGlTJgZ72Iy0uzYqN5wSM9z/g0A\n",
       "tP2VbaMasS1111ZVIrhcmVuCpE7t4MxzYeeHzZGyabjPOeEfJVdy5gLwzRAc8kjX91V4zA0c8SZf\n",
       "ZcGcwE95jwl2V+ksR4a/epHsBSYcODztuO7HemP4KeBmg9suBSrX5TZzN5SO9CuRuOYyTo3QhjSw\n",
       "uFwh4/8Ifi6XbUnJlUNX2wIZDG9VCsTvo5BdiQnYF9xLvosLvxbJbhHBTK9qRwOiV0a/Q0bS6Uzv\n",
       "dpyEZvZdHGZRcaiSyrLS2F6pgYaiBhdnGXGxn0DkTiIi4DBycvfvzxqO89W6/ptCB4L3BCDFWErh\n",
       "CKfaZwTpT3Olurx7xNVW7vNZlOv5Lg6xF0cYJit+zGf58j8WLyESqaBtCJn5lRcXgfCc2dLG/k0q\n",
       "tYG77rQzpWT1BmXfju5P04iXmw7tKJxuU5kbw4VKIVK+J/z2c6ccyR9Pqr4QU/EXSBRiTA2Unwwk\n",
       "1lyFAfRLkXD3VJaR+J+LOB/HhqLD9c43r/ySMh7vAk0Qlr3yUxA1AWbntPS+PfB1BhxtPWjxMPzf\n",
       "AJ2/1zEj23uqydf9FMUqqdcOYf9bH5Th2GQmjBXSwIMqAFw9xbhORk2AibLJw4o4SNyWXWABbBxX\n",
       "4hRoMmpappZO0oPXUT8pGghv6ToORc+Z+veqa8ag3o92k16N0+FSA4nog4EttMmIVJHbMoam1mAK\n",
       "4ki1aO8NUi9IbJdtcpoE+8lXp1rF5MfjxbAjesf/EIy9Uk3k3Dx/ChF6GIuJUEKY6Pr60pDg0FWq\n",
       "xLPSLR3DKavdIaCkoEYwtn3gWqPMYGr3r3Lwx3bDi9A36v3MlvpS4zLOisFXRF0NmgSQWFLpK+Fi\n",
       "xgfJ5t1GLumLsWDi+2ei4eaQcKPvhEJeYDOjIr9tlJa2eddph309qaOkUiUaerPdnP5ER/NLHwxc\n",
       "A00GwrQsL7mf2tEmXnAkx0bG79MhZ5Wut2eICXf/r0cawZ75yJDc9NefhN+ZCFo5fQZFHminyDfC\n",
       "LnRRE1hnB2pFz0N9UKluJ1fMKZvPT6w54cbyDY03uBf7WXqSbtuHMXBuExZU1+Jq2mj02RG5QKIk\n",
       "1Ouym2zQqjws2bD9e0Okg7QvvujOjiXMCp+JPBj1iKpqjNIBO948k1muyVZCFzwZXe1BYzW4SzYI\n",
       "oK9liWkmu8aqDfVLxkTsr0kclmhiADbhzZLNUG0ocbkAIxjhXEpbDrc+LBEp4ZZzmRErh4q2VY9Y\n",
       "cwR8enh/Rbve2UWWH0XMc5jiNINYa5QzEdrSp4KYm4ebfkR0y61IAB6YBVqOY9qGHRxfn/hc3mEC\n",
       "TLb3DokP+riONXH4lyGI1b7SARi0g/vN8o/4DY+RkjsDibFOEgeVQAFBgGd6J1rxddXZA0MpMhnn\n",
       "sfR2y2ssoyJAg5Wqy7GVfEFURH1ijTEjbfx7YrJal/n/Ft1Zqi4xEroLBilTUizJWYhBo68gAAAB\n",
       "T0GegEUVLCP/AFUv+WQhqJ9cgAt42xMpcipRmwMI3MzwePxIyW9JoiiQO/xjly8+LEiQUdQMsfu3\n",
       "j2JBup/YRpPy4gGV9yXpGUESXKljbTOJokJX4qWSsNV3+D9nuplCA5PTiyfRtv677Wzur9bHsAi+\n",
       "33jVeI3XlfEBSDWMmxnj8rPr2jnJxO4pPCk2vGgZvIoOcBl6/8S1+7H+tVusZtZ3u+6DNa8OecZZ\n",
       "Y0KWai05qE0sIsj6HsS1yj2RBhQs3pP5ULKaqDVws6+mydeA8OUAq3xODVqCm49KB2IYcaZl72/I\n",
       "Dz1zjYLdlZ4+aZChXxvzb6SME4CjdXh0BItHhnRKkaMN4lv4sII2ukOj6skTodQbXiF1kIDM+Qoy\n",
       "PQyz/lCjKqDUepapfGxT7AWG2OyDfcv/Q/e93dC0AJI8P/5LOzGYasi+Vw5ZQOGVEfx9AAAAggGe\n",
       "v3RH/wCE4BKybz+n3mpJsTmAA/evG6HqXpxjfn4oA7YxV83/4ugley5OQ9U7QZtWtmX0a30kV7Di\n",
       "WdquonELAXrmT1Be11NA9AE4QhOrcLjljKi6pvTjaGSx4sHmx8r8Ga30EDmsXk/PhfB0ZnZ5i8jG\n",
       "MVlPFnejHRiUGdrY7GAAAACQAZ6hakf/AIdUhABOafXAgyppArjhZ0U/aF7PE7nxwgA43sUI3fA+\n",
       "d5+oi8EvNb0Q+dI8u1chFOhx3VkRWeCLzCH65umzZCoPgH+89P9jZ3XS16zZnACVCYEGuMxyi2bd\n",
       "WziEMnqM7ygkIqbqV9Tt11rYMUFo0UwNg92F1CQPeZ6J3Wxa29ib1516g66Q4uxxAAAFdkGapkmo\n",
       "QWyZTAhf//6MsAEQH+2AOYeLlOP7uRv0Lervv5+7NyvbfckwPApG/8m4spxIJLKQNIrG31dHv+wm\n",
       "LP+kGGIkDSSTuY5aXnOpHPG0bjRLxXZUmBrSnuf9vvyy0L2jnERvwOvD7oXKVjyHXLbahMdqAzJj\n",
       "APOxI9HilpRB/SyAOYmrXpP8GOx/1by9PnbpaT+Sp56K98krN6GYXUcGLydL7nLbgxRJbp+V8uGi\n",
       "KQFPy45RMyuZB2RzIkdL8odxE+WtZOSn2Yq+NYWTyVjfIem/La4U6KitqQOxevonJz9FcmWl7jfr\n",
       "2horuCvhJw2dLm3mbV17Svs3GNvzr82S/mJz8EiWmQS6OUGH5qxWO/Wz4DXN0+TacZBdMiB1T5h6\n",
       "Y3UiEVdhWVG9UMKWxq6qYUtRw6CvEJbUw3+58O+3diIseNfrHgr/57BpomIfpqezEbJ6tKmHVHWz\n",
       "Frx2ixaTC6aohSa0h5w4a6QHqH1WEy9WPObRXPA/vO6CWewchbKn2C86qtfVVJgavZ3o4NZu13qM\n",
       "AUKu1+X+FayHVsWJ3MZexLL1+O/sOEY3zFvsHwcGi39n3anJaauq5mnhxEJbB6gj9fh0KwvNY0Lr\n",
       "oyU950W5R5+wQdX1/9sINW1AibULmP0j7AmLNRbAB7S10FOon4kfpLSi599mt30p8qt6nMTToGwk\n",
       "RhT3SZyHP/lFS8gXEeyJteGXNNPnPPSNGLbQMY/Xyfc/Hj6d7JH/NU2ds1G6pmoiw8Cf9nOTb4Dh\n",
       "s+c9oI8D8uktDuDXxkrJnGPSXI65lpw0K5JFfgH+ljgL3AlbPd82tiH9zknFLuD2Tbj2gBPsDS8l\n",
       "1QxA+kzHWBPqA9dy/7gX5SwGyhHfKrpY9J2WokDzpxUP/Wgfvoc8jmXRQQtusb8wcm1K2S+jqOCH\n",
       "KsDuBX36NzvnwJdvPHFXBfga8zs6+8OQkGlfk5v/itvVpL7lliN5y1DYOOjkYEVB5hsSYgOOqVPx\n",
       "6Cd0jALXzMXK7FYv+k+CNqPki+cwguRdSPMUOpYnXROLfb5I+LTpjtn5dg63/EhIiL/+GYKSrEIR\n",
       "F8hhBjocAc6Abw84ojktnwx1I5Gazitzz5XwPj++RQ0G332yMqDqr/5rEP9ExQBtdKIvnSJFBQQB\n",
       "qRJ/YbDpNpoohWKObwsqBalOQmUoIuONiU5fFOowP+h2kOjIDd0MUzaHyD7LloO9phcC/F5W+kao\n",
       "wCZnMm/3t6olsYhyGYfJwMKUQ+VA98XhrnW/TyJJdiRaUgfSCQvMD4Nie1Lf0MhCULty+R4s+NzF\n",
       "LsCWDNKBwSOkblDfqYfKugJwlIFRB4T6CEnoD1VB3ld7PjDkRKGT3Y9QG0+1D6+5nJVs2/lw8uIA\n",
       "FPlUX63sbHgZwWI8sgfshUncPrO1Fyi3RT7EgmsUkUofV8Wrzy//MRaxsrmNvgO/cCVvydT6GXM2\n",
       "ec6fjcNXT62I25+zF32wfMPqv7yE6bm5cF9PC+Iw9f7XTxWB8KLaA8OHvJ2f5ZbgSNHRStVX3slu\n",
       "LYhiZ9z1wu1gRxJbh3m5h3eS6UWJ38+ZEMDfsyLvJDcGnjw/UjSeFut760ZLgqMNWZtd5HMbpCK7\n",
       "KHxmYTj3KVuizJK3OGzulVd7zxh5bcG/kDHzzfLoVoRPC2WUG7OebEOyPSiojR9i4hjfH5XZQckA\n",
       "4EPwBmNAVK6VogQAhKQD/mq7SzYy8+29Cvjdg6oZAYykrDx3Mo8GGvNeBqxWleXf92JV+0A6vAq4\n",
       "G0w2lT5t4LKlGybHPiKAWtMf6ytB2qmTCREHvPKxTv8wRG6G2hcA7gufuQ7qHx28oQY0i3aAxzta\n",
       "lO+eSFe+xVZqK1tZyk/OLDQ98INtJLrdEAAAASNBnsRFFSwj/wBV/YyRtU6AC2sP9z3lDHAiPkNj\n",
       "BVgxUaRfLjRvhWEcASousFEpiHSKF7vE0TGk/sLz6jUVw8maUkOT18JgmMB7pqz2LM2DbJOTpw++\n",
       "YXex/xdPAXRCGOwYCnZdji2gJUDAFxPlv3KiGsbo9Anosxpsv8a2b96yTnFy5GLURvJkqxHBni1J\n",
       "+Uymy537DZ9BGQg6a/dbDuJIQIgYsKZKMSkxdvX1Pl+Z4KOdPkB2wXAC7eTeg/NIGn6bJmtXuwfL\n",
       "vHxZkJuAW5HH+mrNtRirN21Fr+NjzThCxniTuo/BjLWnNoAdmBdv9+2QmnYOi4wpBKAq6IvJRNEB\n",
       "K+fIMGy7n7K1miKMXNIg60+bVeHxktO35gwtFg6PeRZrWhcAAACAAZ7jdEf/AIaNtRAEAEmCtLWD\n",
       "h4Ky3T4ECyqkwO+BgFRsz4rcxE0dv8O76+lqd4Ac9dLo4P3YGsFxR9xn8tvlS8nIhBGwHlkpie/t\n",
       "e+r/cflawmLPrPVo/fDZSleIs2CeS5mIpvFxfYqTTe6rBZ/fwtbReEdvhHDftuOFWCV6iekAAABl\n",
       "AZ7lakf/AIaNnzPZ/0uADhLOPuxW0zkausrQwCdthEzc8ulhBpWqleFsWxVb+wDuGy4EXcoZoBMr\n",
       "11PtCFAN3S+xmU13cSQYe3iXTDfl3wu3wbukdUitCs/orxveEx95tqghCYEAAAKHQZrnSahBbJlM\n",
       "CF///oywARCfTNgCt+Fw6cHuk26+VG59d5+5410QEKIxvq/wfWF8VDIrD5CasZ3TwPbp7hUA3kyq\n",
       "IRiO6Dz9Kt7bN66/Yo6DAwj1wjqlt9RfcG7fQACQSXSpXYmMeJH2rsX+TgvHPVQVfsNXoPd4TSlF\n",
       "h721HwGhpa4uQq6o93PqxOQMXA6ugHehT9J2A4Q5Y5SkQgP/ixF6OfhfPZRZCn1b0TsS5AnQ1gN8\n",
       "3pKt+sEV9GsC0jfG8/0UezhBOUGxRiAEbta5PY/7Tf+wHiVN0pyxG6C66yHUETH88Od4grqga9mM\n",
       "1Luy7/X32uby6PlwDkPqDCQlC4J1667BXgyGU/vTgLoQKcKJfhBMjg+t8FFtaby/3lvFFS51a2tz\n",
       "kYZPSdGuUbpoQKPze060LBkS3yRzjVLssNde6O3xDQZaonTdev+4sqF9iISo3UORqLTF9TPEmYtS\n",
       "K8peLjaV/SZo/ZbrX7pst81FCTRxL/xMDyDheUMwGZGnPkau5bMtF7GGK5RWaaIwxC/iC0PsQlqh\n",
       "tr6AtZATaeIOGAtPN1a/xI7JNDTzZnVehM86VWTETsBaXYopgGKgv8+TwDD9/egSYoByt1X+a+qU\n",
       "ySHiHOMIKHNCgUYpsBQCwhqfS7POI+Xcm2USEnfCvAulx//8gNv//ht9+bEIaPlk4gcDZCacJphY\n",
       "j2uT4loW9JNDTdDao4pSuDxiM9crV9gpTddlvX3BPtQ7de4X9wCtel/VnXOYplZAY7hTW/r7oFCj\n",
       "NiC0XgRRWlzRscfX7CD1im0pJCC20mXEzW/X49xtj25ktLai/39aMTgawEcB3bn6Iht7NKwQx8de\n",
       "dZsnV/fvDIxaIp8AAATEQZsLSeEKUmUwIX/+jLABEB/tgCtUFyg+zkQG3viaHqbNeMCaH81kVE73\n",
       "n0ioK6+e+0l3p22ntJ1fVlaeELQT7jhefGcBN+JncpMoIgtcuNwgNFhpKyeZMvvdQ8kl0hMaHjqA\n",
       "2YIlu1CfEBenH7QjNaBsPI1QxWemOXZfQuyfnYA3SBp3MaBevrxDWiRmX4iOfp6B4e+DUxyXz/Zx\n",
       "ygEw7DiQBxp/rUqrntqHjLCpJZkeofYjzGoxxC+CnfN4D8qA9UA8VdgYeh5zsAXrWnR+zHyYyehN\n",
       "ki/P/U3BFCNDpltH3PcOdjo89QBpIDIhmaON4E7ipvrh35bH/DYhvZ95+6GjN/HMxWjTKVCS9gcn\n",
       "6f68b8J/hCJVs3uY73yorx+R4tkhaVmkMV4nYO8Y2/4aAylRZIuIQi1PK/8S1h34igiJptV1fDuL\n",
       "wzg2c00pT4mGD/btUSHnlTtWPtcuxDYUJZwzaT9ZbvfhS2i6JslrpuXLTkMR5neBRXEHLNU59q4m\n",
       "JefrPgSTTrLbKif+Tzz0d/H25xEHEYbUVDclvpMJydU6BMhlGpX6gNs54B4EhPWzLZej5GQkBYeU\n",
       "prnhqD055dTVsTwrVO1XLhTVv/kFgHICqDZRl4XUbgGQ1oqohUhUuh4+mDLUI9K86/l8Uhup/cLK\n",
       "H5DCSZnbhHXPAp/EP/h2WJvS4jaAOBVXbveq0y1ECdIl2q0ENX2pXfRQ86mwQ5RNb5UASrmVTdrP\n",
       "PUBo2yCtYH3BHnjOUB2JCTUk9q9COcFeRljIXYYtiSb/s8D+od3na/YQmjjEn3QenELRIB7ppTTp\n",
       "ZrL2zrBJ1+ZmSlxd4aEqW3a5eiBDyiSxMNMRUxlmLUywYOl7d2Voy3KHzsl+ND5cJQt+uQsvjUh7\n",
       "T9P0174srtNumU+MaLvaWplcPW3/ezavZPmhzOQ9q8Trfl/WZfh2JhU/2OpO6WM+unECDfEV1AVd\n",
       "mpQm6vnD7UFRLV6xv/kSHD6pac21hIwCnW5sysWeiFtuH5PN/D/rhxbs13YUpNdUy4KmW9P//2Sd\n",
       "fseJ6g9+jSJigB3llbv6U9O9I3b3d99XmRzaeUcvkxPgyN2MNT3vAc7f/VX2bQxa2EWFG23Hscc+\n",
       "DR37MFC6/pOxXaDJEC5SQeIvIoYd12dUdfV0jfezy0DpwMwFGl9+By769L/pR2EsljeyIJmGlvVW\n",
       "0exiT7yOZDPWpfFY+1xEtqkSE8wqMAlibSYTzu781ymatOgFg65ZJAstpkqepmdB0stx0jMqC98b\n",
       "seQXk7/Pf/fCaKpKOvCAs6/njLUBfpOCN8tTH6Nv8trCTYvmuDdmAgWN6nWxn+EEBqMFGzbyxet+\n",
       "cOjBpLT3PoPqP3npcShWxZO4uk+ijUn+B2ykcZpjkgBE34lg5HpbPza55GgHs4rfjlhHr85z7l7d\n",
       "QA/J7AA1fpfLO9bhHKSndX7jYB9dUq43Oj/MA70LmwkkdR2lr7rhQNn6vZ9DeTW8d+AHynh53CY2\n",
       "za3eMahFg1zVEWznms7UvFeFGLRor3/dXuQ9VfUAb2p+z5qfKWg3QVwpGVqfx4s8ESHiOo5i483i\n",
       "MuRkeJle+sq1LFvMKfWnr0bhrPg+f6IQmwS9xi6qo90XJ/ynEDgAAAEPQZ8pRTRMI/8AWOSSABwo\n",
       "81GlBdkqtehBrJX7ZkuxbYhoGWGMmlqzDsWnpjNPUSd5vCOqLmRdLcjpb7tXBaZp2+CAUm7gLO+M\n",
       "vtCghs6puZ0vG6Ge5PYipStaIPhOMQk4qc3+f0VJKoelur9BzaoK+TiFMTFDPySYEzSHse7FG3LW\n",
       "xIb/MDvpeCNnsdLOdv2lcYEbndzFM7/irN4aZIMUijI01YQpHNCzfDUgnNK+U/o+ogu/X2QIn2Ae\n",
       "VeKCpSKwjiQOa9uYnRKPn+8amI287OJzE3DU3bB2R8byBvkw1e2bjuQ3eNrvL3TWMEaPZ6HQrIWr\n",
       "9guYp62hLgij1N4IJoNJHELVBswXx47/c5YgSQAAAEcBn0h0R/8Aho20NMAENpvwPOVHkAJpE1bG\n",
       "KFLvGwZ1AtO80ez5/MuzS6mVWygq5KtEPJBlbaawWh5QrG1GBxsE2cr7tClFgQAAAEcBn0pqR/8A\n",
       "hNuXU2+Id1E5FPMjOtxU3xbRrvNVbDiGumEAKYGTsCsXKPLYDqMrPgBJz5D2cp5Zl8HMVae0RKlv\n",
       "xUNKOYJvwAAABJpBm09JqEFomUwIX//+jLABEKRbJUAI96Widt1DKAP751PGgg655b7YPor5BHCJ\n",
       "oS+x6R71An4Xkesr8ZgV7IGEwTB8Pgc4ym3PHX32CR7NA9AK8vUy983Ypyj89rCDYVwH2fgqN390\n",
       "mdMnbYZScgt0TXPVOpFAXYMawQ4Ue7Z7fmRNR8m1QANE3aFvV2tgLEcBGEgZo7l/HWr9U/nQiZ44\n",
       "xvL8JqfQmAd3p+Xu0QE40sd5UqyetWtobJ783NU6PB/AVdYw/nMdvVkYosUMicZNFmPUKRntNss7\n",
       "Lep5VeNQYDik6/7Cqb2SI1+K0MpT1eqryLLfmnY7Ti/hZKlRisianGcmReMMQrkBUewUhO9vCmaq\n",
       "rkXLY75Cfk6t2Gj5oa+m1k+JVPqieFqd0D+jVU6UeavmdHgyo9Sy5On6mMHO7LF+/f++TxIyBXfi\n",
       "iCAV9ufCdBTmhf2/1Woo9NI6M8gSx6tfV7bcURGFHaIAWtxChwhuRcDAwD0Yu6on1gxhrf79SZ5o\n",
       "MLahMUpvrHonBfNUq86HshtoDmXn7ibPwwC54/cPn2dzmDLJQPemkwInEXya7nUPM2u7fj1xHgQ4\n",
       "KMBQ3LkXjSqJVdH3gl+yS+fZV66upYhmpWyd6fZL0FoRUzdf2yDmKG3G2NBCx+miS5MEuMlfpFnW\n",
       "eHo5FcdEmDjOVSW9vCk1q/BbSGGDFzGp3M4U543TLiWPM+serL4HqQWsXONGXvPv1BFN38R1jAwH\n",
       "ikSknDUQTF5DRV5UZIRN5UuUq0M0FnAsMKvRxU0BgI1MbOy0X4XGScUvfjtvn3073LH9dJBfHANj\n",
       "90TMaadMvGwtGqzBCnRxcDrW0iQE9bLiLh3t5KY23kUbt8ZkmjflRwropHnf/9ooRZIJJdNI8wXX\n",
       "9YpJ3UiiCX13F9Fal5NUJzGrne/0rRK1jxAphU+svKRDUvjm8SXRZDGP0eA1rha+yohstPmUTHnf\n",
       "BsNV7FOMRCKQddQ1lfRh0tluqcqNP4gbFDAZWDmcbD2aSjTXYOlfFaqGAb6liVjtIopF2u1CCO5m\n",
       "vArEJxYb1fqcKWle1WCanBF7q7VyCA2EpGR7ObYBDXxAHct/jFN+ue7gRAt5xIoolTzRJsSNP1f2\n",
       "Mbw/ktoWlStahBetStYJDMDsZoyj5F1BCtkAbYSwDtj0ggmLxtAw667qjlu2rFXz/REoHwhvFNKP\n",
       "nf4wNx52F/SJL53PfiFuoiFmDOUffGnuikRlQC09Fob2a1hnroUTlSJeQHBBwc1nOYxpaUQcHLdF\n",
       "3JzrxD0sSYWDlmWqXT1YQqvcsmSsbfEgwz7WLIl2hsxT6EQ3gxWkX7glpyyO5IEQXX1ld8mO6naf\n",
       "6UFLjOm8q7NlNdic+2dnwBfVjlM+zm0vqW885U+u025GG1STntrZ0jxpnQfPSFQvMdqnGB16lHOP\n",
       "7fMxH46Na8X9rJAfOTMKuViZOYx73656l90n4W2P1Bk5ZyrhTb9RDOtqx3kwJqLII2/6f52QpkoL\n",
       "WOZQCHeZ97hDwq4gfQdFzr4ojGwasja8hEblnq1h/S6/qMyvO1UHxlzz3e1evz6kzAAAAJtBn21F\n",
       "ESwj/wBYIsfJebRSUXdm+gBYYdeUVh9Qbwcp2TpdS0rZvtu6R/Xq4RFQUwUKt9RG3QmvSpRw8bcB\n",
       "IAy/W2cNrjwuYRMNrUkpqVce/VEEYd1aKxenhFPhkwOysmWFK3eKTcaQEEZF8JIh/iYHM2flUU3y\n",
       "pS0+kopih9ZLbKZ5bmNXdkCaWIrS+ys0U/+/lO1wBcHIbwOcpwAAAEIBn4x0R/8AhNncxRfMmAEg\n",
       "jzmTNd86FBCTn67m4OoxhxbGU7bq3dIbWM8mAcXuGIPIKuvLWeXiBjWyL7hz8HW6wHMAAAAzAZ+O\n",
       "akf/AITJx3CiEETY12MjcmHIDvS+6b57cMwbFYp1hMQYUT/QQAWK/nS+fWdCZJQhAAACd0GbkEmo\n",
       "QWyZTAhf//6MsAEP1lY+JKAEd2xhV7NI/lEv7UFEB7arjAQatMzp/qIXlqe/or8yoLOPM5Ge05f1\n",
       "an4ikNucvUBlHJtAr+7CGk1lGGCsLWm9ng7CgaQV+X9RxT7QTQUyDiGOPMGpOT6emdY5iFlS1rIa\n",
       "pIws5ZNt7BOyZj0tzFkyNHFZJYeo6kzu7/KIs52uzchXK65sBGsMI8lmFApHYgq8BqziihzG8NxE\n",
       "imUOXIyPAJbPZoPG9QT1emAlhCA+8KXgi2YVVclKG17/4oyrQyIWC2wpDBkp+9zt8X5YtmceesBQ\n",
       "CA/x2vnPbK0nl9t7vLlQtgOD5pFz5eb/Owj4aA3euM09FB+p19uEj6Z1aiFhkRy0vRVk/zGxoKC5\n",
       "+ICUbGkNn7kXuL0M/tHEuygzyRS9IADrthh9VV/apqaufkgujFtqvRdLB33ti/E3PlWoH+0UZuqG\n",
       "7NU58hHYDwDskR19l/dkn/gRiGn6LGWbbjZ4NlgCkBz2Dbaj0nzZsdPSbVicjhU7M7bqoTvBPWIw\n",
       "EzxgTJ4kZc0zzCzPJxMmRBMPuu9efWdrRqg5hEoHuVtfxn0nJWXeH9bq9hFB8xpxQ2/5qQg6YHeH\n",
       "D3rqJXgIhunFS0stbSag6bmk26kHf66I5f6rnSK0ur+ydboMIEku33OGYvcLJsBCUbkpkV87wIAO\n",
       "jMMoCnLCoKkrtfiOy6XfGR4e1fjRN+JRwcpUXs1rT695P0dOhgIQY5KkAthzxhSLwyPrlCLwxMDG\n",
       "VjHGfwaHwrnoTnAcgQGMQJX62i8T34UiiDPesudjXqYe9AxTe0rBFjuWj0ypVVY6RSyhu/P7uIAA\n",
       "AAQ5QZu0SeEKUmUwIX/+jLACA4NgETABx28KAssw/GmzUcfF3zMOKAf54S39FycfDdF2cfEZhGHt\n",
       "ZcYTuZ1f7RTvoDji3tHGcBSfeiGVn6wSu8GI8JMf02Zc1B/4F7e9zYSkWVGkJQ7dPoQQVl0pyeCF\n",
       "xWjo0npnAER+sH1Q7Wgo9678oqTtvtxyD0Vjv9nyX9JEzppP+tcxVAl0AvspZdrMuQe7kTeLf39g\n",
       "SNQoxIpcBJQH6MeWPTYQhkIEbSxt2DN6XAMqUOTXcle+n95mPsUccj8+4KZebM7FIJmKk+0VAI0Z\n",
       "SliStidfViLqaJBymE+pLyhuLdwHqtspqOjXjfd1dVPE9L6gakA703wbJQsLHVjufKoTCLPn8ort\n",
       "aFCvJbhxLWBnsYDp8SXHNazvsQNHXo/K179GHL7jhEdHtFHcukW5YP1MwdIPiPnpWvVZSp/H1Jan\n",
       "w6VnHmnajbsDlplzsxbshKdSydNdCGZ5n3kzAs4JtxvvLlPU2GTJ/wK5PjqUbFUvkOikTY59nqwP\n",
       "nZ4PWn7r4b0fU8sj/R/Y62vy6NhOehyUHOJbez1iIBdG16iYqoqMq7f3eojhIjwz8KEWzNKt9mkd\n",
       "akLjpa9roHP3fymUEE4DG1ViTCVHlj54tra0U3i0Itp+kh/UQWwkuBmQNQ96v6Q5+iqo3lsvMU6C\n",
       "IyATw09+oXwFsml1f0XFBGoxyr4fAwgKT5DrgK5pGZkQeWVdsJco+dxeiB4imbbAPwpcJ/L2ibCE\n",
       "XeperZlDjwDfrXgl+xc3FSNn28uNnJH/EZ5jPhdclCcPVhw/NH431lSrTbJbs7oD0KmMaMT9GnYR\n",
       "4jrIEgY0nJlSj5dIp70mW0Yq+g9Pn4s7DGDEQIwNXc2c3iWjzIiCgNOxmbpUi8or+KEfxA8MnncL\n",
       "5kLm0jFB8pSshHyIUzJ/F6ZIWOBB1B7we2bvb1D//j6pTI6HfVrf+W5kCYaX8cdpdPLe61jV+cxO\n",
       "ZBfVLpJ2ySPWGBQ46+uBgueSwqskgH7xZh58wOjCcL+9qgZr5uHTgCXWuBJH0T/ygsz0uNICT1+0\n",
       "KI0n8/bJWhEyGJleRIh+ZAq1F7XDt4GfvMX4ZPI0Ezw8mDYDI6MrOOzx+vIgXvPyS5hQtBxQK5I/\n",
       "rpmKy0zLsQHQol863It1NCD9wJ1VzjZs7wIPccIRyHFkiO9kyDHn02i615k0VmE1z4QabqycjYtC\n",
       "bqkS5T5KB9ZuKXQcnYUekxn+tdzgLnRCMCgjpcuT4DKC2dg3gwElQHElGLYxNzV+ltChDvTP7RmO\n",
       "EcY5khY0WcPg5vV8cuYWq46f+ZVw4JpCGD0HL2D1n4rffkD9xphYmr0g7mm+L2NMd4D9DCs8KHbg\n",
       "hfAvognC9gs9mVbFLzcoyRcMQ9CjTJjwcz8R8QKu1+gFSYDCdXlSrCG5lbxZrR1KIwIE6qXu3Mhc\n",
       "GAAAAKBBn9JFNEwj/wBYPeZbQqFFqHxaAElzHiiHvwwGa1+xKoFVvaFw5gKD8m0gVe1TeqqZZl/G\n",
       "2+E6szbsTz1GRaY7IMD33T0NH6BRklOZijUGfTX9hRj18p0nFPPCPCiRw37lvdszWGDuWOuU19Ut\n",
       "xJ8/+5hILElvP461SOPKbxJZnTXzhkfyhMN/cAH5vAVyIV9MQXs/aRe/aFyT7L5Wy+6BAAAAIwGf\n",
       "8XRH/wEGGnCu3unfjeahc+ASVSWJ0So4QD3RGi2WYxomAAAAJwGf82pH/wCEyd5SD6+1cYqtmVv/\n",
       "mr4VPrQAH2YySvLjEXTWvcCFCAAABFFBm/hJqEFomUwIV//+OEAHx6+uR0A9+VtS/PQsAegwdMeT\n",
       "7RfXmHIZmTLHZTAAILAmu+/mlmzdALgz4J4N/30sNQWtvTCW1kQGe10VxbHXcv4z9cCux0pzxHQ5\n",
       "+rJpd8mGGWg2e5b1PIr/1QfPqx93Hk+xTqIR3hfgmHb4Vljk601kRK0MXrenOeUbMXQIMvlmX6Vf\n",
       "O4RaT2OZwPopKBi1VIDot0RaUr3fWPTK83KU+wPfGV4aM1Dxo5pKrBy1lEglgkiNzww5H1GR9xai\n",
       "SCqkBHXtMNcZStRbDj8yTdQEt4OcOrLyEX6v5NRtAy+cQKa1Z6ncti/TJLWM6eX33P+xFcA4OhPz\n",
       "IeditsPRLcMaIEMC6rLciFT65APDO844rTLo92keVUm6jwCwzhyg9LCMOswW3AHJrAQ50Xzn9jrT\n",
       "bxbIy9nywwkOng2+YoOJi6NVlZDUNZU9nKjqnc9gv62hMvqVUSYbAPpawePvMm2UU65VjCX4wU1O\n",
       "o8EsAQLFce6ogogpVkX3Rf7PNsepnrRqrWEH06BDsHNymLZPfZxM2ZGJZeRqF7IgjYYZSL4LuIw+\n",
       "sfEp24e+T9SMPAQeVtRIe15FEi86gBFbSrd6qfoojm8QFmTa4aIK50/FbYfV0qn9gaMBGi3hVSTv\n",
       "S+JDTje+D4UdfKR3FK8T64SN7EHumekzgSCcMJ/sQMji+On8DE+we1Gxu+26IJiYpiiqTVgjZycC\n",
       "rji0bkOiivQEe4qMEzCRRAM6neiOqnDwotHPahqXBL2wjkQ1cfuIqBviKep6jS7KNj6IJey4w6ix\n",
       "SUycK2S6a7sU/AepoEX8jFegsrkqloOLDT4V0B6JaC3RGE4bR7qF3bXy0hLQJztaYskeZU6LQaVN\n",
       "BUEbuJrTdPCwr4JOmiU8vJ4Ymju2WqJwCGC401owAOzJ1WiYS0/sIDdDAWDxwG1hqY88YtPm3Oa0\n",
       "iFCilfx+AvNLPOR+l5U9OZP82QTBR9Aal2xAFJoyfXvwzm1q90pxknOsDqvehngXlySLgPEHHj3W\n",
       "XhCcd11gyAkT8l+wi+xsX7yhtHuJx9H/rMrghGb1XXc8WiUUghJbo4nhp89MaJDjmk4OOko1xDEE\n",
       "ADoo8UfaabQQZralwzUgKhZ5ot0ltPVpwqQYr4kaiOsuBN1LjtH/6m9D6Km17yqKmYD06T50RvIM\n",
       "+7Q8mCxZyT2maKPPZ3yN2doghdsiRnWDxjADbSpYb0Ewl2fQgyut78IDyUDZ8V8tNtIIyibWTKXK\n",
       "3wa3FHwuV48euBllXs2YfLsfrhHiq+ssSRMvoJp3EennIFEWupopaqzL144gryXzUDBQ8/5xZmyW\n",
       "A5quvuj5W4yRPs9yNbEdYmdPqrmXhsxi7cqZceFhDSNRqRZyouUOpybnuMaAydut9dYugVqRZQ7r\n",
       "HbmH+zek2EH/Z/wqHYRvAnoc13foNkT8QU6NW3I7mVjwZ/gTlAN+oA/VGpeBAAAAaEGeFkURLCP/\n",
       "AFdwNB9KkTzqdVHxQ2da4fqc/+u9A1c/6eULdJFfYjRAMd9Dj7NIAcX//6vSPsAr5Vlg+0MGzYB5\n",
       "n0DpGeZAQhDyA0AEejdMvVxCn9OqOIN+4nccBBExl32kOyV+AOLzAAAAFQGeNXRH/wAnwucZ5HZV\n",
       "zy4YcAZ0wQAAABwBnjdqR/8AhmyI7ewn8NKHtmtmcDfzk+P5AJf5AAAB3kGaOUmoQWyZTAhX//44\n",
       "QAe/4+AB78sTjv0Xkf6CsBk9j6rq0NdvMgohimNMUnfujXmMd5XWgnmBJw3g9FBKhC0I9QW6to32\n",
       "Z8HM/v8FDQFZH3HRUQOBxpdQQlsZRy+1ijtA8aX754WXHdtKrvPxafEci4e0XLyMCjWvsVwFWRUU\n",
       "rdQvyxN6Za7VGr6COBGtUkqEPYkU3SOJj+dSFI0MqcF9pL8wbHCkDiH5LVQmDx53erbPbHIKXh9y\n",
       "AHKZ2Px6+bv3psdBM5wNDHQYt1dqvSsd6FkVmoJNuVv+M7XdgoFhJMFIlic7ApWM2RjS1ya5KE3u\n",
       "cUQ+DNhVmapGR4tzudo4JbUq1F00SX9ZeFr/z83StuwuLcWMflGKCN9tSvxaGJnC48uKk/sb8pih\n",
       "Ug2HAVxDW/wpoLDNetRh2nztRKgySUmB1AdJ6OWPgWmycbkwQ1SkkqDSnWeYBxuFCJ85qTnhv9rv\n",
       "fct9zmT+fqBdF39WaZA+tgsC8LogFY05AzvVvDYR7YnueCcETAjQIu9fm0Sf/5PRbw+2ulbskN8J\n",
       "tupQ5Zc1MyLbmvh/SReLFZZazWQKs7HXUMFg64QBhyGx4bvK4pcMRYjt6UxWzc28fGeg5A2iotAJ\n",
       "vBxulj5fpDAAAAIJQZpaSeEKUmUwIV/+OEAHv+XZwH5KZvOE12v6YAdI94E94AnDAG6ZETppjP+8\n",
       "npOPZ75m8bXdr4S30XAknVNsMc7JGYBGRmnQgEg56oaVC1T4xdr4B+284YUgauyuSE5o4wJzVC43\n",
       "UxjnPB7NAYp65I1p90q5baHGktZMY3oSGxLPEa7svLQehAe/4jTclU091s7/TgnRqKKNIHUDqUyE\n",
       "FElg7RqQVQGDOLxwF2mQhYXbr/sc8SWUCI0d6b6Uc4KItNZkbX2jJhINueiISikg76cPiAOfLRQ9\n",
       "7Ak9IyHyf7yzA0EHvIdTM0xC70SLiomp01C2TkEcEzPZ4XyLl8Byh0oVPd6q0xyblX0iQCeGXknj\n",
       "tt4dvekieallVXgBK4GzQjHihmkPaacx/YhsK0NMI1kokcKlFebZP+dw1QKyWFjX/sxFJ3KRQA5B\n",
       "jThZ22s0KfJ2xu0eLkvmKNfojyP3Lr/rZ5Wda/Bl1YK3sicAo2bdkPGcwsGt1DLflW6uGSTfNQws\n",
       "otPS6rt/pNgv5U9l1uCK1y11s3zuDnJH14BkNcLHYbG89sfdDlRRFeE4mn76TbR+yTxPPGyiwH6B\n",
       "gZXjLcj+lfydfZYRW5dD3YV/PyvM9Ck8FkXjB6qlVGgBPxz8RfVKXtmPxz9EmK9cal5yDHVdR0oo\n",
       "D6HWn3bmFfOclX/CAiWJPd78puMAAAHwQZp7SeEOiZTAhX/+OEAHv+PgAe9+5avwUBO7AX1QUv9D\n",
       "b1w25xlRa2/p13cS3/fS1+YvGElBiE2z8o4jpjKXFZGKwngORnebcQ4zfYtVEFledvZ5gdykPyLs\n",
       "Nffq3E7Miw6vp+w9wHX3WtnO0QSe2Al7BXsGLqy3OuQq/0aZscJC7a/rvXNraNgqPcV2OFiTj4Dl\n",
       "0hKb4mhus5kXhpCWF5cFUxTeJ5MdZEyjPI878oTYeVnY/MRAvcTBbzeOlRF7D08PZ6FA+hLe9Tuk\n",
       "GIqrc0mlMvsZl+QGLxw1WWEGP2uXyVQKwPzzt+N/UJ+mcfm0C8MAAxCgFYANAzc3BQz+OIDANp0F\n",
       "1tXUQyXIhGEVQgEoiFU+Ri7t83Of7IpQtzagpByWhaJU9keyIXz21cPDpT3wFLX5fjEJ9Z0W7TN5\n",
       "3zcrFDUR9Es3FtujLBvRAH1eH2DjLzoKJLns7yWcGmDQB3xLdyiw6lfzMr0yMK4pWDr1wy2LwU3x\n",
       "33ZeLqWCofVrxIqPg/hpM04vMlg2BVaDdfuRgD8EIKKpKiRFIWqsMk9uSZjFb+ndpdZu2YC3alLq\n",
       "5UMVkT304FOUBDBxHK3gt51kYCGi5xVwLSkFHCxmqLCGaBei/zOnlUKT7RRMJb52H08jC3zE/CaB\n",
       "WDNRfcCoYAAAAb9BmpxJ4Q8mUwIV//44QAfry9gFJO13GIqPTvYOyVgXBFFPTPQuLO9z3Rg3YR0k\n",
       "kKrWBO9dZwklwc8cAKC9SzQv4rpovDSe38ZmBT+Iw/cjU60YSDqchfva9v5ZgpQdTRlPsJAjdI5t\n",
       "yADLwFiVMQQAeCXAjqTuMgna9oDpq/wFGdWroaUlE/3djqrLqK7qxNeTe4dYh7sX2raXcpB23ir9\n",
       "6R8upw+fP8v6Nct6CcP6YETyZ7+PZxw8cRk35k1adwGjjszscdQ3VtdatSgpASOOFPS2IpnEHJ/n\n",
       "pyUIoe7wzM0j5epXr2QfOxOukYJdP6wquk38LZdWEI68zTgpbgA9D2nK3uUvev4cat6r4zEtCvZJ\n",
       "Jz8UfWqjEm/HCvb5xkhmYYsuBHwFLyvkbPB6Ymy7t2c6rYA/t5T0keBuWFbGE04ca7sUp6wbgXlm\n",
       "hucD8Uuf262UXWAUqh4ATaARd/joixAFx1yB/vtdfC5U3n4ZX7aAN4XwI6yRmgsFzU2KIKIij7QX\n",
       "Q+owktah5t+arHySIpRBL/JzNzpQzXmxR2YNtNLbeoMDT4mDz4TzdZ3y7Pfa896ahAJGcWao+t+F\n",
       "Jk0AAAGvQZq9SeEPJlMCFf/+OEAH68vYBSTuStItWwMxZ2AMiKqQKpHUGbY7L+kh1tqg1HzNtfFs\n",
       "z0HQkakeDsHO9YVY2lE+fCueqSg1K8916N471tAOlEPVWXvsYW9CXtm6bHL9nOItLkSw9nmqXugX\n",
       "HrSGEjZAB5zp0LbfXQTZjki5mTT0+Aj4oANJIDR2TTot/rV+e/zQHz1IaQwQW5JO1QS+UUMGOVeT\n",
       "X/YHFszQCTKqInjLbbmrzWw7zht9v1sRaG+DN/XKJciGUXCUsaQbkZzJ45SnNr5FNtnPgS89HN2s\n",
       "EXGe/4mxlVboyTRsw7CNZpdMkmvNOehs27JxRXEVsFBfvGBG28eqJ7oRb+jqVI4U1gvUY1WyG3lw\n",
       "5z7MdEWJIQVu6W4W78qzM0TKo1pJRbF/WAay36GZl911W9C/gZAYYzglt74QZx7/Ra1z2hrmWKBG\n",
       "xxIzNU58sWX/2j47cHtQZ7Wghbi60c3/Co3hc3rdIcTMzlG/p2/AhOrUGAM0ADpjAqajNnDJr4QL\n",
       "3VcYaeKTCNZtvvejIMDhJuHomUYJKlbGUNuVLfbrcsVyTP7jF7EAAAHSQZreSeEPJlMCFf/+OEAH\n",
       "68vYBSTsZPQyowdepIqDPA9O97kClsXyg7zzr5A6vHfdpa7lcj3IaJkXvIRsRmtVvA8aFt2hX22Y\n",
       "kloPHGiAt68dzix5a6Ncg6fkF2p+M2TOfUt7NqiIUF5dc2uCnXZ5M3sZclpw6KkLDhiBzC8ixALR\n",
       "XTk2B9jcDZsqMztPUfA4VbbHJnYdGW5xosaDwoY9bGBexn5IHoegOGcYrY+Vk9sXCyx/J/f1OS1R\n",
       "bwxcgiH12NATynFZdttD43+lxLXaYh3BjmLbS8y4GqJvazYlqyGyeO9wQZ+k7To1IR/PmWUhaiI6\n",
       "dW+ocdWC+FeYDOP9FHLd8x4LJ6gEC7ijmVYwiXeWh8HorEKXRWJuVNemptNsQU/kfKqnEwx6ep3Y\n",
       "vnTxFbtrmHdwfVXyKnK7Kf1BTnLPi5v57u+RD8v9+7UmWhD14ixRf3XgyK6iWsOopoHtBl4vIesE\n",
       "XqVdynmN3PYZeXdkSmcX22PwQDWOL4h9I7Aa2BSju/d2krLfkbVs3jvjyDJrrpITyop+bj/7rGBQ\n",
       "sIE8Lf1nIPTFxRUoBGBvls0glluXMt38cJ5dq3+UXSB9TvKP+hDwwuOpx/O/d41cv29+TAAAAZ5B\n",
       "mv9J4Q8mUwIV//44QAfrvqAIwvd0ABoaGBGXsbobLuHUHFaHKr4M0GvRTpmAc3ehG0iQFCWOG6Zx\n",
       "PRrLHKVOU/tTfiHhaVzx+vZVPmRlugHftshPSrFT00PtsJT+hap8TiyK1xxql8CLXyRSs8CfoP9T\n",
       "ZDVSXagfAprw5qNFEpjJfAAg+jIXcbHP5SsyM49NpbyCfd6iar1CGCHBp/0YRsHcUHvirIPE291N\n",
       "PcsHtNB+M4ihUsQM9szFDtZQEokVQomqaMdonWfx1TR8OQCXzWsJ4ay2osmXv3+6Sh0za56khot+\n",
       "wOixlWkl/6kwOtKxq6Q2qK1Er+UOySBVt6rNt/VHfDFaQqn6yO1sSerWfFkyPU/EPkkh55vlu3Tl\n",
       "DHbk7mbFU5iaOEV69TlSwLLMg01ctOAG6x9BtC+dSFyfZ9JPB+EDXvXvbtC24BmGCrSglF6GlYTM\n",
       "34HVtqHku4E8VgGT+6RJpd/Tg1Us2KDb1r+INT9Zjs4iTQ1KsMxV8GEIp5KR32fexVQr4J9+VrHB\n",
       "KK54YIvu3lHQrnzBaGAAAAHUQZsASeEPJlMCFf/+OEAH69DGAoZ3J656m/PGeqtU6R1HTEUxuTmw\n",
       "tUf+50tu7S87qtFMgHWm20I23bZklwe1M2Amqi5VEYjR6i6kp0wtizix0n9wE3lHQYvqOtZ61Dw7\n",
       "SljbZkoyB6zlfqOGE8sBsrgTC+0uEerqooObcohtq1ZB/IYtO/i/pWkzNzbgs3h9Fda8fQv6/624\n",
       "POuAE5S2A+rRPw0HmRo8ajClTiIBi4QQRznFkSehTLZyW75fWhTk2QNCrCNn6fjAlNnkV6csMKaV\n",
       "4O5ncN6pZ5SfbSeWnDswnOMjUyE6MBUmpbbxsx0DQ1eMIeofWRrpx8rebpDmaEvBSOZXI85eVr6D\n",
       "S239I82Sjunm817j7tTu4CK9dJQ/aAm6SW4OoFwy7jlC9RRCOYibO+z/u1F/wPWEI1wlePJxzDId\n",
       "DlwUawXJj1ksPX6y5cGri3t61EfWvNg/JxRyeS2Dicd1WLSWHCSPOheHzORQ/zmpSz0DdE3MHURj\n",
       "GxyK2HgqK0B87KAiAAjfPhzkJ6jFwDNm3llu7vMpOjwJ5nlTlkztVk0PVRnBK2p3lB/foYXUdWm+\n",
       "6IlAsUrFX+NHIGCms478K6RGQpYr78+QnaP4VFxBAAABiUGbIUnhDyZTAhX//jhAB+vL2AUk7jmX\n",
       "EWHr3yzZx+53xqL630Z7euttIlqS2Ewg44JSvg5BC3CLd9inXxJIHV856KBibAZQUbPcbXM3mmYn\n",
       "bikLJmrhmdLYjIIMzYVfDukxz5gwAGW0u/Jsn7Gchx2ZfnyiSDUlHh55oxqOcwMf6mRjNdITh0wC\n",
       "DFTw8Oh51pwkYuZIgIx1AuBplS1pPlla6RhJr0yh3dxMwCAOMrMaM7ljxJmlKQUn91LA9NIgVWcd\n",
       "xg7qH3qO+4dyf52jaW+L+MjO006l3ecMJGhakkB85BuibuOI1a6JveM/Pr/+RWIU2K/LWbY17kcO\n",
       "0L+IXqhMILGCUQN3QYujJvaJKd3AwFkMxe+ahx43gyyKMfGOsVW5od24glBStHNAYfUHKO+3U8Se\n",
       "z5w/zxb8WuesYqu3vFw0VAWQQg/ReK1R2i/s3oflcQJlLpy7qVOirg/x7UWtyzuifZS2869+0d1W\n",
       "GqxibKzXvnNEQ/F1TRJQ7rNx8Yvw5B9H8J64gAAAAXNBm0JJ4Q8mUwIV//44QAfr02cBQvzH918L\n",
       "Ps9RdHR7jQV5m6gzbGHTmEx71GOaG2qPP3qlPxQHI2mE7ykMvX7Gpa6Wp8/PmYHb9vqISfBO/9fx\n",
       "+9BuGB9/R1gd8VUpaAEEHbucqTJG6TYMPk3XZ6oIrbtuVNfkoWVpzfCyLmdXCI2V8wFPWmZ7g3wR\n",
       "hav/RRgPe1vKHKJLJdGo+bhJ+V3YgxNRL4c5jUASgxLL3XmHxSySiz0x/QVYIvDeu8QZnG55vkNG\n",
       "dNc/w93zYBhVnKJUOoyNp4M8JTnJwd/AK/bxu3GyFulovWeIjn8SaUeLsqtHNXyrOasMzMFxJ2WU\n",
       "roiZLgC8UHXzDL3jQ/wYSGJ6f4R9lM8UYiXVrg0MB1y3Oxmw585D5b0Fny+4C/S1li9HLWkoKDLn\n",
       "MVsjIWjNZcrS218ejJyjinyWBrOlJ0znbD2Ip2GBA8L8xdY6mdh7H8a8oGBvH7DNoZXRunNI2LYZ\n",
       "/hgo8QAAAUxBm2NJ4Q8mUwIV//44QAfrzdgBF+qgLTfxVBcebpoKQHr0u+IZW0fgnM0A4bA1+kZy\n",
       "iKMREk7e6BrjCW8vSakT+Mak2U0el4qtW69FG7QA0c+5CptRMM8msDVvCAxttuPR+bEk/82JarqV\n",
       "7zMUYK7RjT6CmG8TtpsSS/RiAlWl1Th7eRigQIZlQN8P0kJTlxMvlqqlA2IVoM8ziy1BJPcxtkPz\n",
       "b1wAWCMfLSwmdQcZMAjSKsth4oq6VGAXWKCXFT3qHfGOGlZXy2aiMTfiKpc2BbG8SsXYuqbUYBxs\n",
       "79nnSxAEJZakL4DIVOQHPVFbzYF+jYLJRDLVFemtSRNt+zNEH1CpFuxeJiZysdQmQJ8dPul+0UvY\n",
       "dqZONGopjoN0mGnCk8CMS3vOkpaVCTZoQC+MvH15GtJj2dJY1jIHyQhBFnvgIELeHtzYp8LU4gAA\n",
       "AYdBm4RJ4Q8mUwIV//44QAfr0MYCg9s8iAVv6vH8a4RNRRstzfQoo/HIEDDIB7QnEviGVrxnbkP+\n",
       "Dw34nqYgZe2/0nZoyfkvyqrM+VliOjIRj7K1LiEno/YFcNGL2sPjpT8+6Y6s72OVA21Su5B6TO9d\n",
       "H/a8qhGb2AoGA9Wrnrt3fMSYupg8bzLyur4aMGj0aLY+c7QE4oAX7VYfQdBS9IdiCyqvUixJ1Wav\n",
       "+223rGGosauPi3kicTbLVZujALw8TS8nq1Dd1i6jhvGcGckuYXyYUDJy9eX4CvNKJe/J/RijVml9\n",
       "GRNAxslJWAjvqfkEL8rJZA3a8u4wvRxxPaHdmXMvSscLQwroYy2LAvkO+1t020ZecsOLOpUOoQED\n",
       "sLpHw6xxQqUQg/YNzc5p8CotLya5FYIsssjiUnm544wfv9U763FIqUj4iBJPrnVWVu3P2MCH24P3\n",
       "zLAKZL+DICTliXjN7hMQvEf4XYXVU96vKjeFM3eMPJPNkxf5vNoGodmCfK+YMp38J64hAAABXkGb\n",
       "pUnhDyZTAhX//jhAB+vL2AUjexa2ubdbD9ACb4Gc5eHbc2120gGdMnCc0MKNAqYFRGBZBAb9I3SC\n",
       "tkvMNwlDwVfcno0FNhs1G3DGt+Gn3Sbm2cTA1N6e3sjSaO+WDHDcKme8gO+n02eq0FHI8EcwGvQk\n",
       "1trcv9HR1hUfbJzthPMUTd5TGm2cPfan2ArdVp2JZCegpmeRlVa8OGnYlYtHhg4UN7/oXorg8H+R\n",
       "m75oOt4akl577Ktopqluspqw8h9dcwEVhtxy6VunKimfrH6vSXypKMmRgyMliGCzNhCLfC9NXneL\n",
       "7U3tvRjglbl4TJUCD819gnLIsapjwGgkeGL8gto7xPb5C1ARYU4zOweyaUNEx4xAVucl+4H09Z3K\n",
       "Y1bg9Edo/fpPhn/8un/HHGuIwjyIRpKLFbpcP6uL1zCpVkk4bILBnyEk//gBXHmM3xwxpP6Xk3tN\n",
       "Qsi/cIF5AAABJEGbxknhDyZTAhX//jhAB+vL2ANvI97W8xJvoTIX58hCC3XWEUSU60Hl3VLOodTD\n",
       "Dqd5JQyfNmD5mgYunKbDn9fVh1Luis4h8gAeuA3+WlFKcj5FjV9YO8UkZ2qkfb8QQDENtvu6OHqN\n",
       "edlzbICmn+vxbsrjW3lk99V1iGMEsZ0itMfeR3cX70hLAx166pn8HkjAa45nwJSqVJfCFUwDtBrF\n",
       "gI7xNoo9Xvcp1GG0LAEaxfkn3fm00lxBtDTKSlz1+ZY3JDT2t6DnG0cUpefsgakxoEjv0J8UJQ36\n",
       "HFOc3OpWXNzQ93eCg2YkcsnAve0ADqkkTCEdMcJyNjZ/VH7Q/oeCPu5B2mbi+1i9D89yv9GxmmLj\n",
       "rkSlzv2JPCrmFotBQz7iNDEAAAE5QZvnSeEPJlMCFf/+OEAH683YANuwnN2++ZoGx1qeDF2gdZeD\n",
       "SjJXDOYDRgd8ATAqL22KlMkDuxJGJ/6lX0jlM7Qn/jZsooc1HAFQ0+1f7chXTuWuuSnsbN8uBWd3\n",
       "FtGjj4YOTvYBpaNIyqL4T9xCgilHqsCzZ43YlCSgvCwiuBNtqFtRVQ6PwoeUrs9pygL+FaQc0Lrk\n",
       "nEVew5sstnFOSR9S+rv8FvT76Jy8VmGvmtClMsERgjQqi6Ym8VPigAEpwoMrVjlIJETJfxWxS+bM\n",
       "vn7Apk4gzEauXGbSEhUAlWlRBVOq8gN0Qzw+7prFuPwo1Jkr9ahWgAfaU1pFP8tYa2qfEHuRJrH7\n",
       "Xpo9W/WFWP6HflRGyDARnrK+HkIIasNhw6hqNheAsuQbh4AO8FNnWpX4oPJV/cNF4QAAATRBmghJ\n",
       "4Q8mUwIV//44QAfry9gDb8M4rZkZvSMTzhgkGk0ajAO9Sr1sV+6VyaljgSf0IXpZ5MBKP0KWErjT\n",
       "YE5Uo94RX8YctgXNuLDp8UklJtJ8b4JaTMI2h48NAKRnISwtob7TSfEM3E1CqYY7mOrHesebGVuA\n",
       "rmkAC9Jy/qel+kmqpURgKdlWlFg5dajvj5MFTPubjRHwqwbefRY0p+3WVKnpZ7VRQIGbEprBNS4c\n",
       "kvEyVH8bLK/jT6A/CYD/dqsoK4GCayZ7tNILj/QQAEZQBE/c/9UOgN7kHYI2siG+LVG8WUws6ecL\n",
       "hLbSeXcGJi39+DG1cjVKsyNYlSJHAL4MqaFjgct7tD5QpOoVCSLB1kempGgofdMbPaqOVyi3UVE7\n",
       "78377a91+9smBFxZ2pXhn5lqTAAAAQRBmilJ4Q8mUwIX//6MsAIQONwCKxr476mLvBKQdvdQLHvG\n",
       "+7JtsYMPcfDWG+amWnvXLC7rw0uxPf632rA0kg6nEJqyfvQN1KT6htpP1Veg++xCkZOhJYvGeXdf\n",
       "8kOmoQyCDbr1CpCeh3p3WK90ca4HsvaNeo56y5YHft6pJM500uMutDbAvIaO1w8DtTl5iEt59tbf\n",
       "RJE10u/RjhUJe3lfLY9kDwnGaqn9+GXpGPDC/7RCJAmLg9q+su+tZN5F1ax14WcqCtjVuZ2pvDo2\n",
       "+QZugqraZnfHBg14pi397/i8LC8M0Zghnv9O0FHbeZ9DQODoIMPZZjYkXRuLCDy7y5Qz9CVJgAAA\n",
       "ATFBmkpJ4Q8mUwIX//6MsAIARzbANOGEhs0Up/KR/TclGIxoTUurtFFDubqdw5VnHxZTVmEhTm/M\n",
       "qgusvEweSH66KgsIzce33lecoCwQKnK4gDKXh6jl40gbcy1ZZuBYgVOknT6sHZIjH0bXohOUmKTf\n",
       "JdCqNXgsCKvWd2ECTw5HZj8wgF2Yf7wI0Fw7cRMkD+t4k1MfATOaYvK18rOzV6Vp4LNLSut7VwT2\n",
       "/LeNiyvtKyZWf5Y+jWy7ZKhjayeJnm4CU4kW8sNydLEMYOyAKIagOcj2mkdWAlqIRj4njaa3z0CJ\n",
       "ZwHM5vt/h4GSnxODpS8EXdtLof8NwcDIsFvGwnBqRdcnPfajZkcxCAKFMlHEZsaNviqwF78gsuJ9\n",
       "5mki72kTafY1M1PIlI6a5wV6M+8qcQAAAjFBmm5J4Q8mUwIX//6MsAIQP9sAmvh1E7AnKXagauPm\n",
       "zKG6ozb3kkuggHRWH9rNYcX+Wkq0q/sQB5IaavnlSUGI1DQexhNI/N8S844mIy9VhTIPM54s5dis\n",
       "cdhwZMSKcpFmb5ehaxHEEqtbVQLRM9xdkLLBCA9zgk+lFFGkdtt+T9MdiohoGWymAHRBphIV4KyD\n",
       "n1f6AKTXrJC+s+v5T6/4GlhmSYnM/5w+VLR3taQsOruoJfoVFXdV9AYD0eHyZ1ccE0qM63mJYr+h\n",
       "6H4YEG354mQo61HIffRxiW2nzZBpCUC9pBc4+q9f+omjEtn29aSyOpXio3REio05nuG7jLUJZ4lf\n",
       "9mfI6uMalIJ/87QykXY7tzWBZeD3kLRTUOt9CPNTpLSAc719Ja+RBUXPr4JI9oVRI3Y0OE8rzuhg\n",
       "Q8rKOS5uk06nJ98QC4eGvyJkxpXoAhlvUueVOmNtj0HX3pwQiK6MURenW4KkY39d3gCQNEeMWT3P\n",
       "4XhK1q9SUeCm+15aHT4nn8oaf7HDl0YqyHaq7QtNzMg9+lEe46D0wGVpqgYOVRqSU+SLCfabA4vA\n",
       "/bE+IwboQq6myzdEC3s6FkqZT5FO2d77x8Tk5fTxsSdYxutb8aMFdcGeqcqwBcQ/8mW0iYAEKwBP\n",
       "7N0a6S8C1VXCMNDlb6IZlB2ZfbHsOd+nIKsuSFdHaocYrY2xLqqNVVyPPdZKupRbSuVMDS+3IG6d\n",
       "ysfbY2JhEr3IrvWTxfvSJyAAAAAgQZ6MRRE8I/8AWtWSjesXOwWxZbFPrEMhXyzJxaeaH8AAAAAW\n",
       "AZ6rdEf/AEdYlcQCwFFOf1zNm43b0QAAABIBnq1qR/8AJ9mscof16s44oxkAAAB/QZqvSahBaJlM\n",
       "CGf//p4QAQ0pTRwAjFtwVYn89mFR4LZLRpqfnTSBbr8YcwIbDs+3Rd6VA3z1dQv4n0H+avpvOeY2\n",
       "wUtOFvL8QHI8ygBp/Mi8bHl6ONv79aAcBpEMXwH7VYbDKULeNz/b9h4B4KC8TXhJ8IAPR1cvh0hu\n",
       "qIwLuQAAAeVBmtNJ4QpSZTAhf/6MsAIQP9sAcvzZUJi192Yyhc+wP4nu0tWdCBkymISI74vdeit+\n",
       "/GTuNDGsxb1QM8WCY5dQT1zakRg7SVwdqZF96zwed1Y8Xw1pZsXFMglvAgTz8R1qr/Ffa0CILh8u\n",
       "SNCvJmEJDFc7l23C7+R1cKHnQeMCy1pwD0IL7WJs1AZKctfo2vOplYb1OY33N+8D792078snkzA6\n",
       "my7/uAjIcz4aQkcylLYzqYVVVWRzruv5ig5EVnmihxJsxANffbD7TV4raKDCCZ3ax2bC5rLG6eAi\n",
       "i+cx+AHf7b7WOdTYxtUZZkc3IrYGdZHXxjZK715VCn2MGv8Ygf6MLJkqJz/BHL9hpE0hAPeYJJBb\n",
       "hLEuOBu5sVrKU418YUGLeW+Y3ed00gT6+3/2+fiUHaaRrFHZKA6+0ulQIkmXjSutsV+qv0fwLsCl\n",
       "5dyJSUz30oMpSLtFVUwQls7w3bcKi0kyQiLKeb+1JvJQxi5+iVp0eRoJhti1r2RAIKyByMmHWeQI\n",
       "AX6YYnEtww9cvqnYpkF0OT7ZXCvOBpYKXDpWaExODO65jXU2UrOboyxu12FKCmmEWT7GtoJDjrk8\n",
       "43C3jqE7HsI4TWeC1hIQWCislTmv7WJC5i7PzkbPFGESsR5G4AAAAB1BnvFFNEwj/wCsqVp8DyZg\n",
       "v8AGbR0Bb+gebCDLgAAAABYBnxB0R/8AJ8MvblrUXvMK1xUZA4z5AAAADAGfEmpH/wAn2awhlwAA\n",
       "ARJBmxdJqEFomUwIX//+jLACAEazgBvM+vyKpjfMGOfv/1uXrs9WNqmfXUI5A9qAt328rzj4+rhw\n",
       "2hkSo1Qi8BVBV0QHmjdUdWuUbCjbCraz2mvNkjCYx2nH8Dnogk0mEH5HJoTOPV7QyL6VqgPUnKvA\n",
       "QtkQTxQb3AUI1PSYolI6kDNQkAHVtonTCEMgsRasHpjqdsdVXz83MV2YEO8PaYHhOvYA8hU3X2Gn\n",
       "Mx8SbD74FD+oO9H6VrewOcjt89QxtiTa+G96Nu7xfZ0gVDwFBflHNTNfMQlHZiTFq+t5idWjfkqN\n",
       "Y6TdCKOZFZ+V5eVfJbzEzO5m74/Q9c+a51xcuyeFEJfduOu/kJMv2NF69trsIIkOAAAAE0GfNUUR\n",
       "LCP/ABkt4UDhTie5PyEAAAAOAZ9UdEf/AEdYlcO34akAAAAMAZ9Wakf/ACfZrCGXAAABAEGbW0mo\n",
       "QWyZTAhf//6MsAIQQNGAEYGlKGDucEzna59Jg3JptqtySoK3O11QL+lmoJV6U6TVY2+fhFJqUK1Q\n",
       "KrDm5Dc3MK70TAZRO1R2RdUtOdNA5WQQeNeo9klOH1rMhCm2ogzrMaOYsTG2wS2PKf07mdQqS9Lz\n",
       "QR3oCe+5AUAOvOyLSezDyp3M6omAwgFSfGM+oNfZj0Uksh9s2YvxpLjfONaFex8eWsbE4YBMowV1\n",
       "NJBcYDIB3NAM/vdN2Dm8tDN1MyL2embLuXkhdTDN/U50KlgttgZOTLPrPyfybd8UN8ryj50nSJgz\n",
       "K8Ph8BHjxa1J+Hesl7NTc6o2MvKUMf8AAAAYQZ95RRUsI/8ALWrM/ZsQi+YPxqrSD+QcAAAADAGf\n",
       "mHRH/wAnwuRRywAAAAwBn5pqR/8AJ9msIZcAAABBQZufSahBbJlMCFf//jhAA/TLLHmgAONcl7DI\n",
       "WKSiYH0OeAlItNJAQrfjCJjCnvkN/0sgomeczJ7yO0tFhmRfwOEAAAARQZ+9RRUsI/8AGS3hQN93\n",
       "lBEAAAANAZ/cdEf/ACfCk2uBOwAAAAwBn95qR/8AJ9msIZcAAAASQZvDSahBbJlMCP/8hAAAAwGz\n",
       "AAAAEUGf4UUVLCP/ABkt4UDfd5QQAAAADAGeAHRH/wAnwuRRywAAAAwBngJqR/8AJ9msIZcAAAcu\n",
       "bW9vdgAAAGxtdmhkAAAAAAAAAAAAAAAAAAAD6AAAB9AAAQAAAQAAAAAAAAAAAAAAAAEAAAAAAAAA\n",
       "AAAAAAAAAAABAAAAAAAAAAAAAAAAAABAAAAAAAAAAAAAAAAAAAAAAAAAAAAAAAAAAAAAAAAAAgAA\n",
       "Blh0cmFrAAAAXHRraGQAAAADAAAAAAAAAAAAAAABAAAAAAAAB9AAAAAAAAAAAAAAAAAAAAAAAAEA\n",
       "AAAAAAAAAAAAAAAAAAABAAAAAAAAAAAAAAAAAABAAAAAAbAAAAEgAAAAAAAkZWR0cwAAABxlbHN0\n",
       "AAAAAAAAAAEAAAfQAAACAAABAAAAAAXQbWRpYQAAACBtZGhkAAAAAAAAAAAAAAAAAAAyAAAAZABV\n",
       "xAAAAAAALWhkbHIAAAAAAAAAAHZpZGUAAAAAAAAAAAAAAABWaWRlb0hhbmRsZXIAAAAFe21pbmYA\n",
       "AAAUdm1oZAAAAAEAAAAAAAAAAAAAACRkaW5mAAAAHGRyZWYAAAAAAAAAAQAAAAx1cmwgAAAAAQAA\n",
       "BTtzdGJsAAAAs3N0c2QAAAAAAAAAAQAAAKNhdmMxAAAAAAAAAAEAAAAAAAAAAAAAAAAAAAAAAbAB\n",
       "IABIAAAASAAAAAAAAAABAAAAAAAAAAAAAAAAAAAAAAAAAAAAAAAAAAAAAAAAAAAAGP//AAAAMWF2\n",
       "Y0MBZAAe/+EAGGdkAB6s2UGwloQAAAMABAAAAwGQPFi2WAEABmjr48siwAAAABx1dWlka2hA8l8k\n",
       "T8W6OaUbzwMj8wAAAAAAAAAYc3R0cwAAAAAAAAABAAAAZAAAAQAAAAAUc3RzcwAAAAAAAAABAAAA\n",
       "AQAAAoBjdHRzAAAAAAAAAE4AAAABAAACAAAAAAEAAAUAAAAAAQAAAgAAAAABAAAAAAAAAAEAAAEA\n",
       "AAAABgAAAgAAAAABAAAFAAAAAAEAAAIAAAAAAQAAAAAAAAABAAABAAAAAAEAAAUAAAAAAQAAAgAA\n",
       "AAABAAAAAAAAAAEAAAEAAAAAAQAABQAAAAABAAACAAAAAAEAAAAAAAAAAQAAAQAAAAABAAAFAAAA\n",
       "AAEAAAIAAAAAAQAAAAAAAAABAAABAAAAAAEAAAUAAAAAAQAAAgAAAAABAAAAAAAAAAEAAAEAAAAA\n",
       "AQAABQAAAAABAAACAAAAAAEAAAAAAAAAAQAAAQAAAAABAAAFAAAAAAEAAAIAAAAAAQAAAAAAAAAB\n",
       "AAABAAAAAAEAAAIAAAAAAQAABQAAAAABAAACAAAAAAEAAAAAAAAAAQAAAQAAAAABAAAFAAAAAAEA\n",
       "AAIAAAAAAQAAAAAAAAABAAABAAAAAAEAAAIAAAAAAQAABQAAAAABAAACAAAAAAEAAAAAAAAAAQAA\n",
       "AQAAAAABAAAFAAAAAAEAAAIAAAAAAQAAAAAAAAABAAABAAAAABIAAAIAAAAAAQAABQAAAAABAAAC\n",
       "AAAAAAEAAAAAAAAAAQAAAQAAAAABAAACAAAAAAEAAAUAAAAAAQAAAgAAAAABAAAAAAAAAAEAAAEA\n",
       "AAAAAQAABQAAAAABAAACAAAAAAEAAAAAAAAAAQAAAQAAAAABAAAFAAAAAAEAAAIAAAAAAQAAAAAA\n",
       "AAABAAABAAAAAAEAAAUAAAAAAQAAAgAAAAABAAAAAAAAAAEAAAEAAAAAAQAABQAAAAABAAACAAAA\n",
       "AAEAAAAAAAAAAQAAAQAAAAAcc3RzYwAAAAAAAAABAAAAAQAAAGQAAAABAAABpHN0c3oAAAAAAAAA\n",
       "AAAAAGQAAB1TAAAEIQAAAYYAAAFPAAAA5gAAAk0AAAIKAAABzgAAAccAAAINAAABugAAA2kAAAFZ\n",
       "AAAA2QAAALIAAARWAAABZAAAAKEAAACdAAAENgAAAXYAAADCAAAAwgAABIYAAAGMAAAA0AAAALIA\n",
       "AAVMAAABkQAAAMAAAACkAAAFRAAAAVMAAACGAAAAlAAABXoAAAEnAAAAhAAAAGkAAAKLAAAEyAAA\n",
       "ARMAAABLAAAASwAABJ4AAACfAAAARgAAADcAAAJ7AAAEPQAAAKQAAAAnAAAAKwAABFUAAABsAAAA\n",
       "GQAAACAAAAHiAAACDQAAAfQAAAHDAAABswAAAdYAAAGiAAAB2AAAAY0AAAF3AAABUAAAAYsAAAFi\n",
       "AAABKAAAAT0AAAE4AAABCAAAATUAAAI1AAAAJAAAABoAAAAWAAAAgwAAAekAAAAhAAAAGgAAABAA\n",
       "AAEWAAAAFwAAABIAAAAQAAABBAAAABwAAAAQAAAAEAAAAEUAAAAVAAAAEQAAABAAAAAWAAAAFQAA\n",
       "ABAAAAAQAAAAFHN0Y28AAAAAAAAAAQAAACwAAABidWR0YQAAAFptZXRhAAAAAAAAACFoZGxyAAAA\n",
       "AAAAAABtZGlyYXBwbAAAAAAAAAAAAAAAAC1pbHN0AAAAJal0b28AAAAdZGF0YQAAAAEAAAAATGF2\n",
       "ZjU2LjQwLjEwMQ==\n",
       "\">\n",
       "  Your browser does not support the video tag.\n",
       "</video>"
      ],
      "text/plain": [
       "<matplotlib.animation.FuncAnimation at 0x7f8002627198>"
      ]
     },
     "execution_count": 25,
     "metadata": {},
     "output_type": "execute_result"
    }
   ],
   "source": [
    "from matplotlib import animation, rc \n",
    "rc('animation', html='html5')\n",
    "\n",
    "a_hat = nn.Parameter(tensor(-1.,1))\n",
    "\n",
    "fig = plt.figure()\n",
    "plt.scatter(x[:,0], y, c='orange')\n",
    "line, = plt.plot(x[:,0], x@a_hat)\n",
    "plt.close()\n",
    "\n",
    "def animate(i):\n",
    "    update()\n",
    "    line.set_ydata(x@a_hat)\n",
    "    return line,\n",
    "\n",
    "animation.FuncAnimation(fig, animate, np.arange(0, 100), interval=20)\n"
   ]
  },
  {
   "cell_type": "markdown",
   "metadata": {},
   "source": [
    "---"
   ]
  },
  {
   "cell_type": "markdown",
   "metadata": {
    "collapsed": true
   },
   "source": [
    "#### If you get a `KeyError` like this\n",
    "\n",
    "![Imgur](https://i.imgur.com/drMN2nv.png)\n",
    "\n",
    "Fix: install `ffmpeg`\n",
    "\n",
    "```bash\n",
    "!sudo apt-get install -y ffmpeg\n",
    "```"
   ]
  },
  {
   "cell_type": "code",
   "execution_count": null,
   "metadata": {},
   "outputs": [],
   "source": []
  }
 ],
 "metadata": {
  "kernelspec": {
   "display_name": "Python 3",
   "language": "python",
   "name": "python3"
  },
  "language_info": {
   "codemirror_mode": {
    "name": "ipython",
    "version": 3
   },
   "file_extension": ".py",
   "mimetype": "text/x-python",
   "name": "python",
   "nbconvert_exporter": "python",
   "pygments_lexer": "ipython3",
   "version": "3.7.2"
  }
 },
 "nbformat": 4,
 "nbformat_minor": 2
}
